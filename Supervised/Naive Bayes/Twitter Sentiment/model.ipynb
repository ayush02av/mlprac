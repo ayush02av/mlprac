{
 "cells": [
  {
   "cell_type": "markdown",
   "id": "c8de3258",
   "metadata": {},
   "source": [
    "# Loading"
   ]
  },
  {
   "cell_type": "code",
   "execution_count": 1,
   "id": "3c51b7e3",
   "metadata": {},
   "outputs": [],
   "source": [
    "import pandas as pd\n",
    "import numpy as np\n",
    "from nltk import word_tokenize"
   ]
  },
  {
   "cell_type": "code",
   "execution_count": 2,
   "id": "78101fb2",
   "metadata": {},
   "outputs": [],
   "source": [
    "df = pd.read_csv('data.csv')"
   ]
  },
  {
   "cell_type": "code",
   "execution_count": 3,
   "id": "f8dac70e",
   "metadata": {},
   "outputs": [
    {
     "data": {
      "text/html": [
       "<div>\n",
       "<style scoped>\n",
       "    .dataframe tbody tr th:only-of-type {\n",
       "        vertical-align: middle;\n",
       "    }\n",
       "\n",
       "    .dataframe tbody tr th {\n",
       "        vertical-align: top;\n",
       "    }\n",
       "\n",
       "    .dataframe thead th {\n",
       "        text-align: right;\n",
       "    }\n",
       "</style>\n",
       "<table border=\"1\" class=\"dataframe\">\n",
       "  <thead>\n",
       "    <tr style=\"text-align: right;\">\n",
       "      <th></th>\n",
       "      <th>id</th>\n",
       "      <th>label</th>\n",
       "      <th>tweet</th>\n",
       "    </tr>\n",
       "  </thead>\n",
       "  <tbody>\n",
       "    <tr>\n",
       "      <th>0</th>\n",
       "      <td>1</td>\n",
       "      <td>0</td>\n",
       "      <td>@user when a father is dysfunctional and is s...</td>\n",
       "    </tr>\n",
       "    <tr>\n",
       "      <th>1</th>\n",
       "      <td>2</td>\n",
       "      <td>0</td>\n",
       "      <td>@user @user thanks for #lyft credit i can't us...</td>\n",
       "    </tr>\n",
       "    <tr>\n",
       "      <th>2</th>\n",
       "      <td>3</td>\n",
       "      <td>0</td>\n",
       "      <td>bihday your majesty</td>\n",
       "    </tr>\n",
       "    <tr>\n",
       "      <th>3</th>\n",
       "      <td>4</td>\n",
       "      <td>0</td>\n",
       "      <td>#model   i love u take with u all the time in ...</td>\n",
       "    </tr>\n",
       "    <tr>\n",
       "      <th>4</th>\n",
       "      <td>5</td>\n",
       "      <td>0</td>\n",
       "      <td>factsguide: society now    #motivation</td>\n",
       "    </tr>\n",
       "  </tbody>\n",
       "</table>\n",
       "</div>"
      ],
      "text/plain": [
       "   id  label                                              tweet\n",
       "0   1      0   @user when a father is dysfunctional and is s...\n",
       "1   2      0  @user @user thanks for #lyft credit i can't us...\n",
       "2   3      0                                bihday your majesty\n",
       "3   4      0  #model   i love u take with u all the time in ...\n",
       "4   5      0             factsguide: society now    #motivation"
      ]
     },
     "execution_count": 3,
     "metadata": {},
     "output_type": "execute_result"
    }
   ],
   "source": [
    "df.head()"
   ]
  },
  {
   "cell_type": "markdown",
   "id": "1c70b5f5",
   "metadata": {},
   "source": [
    "# Processing"
   ]
  },
  {
   "cell_type": "code",
   "execution_count": 4,
   "id": "1305f5f3",
   "metadata": {},
   "outputs": [
    {
     "data": {
      "text/plain": [
       "' @user when a father is dysfunctional and is so selfish he drags his kids into his dysfunction.   #run'"
      ]
     },
     "execution_count": 4,
     "metadata": {},
     "output_type": "execute_result"
    }
   ],
   "source": [
    "df.tweet[0]"
   ]
  },
  {
   "cell_type": "code",
   "execution_count": 5,
   "id": "d61d0617",
   "metadata": {},
   "outputs": [],
   "source": [
    "df.tweet = df.tweet.str.replace('@user', '')\n",
    "df.tweet = df.tweet.replace('[^a-zA-Z0-9% ]', '', regex = True)\n",
    "df.tweet = df.tweet.str.strip()\n",
    "\n",
    "def tokenize(tweet):\n",
    "    return ' '.join(word_tokenize(tweet))\n",
    "\n",
    "df['tweet'] = df.tweet.apply(tokenize)"
   ]
  },
  {
   "cell_type": "code",
   "execution_count": 6,
   "id": "f82dc26c",
   "metadata": {},
   "outputs": [
    {
     "data": {
      "text/plain": [
       "'when a father is dysfunctional and is so selfish he drags his kids into his dysfunction run'"
      ]
     },
     "execution_count": 6,
     "metadata": {},
     "output_type": "execute_result"
    }
   ],
   "source": [
    "df.tweet[0]"
   ]
  },
  {
   "cell_type": "code",
   "execution_count": 7,
   "id": "c3fb5fe2",
   "metadata": {},
   "outputs": [],
   "source": [
    "df = df[['tweet', 'label']]"
   ]
  },
  {
   "cell_type": "markdown",
   "id": "830629d7",
   "metadata": {},
   "source": [
    "# Splitting"
   ]
  },
  {
   "cell_type": "code",
   "execution_count": 8,
   "id": "58ccab0c",
   "metadata": {},
   "outputs": [],
   "source": [
    "from sklearn.model_selection import train_test_split"
   ]
  },
  {
   "cell_type": "code",
   "execution_count": 9,
   "id": "ced1124b",
   "metadata": {},
   "outputs": [],
   "source": [
    "x_train, x_test, y_train, y_test = train_test_split(\n",
    "    df['tweet'],\n",
    "    df['label'],\n",
    "    test_size = 0.28,\n",
    "    random_state = 40\n",
    ")"
   ]
  },
  {
   "cell_type": "markdown",
   "id": "07c72328",
   "metadata": {},
   "source": [
    "# Vectorizing"
   ]
  },
  {
   "cell_type": "markdown",
   "id": "ace70799",
   "metadata": {},
   "source": [
    "#### 1. Bag of Words"
   ]
  },
  {
   "cell_type": "code",
   "execution_count": 10,
   "id": "eba7669d",
   "metadata": {},
   "outputs": [],
   "source": [
    "from sklearn.feature_extraction.text import CountVectorizer"
   ]
  },
  {
   "cell_type": "code",
   "execution_count": 11,
   "id": "3db17f42",
   "metadata": {},
   "outputs": [],
   "source": [
    "vectorizer_bog = CountVectorizer(ngram_range = (2, 2))"
   ]
  },
  {
   "cell_type": "code",
   "execution_count": 12,
   "id": "248e21fa",
   "metadata": {},
   "outputs": [
    {
     "data": {
      "text/plain": [
       "CountVectorizer(ngram_range=(2, 2))"
      ]
     },
     "execution_count": 12,
     "metadata": {},
     "output_type": "execute_result"
    }
   ],
   "source": [
    "vectorizer_bog.fit(df['tweet'])"
   ]
  },
  {
   "cell_type": "code",
   "execution_count": 13,
   "id": "59992278",
   "metadata": {},
   "outputs": [],
   "source": [
    "train_bog = vectorizer_bog.transform(x_train)\n",
    "test_bog = vectorizer_bog.transform(x_test)"
   ]
  },
  {
   "cell_type": "code",
   "execution_count": 14,
   "id": "5df39eb1",
   "metadata": {},
   "outputs": [
    {
     "data": {
      "text/plain": [
       "array(['0000001 polluting', '00027 photooftheday', '01 blog', ...,\n",
       "       'zz plans', 'zzz just', 'zzzzzzzz be'], dtype=object)"
      ]
     },
     "execution_count": 14,
     "metadata": {},
     "output_type": "execute_result"
    }
   ],
   "source": [
    "vectorizer_bog.get_feature_names_out()"
   ]
  },
  {
   "cell_type": "markdown",
   "id": "f4138ce0",
   "metadata": {},
   "source": [
    "#### 2. Term Frequency - Invert Document Frequency"
   ]
  },
  {
   "cell_type": "code",
   "execution_count": 15,
   "id": "ce85e8d0",
   "metadata": {},
   "outputs": [],
   "source": [
    "from sklearn.feature_extraction.text import TfidfVectorizer"
   ]
  },
  {
   "cell_type": "code",
   "execution_count": 16,
   "id": "2bff6fc6",
   "metadata": {},
   "outputs": [],
   "source": [
    "vectorizer_tfidf = TfidfVectorizer(ngram_range = (2, 2))"
   ]
  },
  {
   "cell_type": "code",
   "execution_count": 17,
   "id": "1a169c86",
   "metadata": {},
   "outputs": [
    {
     "data": {
      "text/plain": [
       "TfidfVectorizer(ngram_range=(2, 2))"
      ]
     },
     "execution_count": 17,
     "metadata": {},
     "output_type": "execute_result"
    }
   ],
   "source": [
    "vectorizer_tfidf.fit(df['tweet'])"
   ]
  },
  {
   "cell_type": "code",
   "execution_count": 18,
   "id": "e4c6e0b7",
   "metadata": {},
   "outputs": [],
   "source": [
    "train_tfidf = vectorizer_tfidf.transform(x_train)\n",
    "test_tfidf = vectorizer_tfidf.transform(x_test)"
   ]
  },
  {
   "cell_type": "code",
   "execution_count": 19,
   "id": "d6e18eaf",
   "metadata": {},
   "outputs": [
    {
     "data": {
      "text/plain": [
       "array(['0000001 polluting', '00027 photooftheday', '01 blog', ...,\n",
       "       'zz plans', 'zzz just', 'zzzzzzzz be'], dtype=object)"
      ]
     },
     "execution_count": 19,
     "metadata": {},
     "output_type": "execute_result"
    }
   ],
   "source": [
    "vectorizer_tfidf.get_feature_names_out()"
   ]
  },
  {
   "cell_type": "markdown",
   "id": "c7ef2577",
   "metadata": {},
   "source": [
    "# Training"
   ]
  },
  {
   "cell_type": "code",
   "execution_count": 20,
   "id": "1be2ca42",
   "metadata": {},
   "outputs": [],
   "source": [
    "from sklearn.naive_bayes import MultinomialNB"
   ]
  },
  {
   "cell_type": "markdown",
   "id": "d3ffb259",
   "metadata": {},
   "source": [
    "#### 1. Bag of Words"
   ]
  },
  {
   "cell_type": "code",
   "execution_count": 21,
   "id": "2d0d2787",
   "metadata": {},
   "outputs": [],
   "source": [
    "model_bog = MultinomialNB()"
   ]
  },
  {
   "cell_type": "code",
   "execution_count": 22,
   "id": "c28d02d3",
   "metadata": {},
   "outputs": [
    {
     "data": {
      "text/plain": [
       "MultinomialNB()"
      ]
     },
     "execution_count": 22,
     "metadata": {},
     "output_type": "execute_result"
    }
   ],
   "source": [
    "model_bog.fit(train_bog, y_train)"
   ]
  },
  {
   "cell_type": "markdown",
   "id": "de304bdd",
   "metadata": {},
   "source": [
    "#### 2. TF-IDF"
   ]
  },
  {
   "cell_type": "code",
   "execution_count": 23,
   "id": "331640d7",
   "metadata": {},
   "outputs": [],
   "source": [
    "model_tfidf = MultinomialNB()"
   ]
  },
  {
   "cell_type": "code",
   "execution_count": 24,
   "id": "eaa067eb",
   "metadata": {},
   "outputs": [
    {
     "data": {
      "text/plain": [
       "MultinomialNB()"
      ]
     },
     "execution_count": 24,
     "metadata": {},
     "output_type": "execute_result"
    }
   ],
   "source": [
    "model_tfidf.fit(train_tfidf, y_train)"
   ]
  },
  {
   "cell_type": "markdown",
   "id": "6b82efb8",
   "metadata": {},
   "source": [
    "# Testing"
   ]
  },
  {
   "cell_type": "code",
   "execution_count": 25,
   "id": "cdc9b93e",
   "metadata": {},
   "outputs": [],
   "source": [
    "from sklearn.metrics import accuracy_score"
   ]
  },
  {
   "cell_type": "code",
   "execution_count": 26,
   "id": "42b47a34",
   "metadata": {},
   "outputs": [
    {
     "data": {
      "text/plain": [
       "0.7760893854748603"
      ]
     },
     "execution_count": 26,
     "metadata": {},
     "output_type": "execute_result"
    }
   ],
   "source": [
    "accuracy_score(y_test, model_bog.predict(test_bog))"
   ]
  },
  {
   "cell_type": "code",
   "execution_count": 27,
   "id": "046187f5",
   "metadata": {},
   "outputs": [
    {
     "data": {
      "text/plain": [
       "0.9420111731843576"
      ]
     },
     "execution_count": 27,
     "metadata": {},
     "output_type": "execute_result"
    }
   ],
   "source": [
    "accuracy_score(y_test, model_tfidf.predict(test_tfidf))"
   ]
  },
  {
   "cell_type": "markdown",
   "id": "66eb25b8",
   "metadata": {},
   "source": [
    "# Conclusion"
   ]
  },
  {
   "cell_type": "markdown",
   "id": "1ed0c3ab",
   "metadata": {},
   "source": [
    "TFIDF performs a lot better with 94% accuracy"
   ]
  }
 ],
 "metadata": {
  "kernelspec": {
   "display_name": "Python 3 (ipykernel)",
   "language": "python",
   "name": "python3"
  },
  "language_info": {
   "codemirror_mode": {
    "name": "ipython",
    "version": 3
   },
   "file_extension": ".py",
   "mimetype": "text/x-python",
   "name": "python",
   "nbconvert_exporter": "python",
   "pygments_lexer": "ipython3",
   "version": "3.10.2"
  }
 },
 "nbformat": 4,
 "nbformat_minor": 5
}
