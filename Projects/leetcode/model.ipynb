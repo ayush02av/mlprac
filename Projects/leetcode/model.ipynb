{
 "cells": [
  {
   "cell_type": "markdown",
   "id": "486ee068",
   "metadata": {},
   "source": [
    "# Loading"
   ]
  },
  {
   "cell_type": "code",
   "execution_count": 1,
   "id": "5f1a92d8",
   "metadata": {},
   "outputs": [],
   "source": [
    "import pandas as pd\n",
    "import numpy as np\n",
    "import json\n",
    "from sklearn.preprocessing import MinMaxScaler\n",
    "from sklearn.cluster import KMeans\n",
    "import matplotlib.pyplot as plt\n",
    "import seaborn as sns"
   ]
  },
  {
   "cell_type": "code",
   "execution_count": 2,
   "id": "d9805b4a",
   "metadata": {},
   "outputs": [],
   "source": [
    "df = pd.read_csv('df_details.csv')"
   ]
  },
  {
   "cell_type": "code",
   "execution_count": 3,
   "id": "97f71406",
   "metadata": {},
   "outputs": [
    {
     "data": {
      "text/plain": [
       "(15212, 8)"
      ]
     },
     "execution_count": 3,
     "metadata": {},
     "output_type": "execute_result"
    }
   ],
   "source": [
    "df.shape"
   ]
  },
  {
   "cell_type": "code",
   "execution_count": 4,
   "id": "34a63dd1",
   "metadata": {},
   "outputs": [
    {
     "data": {
      "text/html": [
       "<div>\n",
       "<style scoped>\n",
       "    .dataframe tbody tr th:only-of-type {\n",
       "        vertical-align: middle;\n",
       "    }\n",
       "\n",
       "    .dataframe tbody tr th {\n",
       "        vertical-align: top;\n",
       "    }\n",
       "\n",
       "    .dataframe thead th {\n",
       "        text-align: right;\n",
       "    }\n",
       "</style>\n",
       "<table border=\"1\" class=\"dataframe\">\n",
       "  <thead>\n",
       "    <tr style=\"text-align: right;\">\n",
       "      <th></th>\n",
       "      <th>Unnamed: 0</th>\n",
       "      <th>Unnamed: 0.1</th>\n",
       "      <th>username</th>\n",
       "      <th>data</th>\n",
       "      <th>global rank</th>\n",
       "      <th>india rank</th>\n",
       "      <th>rating</th>\n",
       "      <th>country</th>\n",
       "    </tr>\n",
       "  </thead>\n",
       "  <tbody>\n",
       "    <tr>\n",
       "      <th>0</th>\n",
       "      <td>0</td>\n",
       "      <td>0</td>\n",
       "      <td>aryanc403</td>\n",
       "      <td>{'username': 'aryanc403', 'githubUrl': None, '...</td>\n",
       "      <td>120</td>\n",
       "      <td>1</td>\n",
       "      <td>2841.96</td>\n",
       "      <td>India</td>\n",
       "    </tr>\n",
       "    <tr>\n",
       "      <th>1</th>\n",
       "      <td>1</td>\n",
       "      <td>1</td>\n",
       "      <td>dganguli1997</td>\n",
       "      <td>{'username': 'dganguli1997', 'githubUrl': 'htt...</td>\n",
       "      <td>5019</td>\n",
       "      <td>501</td>\n",
       "      <td>2053.90</td>\n",
       "      <td>India</td>\n",
       "    </tr>\n",
       "    <tr>\n",
       "      <th>2</th>\n",
       "      <td>2</td>\n",
       "      <td>2</td>\n",
       "      <td>rajat_2548</td>\n",
       "      <td>{'username': 'rajat_2548', 'githubUrl': None, ...</td>\n",
       "      <td>13295</td>\n",
       "      <td>1501</td>\n",
       "      <td>1856.61</td>\n",
       "      <td>India</td>\n",
       "    </tr>\n",
       "    <tr>\n",
       "      <th>3</th>\n",
       "      <td>3</td>\n",
       "      <td>3</td>\n",
       "      <td>Anish0909</td>\n",
       "      <td>{'username': 'Anish0909', 'githubUrl': None, '...</td>\n",
       "      <td>9200</td>\n",
       "      <td>1001</td>\n",
       "      <td>1930.58</td>\n",
       "      <td>India</td>\n",
       "    </tr>\n",
       "    <tr>\n",
       "      <th>4</th>\n",
       "      <td>4</td>\n",
       "      <td>4</td>\n",
       "      <td>ap1008</td>\n",
       "      <td>{'username': 'ap1008', 'githubUrl': None, 'twi...</td>\n",
       "      <td>222</td>\n",
       "      <td>2</td>\n",
       "      <td>2707.79</td>\n",
       "      <td>India</td>\n",
       "    </tr>\n",
       "  </tbody>\n",
       "</table>\n",
       "</div>"
      ],
      "text/plain": [
       "   Unnamed: 0  Unnamed: 0.1      username  \\\n",
       "0           0             0     aryanc403   \n",
       "1           1             1  dganguli1997   \n",
       "2           2             2    rajat_2548   \n",
       "3           3             3     Anish0909   \n",
       "4           4             4        ap1008   \n",
       "\n",
       "                                                data  global rank  india rank  \\\n",
       "0  {'username': 'aryanc403', 'githubUrl': None, '...          120           1   \n",
       "1  {'username': 'dganguli1997', 'githubUrl': 'htt...         5019         501   \n",
       "2  {'username': 'rajat_2548', 'githubUrl': None, ...        13295        1501   \n",
       "3  {'username': 'Anish0909', 'githubUrl': None, '...         9200        1001   \n",
       "4  {'username': 'ap1008', 'githubUrl': None, 'twi...          222           2   \n",
       "\n",
       "    rating country  \n",
       "0  2841.96   India  \n",
       "1  2053.90   India  \n",
       "2  1856.61   India  \n",
       "3  1930.58   India  \n",
       "4  2707.79   India  "
      ]
     },
     "execution_count": 4,
     "metadata": {},
     "output_type": "execute_result"
    }
   ],
   "source": [
    "df.head()"
   ]
  },
  {
   "cell_type": "code",
   "execution_count": 5,
   "id": "e49f85b7",
   "metadata": {},
   "outputs": [],
   "source": [
    "df = df[['username', 'data', 'global rank', 'india rank', 'rating', 'country']]"
   ]
  },
  {
   "cell_type": "code",
   "execution_count": 6,
   "id": "73e8082c",
   "metadata": {},
   "outputs": [],
   "source": [
    "df.columns = ['username', 'data', 'global', 'india', 'rating', 'country']"
   ]
  },
  {
   "cell_type": "code",
   "execution_count": 7,
   "id": "ae9b59ca",
   "metadata": {},
   "outputs": [
    {
     "data": {
      "text/plain": [
       "India    15212\n",
       "Name: country, dtype: int64"
      ]
     },
     "execution_count": 7,
     "metadata": {},
     "output_type": "execute_result"
    }
   ],
   "source": [
    "df.country.value_counts()"
   ]
  },
  {
   "cell_type": "code",
   "execution_count": 8,
   "id": "2c147d4f",
   "metadata": {},
   "outputs": [],
   "source": [
    "df.drop('country', axis = 1, inplace = True)"
   ]
  },
  {
   "cell_type": "code",
   "execution_count": 9,
   "id": "b92c1450",
   "metadata": {},
   "outputs": [
    {
     "data": {
      "text/html": [
       "<div>\n",
       "<style scoped>\n",
       "    .dataframe tbody tr th:only-of-type {\n",
       "        vertical-align: middle;\n",
       "    }\n",
       "\n",
       "    .dataframe tbody tr th {\n",
       "        vertical-align: top;\n",
       "    }\n",
       "\n",
       "    .dataframe thead th {\n",
       "        text-align: right;\n",
       "    }\n",
       "</style>\n",
       "<table border=\"1\" class=\"dataframe\">\n",
       "  <thead>\n",
       "    <tr style=\"text-align: right;\">\n",
       "      <th></th>\n",
       "      <th>username</th>\n",
       "      <th>data</th>\n",
       "      <th>global</th>\n",
       "      <th>india</th>\n",
       "      <th>rating</th>\n",
       "    </tr>\n",
       "  </thead>\n",
       "  <tbody>\n",
       "    <tr>\n",
       "      <th>0</th>\n",
       "      <td>aryanc403</td>\n",
       "      <td>{'username': 'aryanc403', 'githubUrl': None, '...</td>\n",
       "      <td>120</td>\n",
       "      <td>1</td>\n",
       "      <td>2841.96</td>\n",
       "    </tr>\n",
       "    <tr>\n",
       "      <th>1</th>\n",
       "      <td>dganguli1997</td>\n",
       "      <td>{'username': 'dganguli1997', 'githubUrl': 'htt...</td>\n",
       "      <td>5019</td>\n",
       "      <td>501</td>\n",
       "      <td>2053.90</td>\n",
       "    </tr>\n",
       "    <tr>\n",
       "      <th>2</th>\n",
       "      <td>rajat_2548</td>\n",
       "      <td>{'username': 'rajat_2548', 'githubUrl': None, ...</td>\n",
       "      <td>13295</td>\n",
       "      <td>1501</td>\n",
       "      <td>1856.61</td>\n",
       "    </tr>\n",
       "    <tr>\n",
       "      <th>3</th>\n",
       "      <td>Anish0909</td>\n",
       "      <td>{'username': 'Anish0909', 'githubUrl': None, '...</td>\n",
       "      <td>9200</td>\n",
       "      <td>1001</td>\n",
       "      <td>1930.58</td>\n",
       "    </tr>\n",
       "    <tr>\n",
       "      <th>4</th>\n",
       "      <td>ap1008</td>\n",
       "      <td>{'username': 'ap1008', 'githubUrl': None, 'twi...</td>\n",
       "      <td>222</td>\n",
       "      <td>2</td>\n",
       "      <td>2707.79</td>\n",
       "    </tr>\n",
       "  </tbody>\n",
       "</table>\n",
       "</div>"
      ],
      "text/plain": [
       "       username                                               data  global  \\\n",
       "0     aryanc403  {'username': 'aryanc403', 'githubUrl': None, '...     120   \n",
       "1  dganguli1997  {'username': 'dganguli1997', 'githubUrl': 'htt...    5019   \n",
       "2    rajat_2548  {'username': 'rajat_2548', 'githubUrl': None, ...   13295   \n",
       "3     Anish0909  {'username': 'Anish0909', 'githubUrl': None, '...    9200   \n",
       "4        ap1008  {'username': 'ap1008', 'githubUrl': None, 'twi...     222   \n",
       "\n",
       "   india   rating  \n",
       "0      1  2841.96  \n",
       "1    501  2053.90  \n",
       "2   1501  1856.61  \n",
       "3   1001  1930.58  \n",
       "4      2  2707.79  "
      ]
     },
     "execution_count": 9,
     "metadata": {},
     "output_type": "execute_result"
    }
   ],
   "source": [
    "df.head()"
   ]
  },
  {
   "cell_type": "code",
   "execution_count": 10,
   "id": "f9a18616",
   "metadata": {},
   "outputs": [],
   "source": [
    "df.sort_values('india', inplace = True)"
   ]
  },
  {
   "cell_type": "code",
   "execution_count": 11,
   "id": "32f9b39d",
   "metadata": {},
   "outputs": [
    {
     "data": {
      "text/html": [
       "<div>\n",
       "<style scoped>\n",
       "    .dataframe tbody tr th:only-of-type {\n",
       "        vertical-align: middle;\n",
       "    }\n",
       "\n",
       "    .dataframe tbody tr th {\n",
       "        vertical-align: top;\n",
       "    }\n",
       "\n",
       "    .dataframe thead th {\n",
       "        text-align: right;\n",
       "    }\n",
       "</style>\n",
       "<table border=\"1\" class=\"dataframe\">\n",
       "  <thead>\n",
       "    <tr style=\"text-align: right;\">\n",
       "      <th></th>\n",
       "      <th>username</th>\n",
       "      <th>data</th>\n",
       "      <th>global</th>\n",
       "      <th>india</th>\n",
       "      <th>rating</th>\n",
       "    </tr>\n",
       "  </thead>\n",
       "  <tbody>\n",
       "    <tr>\n",
       "      <th>0</th>\n",
       "      <td>aryanc403</td>\n",
       "      <td>{'username': 'aryanc403', 'githubUrl': None, '...</td>\n",
       "      <td>120</td>\n",
       "      <td>1</td>\n",
       "      <td>2841.96</td>\n",
       "    </tr>\n",
       "    <tr>\n",
       "      <th>4</th>\n",
       "      <td>ap1008</td>\n",
       "      <td>{'username': 'ap1008', 'githubUrl': None, 'twi...</td>\n",
       "      <td>222</td>\n",
       "      <td>2</td>\n",
       "      <td>2707.79</td>\n",
       "    </tr>\n",
       "    <tr>\n",
       "      <th>5</th>\n",
       "      <td>LosingNowLosingLate</td>\n",
       "      <td>{'username': 'LosingNowLosingLate', 'githubUrl...</td>\n",
       "      <td>230</td>\n",
       "      <td>3</td>\n",
       "      <td>2701.02</td>\n",
       "    </tr>\n",
       "    <tr>\n",
       "      <th>9</th>\n",
       "      <td>taran_1407</td>\n",
       "      <td>{'username': 'taran_1407', 'githubUrl': None, ...</td>\n",
       "      <td>264</td>\n",
       "      <td>4</td>\n",
       "      <td>2676.75</td>\n",
       "    </tr>\n",
       "    <tr>\n",
       "      <th>13</th>\n",
       "      <td>anil9717</td>\n",
       "      <td>{'username': 'anil9717', 'githubUrl': None, 't...</td>\n",
       "      <td>275</td>\n",
       "      <td>5</td>\n",
       "      <td>2667.42</td>\n",
       "    </tr>\n",
       "  </tbody>\n",
       "</table>\n",
       "</div>"
      ],
      "text/plain": [
       "               username                                               data  \\\n",
       "0             aryanc403  {'username': 'aryanc403', 'githubUrl': None, '...   \n",
       "4                ap1008  {'username': 'ap1008', 'githubUrl': None, 'twi...   \n",
       "5   LosingNowLosingLate  {'username': 'LosingNowLosingLate', 'githubUrl...   \n",
       "9            taran_1407  {'username': 'taran_1407', 'githubUrl': None, ...   \n",
       "13             anil9717  {'username': 'anil9717', 'githubUrl': None, 't...   \n",
       "\n",
       "    global  india   rating  \n",
       "0      120      1  2841.96  \n",
       "4      222      2  2707.79  \n",
       "5      230      3  2701.02  \n",
       "9      264      4  2676.75  \n",
       "13     275      5  2667.42  "
      ]
     },
     "execution_count": 11,
     "metadata": {},
     "output_type": "execute_result"
    }
   ],
   "source": [
    "df.head()"
   ]
  },
  {
   "cell_type": "markdown",
   "id": "ab06f6bf",
   "metadata": {},
   "source": [
    "# Processing"
   ]
  },
  {
   "cell_type": "markdown",
   "id": "2832bfb6",
   "metadata": {},
   "source": [
    "Check the type and format of the loaded data"
   ]
  },
  {
   "cell_type": "code",
   "execution_count": 12,
   "id": "626b0df8",
   "metadata": {},
   "outputs": [
    {
     "data": {
      "text/plain": [
       "\"{'username': 'AVIRAL_T', 'githubUrl': None, 'twitterUrl': None, 'linkedinUrl': 'https://linkedin.com/in/aviral-tiwari-b69207196', 'profile': {'reputation': 8, 'aboutMe': '', 'websites': ['https://codeforces.com/profile/Continuous'], 'ranking': 78467, 'userAvatar': 'https://s3-us-west-1.amazonaws.com/s3-lc-upload/assets/default_avatar.jpg', 'realName': 'Aviral Tiwari', 'countryName': 'India'}, 'languageStats': [{'languageName': 'C++', 'problemsSolved': 449}], 'skillStats': {'advanced': [{'tagName': 'Data Stream', 'tagSlug': 'data-stream', 'problemsSolved': 2}, {'tagName': 'Game Theory', 'tagSlug': 'game-theory', 'problemsSolved': 2}, {'tagName': 'Rolling Hash', 'tagSlug': 'rolling-hash', 'problemsSolved': 1}, {'tagName': 'Backtracking', 'tagSlug': 'backtracking', 'problemsSolved': 13}, {'tagName': 'Bitmask', 'tagSlug': 'bitmask', 'problemsSolved': 3}, {'tagName': 'Quickselect', 'tagSlug': 'quickselect', 'problemsSolved': 3}, {'tagName': 'Dynamic Programming', 'tagSlug': 'dynamic-programming', 'problemsSolved': 81}, {'tagName': 'Divide and Conquer', 'tagSlug': 'divide-and-conquer', 'problemsSolved': 7}, {'tagName': 'Trie', 'tagSlug': 'trie', 'problemsSolved': 3}, {'tagName': 'Union Find', 'tagSlug': 'union-find', 'problemsSolved': 14}, {'tagName': 'Binary Indexed Tree', 'tagSlug': 'binary-indexed-tree', 'problemsSolved': 5}, {'tagName': 'Segment Tree', 'tagSlug': 'segment-tree', 'problemsSolved': 4}, {'tagName': 'Monotonic Stack', 'tagSlug': 'monotonic-stack', 'problemsSolved': 10}, {'tagName': 'Monotonic Queue', 'tagSlug': 'monotonic-queue', 'problemsSolved': 1}, {'tagName': 'Topological Sort', 'tagSlug': 'topological-sort', 'problemsSolved': 6}, {'tagName': 'Shortest Path', 'tagSlug': 'shortest-path', 'problemsSolved': 3}], 'intermediate': [{'tagName': 'Tree', 'tagSlug': 'tree', 'problemsSolved': 32}, {'tagName': 'Binary Tree', 'tagSlug': 'binary-tree', 'problemsSolved': 29}, {'tagName': 'Hash Table', 'tagSlug': 'hash-table', 'problemsSolved': 84}, {'tagName': 'Ordered Set', 'tagSlug': 'ordered-set', 'problemsSolved': 6}, {'tagName': 'Graph', 'tagSlug': 'graph', 'problemsSolved': 21}, {'tagName': 'Greedy', 'tagSlug': 'greedy', 'problemsSolved': 67}, {'tagName': 'Binary Search', 'tagSlug': 'binary-search', 'problemsSolved': 37}, {'tagName': 'Depth-First Search', 'tagSlug': 'depth-first-search', 'problemsSolved': 43}, {'tagName': 'Breadth-First Search', 'tagSlug': 'breadth-first-search', 'problemsSolved': 32}, {'tagName': 'Recursion', 'tagSlug': 'recursion', 'problemsSolved': 4}, {'tagName': 'Sliding Window', 'tagSlug': 'sliding-window', 'problemsSolved': 21}, {'tagName': 'Bit Manipulation', 'tagSlug': 'bit-manipulation', 'problemsSolved': 25}, {'tagName': 'Math', 'tagSlug': 'math', 'problemsSolved': 52}, {'tagName': 'Design', 'tagSlug': 'design', 'problemsSolved': 15}, {'tagName': 'Iterator', 'tagSlug': 'iterator', 'problemsSolved': 2}], 'fundamental': [{'tagName': 'Array', 'tagSlug': 'array', 'problemsSolved': 257}, {'tagName': 'Matrix', 'tagSlug': 'matrix', 'problemsSolved': 26}, {'tagName': 'String', 'tagSlug': 'string', 'problemsSolved': 123}, {'tagName': 'Simulation', 'tagSlug': 'simulation', 'problemsSolved': 27}, {'tagName': 'Enumeration', 'tagSlug': 'enumeration', 'problemsSolved': 9}, {'tagName': 'Sorting', 'tagSlug': 'sorting', 'problemsSolved': 58}, {'tagName': 'Stack', 'tagSlug': 'stack', 'problemsSolved': 28}, {'tagName': 'Queue', 'tagSlug': 'queue', 'problemsSolved': 2}, {'tagName': 'Linked List', 'tagSlug': 'linked-list', 'problemsSolved': 8}, {'tagName': 'Two Pointers', 'tagSlug': 'two-pointers', 'problemsSolved': 33}]}, 'submitStats': {'acSubmissionNum': [{'difficulty': 'All', 'count': 442, 'submissions': 501}, {'difficulty': 'Easy', 'count': 119, 'submissions': 124}, {'difficulty': 'Medium', 'count': 272, 'submissions': 316}, {'difficulty': 'Hard', 'count': 51, 'submissions': 61}]}}\""
      ]
     },
     "execution_count": 12,
     "metadata": {},
     "output_type": "execute_result"
    }
   ],
   "source": [
    "df.data[10]"
   ]
  },
  {
   "cell_type": "code",
   "execution_count": 13,
   "id": "7a345a15",
   "metadata": {},
   "outputs": [],
   "source": [
    "def get_problem_set(data):\n",
    "    '''\n",
    "    Function to generate problem_set dictionary of type and number of questions solved\n",
    "    '''\n",
    "    try:\n",
    "        data = data.replace('\\'', '\\\"')\n",
    "        data = data.replace('None', 'null')\n",
    "        data = json.loads(data)\n",
    "\n",
    "        problem_set = dict()\n",
    "\n",
    "        for label in ['advanced', 'intermediate', 'fundamental']:\n",
    "            if label in data['skillStats'].keys():\n",
    "                for problem in data['skillStats'][label]:\n",
    "                    problem_set[problem['tagSlug']] = problem['problemsSolved']\n",
    "\n",
    "        return problem_set if len(problem_set.keys()) > 0 else np.NaN\n",
    "    except:\n",
    "        return np.NaN"
   ]
  },
  {
   "cell_type": "code",
   "execution_count": 14,
   "id": "daf876c0",
   "metadata": {},
   "outputs": [],
   "source": [
    "df['problems'] = df.data.apply(get_problem_set)"
   ]
  },
  {
   "cell_type": "code",
   "execution_count": 15,
   "id": "bc190820",
   "metadata": {},
   "outputs": [
    {
     "data": {
      "text/plain": [
       "355"
      ]
     },
     "execution_count": 15,
     "metadata": {},
     "output_type": "execute_result"
    }
   ],
   "source": [
    "df.problems.isnull().sum()"
   ]
  },
  {
   "cell_type": "code",
   "execution_count": 16,
   "id": "660d52f3",
   "metadata": {},
   "outputs": [],
   "source": [
    "df.dropna(subset = ['problems'], inplace = True)"
   ]
  },
  {
   "cell_type": "code",
   "execution_count": 17,
   "id": "32527b99",
   "metadata": {},
   "outputs": [
    {
     "data": {
      "text/plain": [
       "(14857, 6)"
      ]
     },
     "execution_count": 17,
     "metadata": {},
     "output_type": "execute_result"
    }
   ],
   "source": [
    "df.shape"
   ]
  },
  {
   "cell_type": "code",
   "execution_count": 18,
   "id": "221fde59",
   "metadata": {},
   "outputs": [],
   "source": [
    "df.reset_index(inplace = True)"
   ]
  },
  {
   "cell_type": "code",
   "execution_count": 19,
   "id": "9849e464",
   "metadata": {},
   "outputs": [],
   "source": [
    "df.drop(['index'], axis = 1, inplace = True)"
   ]
  },
  {
   "cell_type": "code",
   "execution_count": 20,
   "id": "77a463bb",
   "metadata": {},
   "outputs": [
    {
     "data": {
      "text/plain": [
       "{'data-stream': 2,\n",
       " 'game-theory': 4,\n",
       " 'rolling-hash': 2,\n",
       " 'backtracking': 21,\n",
       " 'bitmask': 12,\n",
       " 'quickselect': 3,\n",
       " 'dynamic-programming': 91,\n",
       " 'divide-and-conquer': 12,\n",
       " 'trie': 3,\n",
       " 'union-find': 14,\n",
       " 'binary-indexed-tree': 5,\n",
       " 'segment-tree': 3,\n",
       " 'monotonic-stack': 17,\n",
       " 'monotonic-queue': 1,\n",
       " 'topological-sort': 5,\n",
       " 'shortest-path': 2,\n",
       " 'tree': 43,\n",
       " 'binary-tree': 36,\n",
       " 'hash-table': 87,\n",
       " 'ordered-set': 8,\n",
       " 'graph': 14,\n",
       " 'greedy': 89,\n",
       " 'binary-search': 63,\n",
       " 'depth-first-search': 48,\n",
       " 'breadth-first-search': 41,\n",
       " 'recursion': 12,\n",
       " 'sliding-window': 11,\n",
       " 'bit-manipulation': 33,\n",
       " 'math': 95,\n",
       " 'randomized': 2,\n",
       " 'design': 13,\n",
       " 'iterator': 1,\n",
       " 'brainteaser': 2,\n",
       " 'array': 339,\n",
       " 'matrix': 53,\n",
       " 'string': 98,\n",
       " 'simulation': 27,\n",
       " 'enumeration': 6,\n",
       " 'sorting': 79,\n",
       " 'stack': 43,\n",
       " 'queue': 3,\n",
       " 'linked-list': 28,\n",
       " 'two-pointers': 55}"
      ]
     },
     "execution_count": 20,
     "metadata": {},
     "output_type": "execute_result"
    }
   ],
   "source": [
    "df.problems[0]"
   ]
  },
  {
   "cell_type": "code",
   "execution_count": 21,
   "id": "2936ca62",
   "metadata": {},
   "outputs": [
    {
     "name": "stdout",
     "output_type": "stream",
     "text": [
      "46\n"
     ]
    }
   ],
   "source": [
    "problem_set = set()\n",
    "for item in df.problems.iteritems():\n",
    "    problem_set.update(item[1].keys())\n",
    "print(len(problem_set))"
   ]
  },
  {
   "cell_type": "code",
   "execution_count": 22,
   "id": "df2ca928",
   "metadata": {},
   "outputs": [
    {
     "data": {
      "text/plain": [
       "{'array',\n",
       " 'backtracking',\n",
       " 'binary-indexed-tree',\n",
       " 'binary-search',\n",
       " 'binary-tree',\n",
       " 'bit-manipulation',\n",
       " 'bitmask',\n",
       " 'brainteaser',\n",
       " 'breadth-first-search',\n",
       " 'data-stream',\n",
       " 'database',\n",
       " 'depth-first-search',\n",
       " 'design',\n",
       " 'divide-and-conquer',\n",
       " 'dynamic-programming',\n",
       " 'enumeration',\n",
       " 'game-theory',\n",
       " 'graph',\n",
       " 'greedy',\n",
       " 'hash-table',\n",
       " 'iterator',\n",
       " 'line-sweep',\n",
       " 'linked-list',\n",
       " 'math',\n",
       " 'matrix',\n",
       " 'monotonic-queue',\n",
       " 'monotonic-stack',\n",
       " 'ordered-set',\n",
       " 'queue',\n",
       " 'quickselect',\n",
       " 'randomized',\n",
       " 'recursion',\n",
       " 'rolling-hash',\n",
       " 'segment-tree',\n",
       " 'shortest-path',\n",
       " 'simulation',\n",
       " 'sliding-window',\n",
       " 'sorting',\n",
       " 'stack',\n",
       " 'string',\n",
       " 'suffix-array',\n",
       " 'topological-sort',\n",
       " 'tree',\n",
       " 'trie',\n",
       " 'two-pointers',\n",
       " 'union-find'}"
      ]
     },
     "execution_count": 22,
     "metadata": {},
     "output_type": "execute_result"
    }
   ],
   "source": [
    "problem_set"
   ]
  },
  {
   "cell_type": "code",
   "execution_count": 23,
   "id": "172f55ed",
   "metadata": {},
   "outputs": [],
   "source": [
    "def get_problem_status(row, problem_set):\n",
    "    values = list()\n",
    "    for problem in problem_set:\n",
    "        if problem in row[5].keys():\n",
    "            values.append(row[5][problem])\n",
    "        else:\n",
    "            values.append(0)\n",
    "    return values\n",
    "\n",
    "df[list(problem_set)] = df.apply(lambda row: get_problem_status(row, problem_set), axis = 1, result_type = 'expand')"
   ]
  },
  {
   "cell_type": "code",
   "execution_count": 24,
   "id": "84096156",
   "metadata": {},
   "outputs": [
    {
     "data": {
      "text/html": [
       "<div>\n",
       "<style scoped>\n",
       "    .dataframe tbody tr th:only-of-type {\n",
       "        vertical-align: middle;\n",
       "    }\n",
       "\n",
       "    .dataframe tbody tr th {\n",
       "        vertical-align: top;\n",
       "    }\n",
       "\n",
       "    .dataframe thead th {\n",
       "        text-align: right;\n",
       "    }\n",
       "</style>\n",
       "<table border=\"1\" class=\"dataframe\">\n",
       "  <thead>\n",
       "    <tr style=\"text-align: right;\">\n",
       "      <th></th>\n",
       "      <th>username</th>\n",
       "      <th>data</th>\n",
       "      <th>global</th>\n",
       "      <th>india</th>\n",
       "      <th>rating</th>\n",
       "      <th>problems</th>\n",
       "      <th>brainteaser</th>\n",
       "      <th>ordered-set</th>\n",
       "      <th>bit-manipulation</th>\n",
       "      <th>randomized</th>\n",
       "      <th>...</th>\n",
       "      <th>hash-table</th>\n",
       "      <th>stack</th>\n",
       "      <th>line-sweep</th>\n",
       "      <th>array</th>\n",
       "      <th>recursion</th>\n",
       "      <th>two-pointers</th>\n",
       "      <th>queue</th>\n",
       "      <th>breadth-first-search</th>\n",
       "      <th>greedy</th>\n",
       "      <th>enumeration</th>\n",
       "    </tr>\n",
       "  </thead>\n",
       "  <tbody>\n",
       "    <tr>\n",
       "      <th>0</th>\n",
       "      <td>ap1008</td>\n",
       "      <td>{'username': 'ap1008', 'githubUrl': None, 'twi...</td>\n",
       "      <td>222</td>\n",
       "      <td>2</td>\n",
       "      <td>2707.79</td>\n",
       "      <td>{'data-stream': 2, 'game-theory': 4, 'rolling-...</td>\n",
       "      <td>2</td>\n",
       "      <td>8</td>\n",
       "      <td>33</td>\n",
       "      <td>2</td>\n",
       "      <td>...</td>\n",
       "      <td>87</td>\n",
       "      <td>43</td>\n",
       "      <td>0</td>\n",
       "      <td>339</td>\n",
       "      <td>12</td>\n",
       "      <td>55</td>\n",
       "      <td>3</td>\n",
       "      <td>41</td>\n",
       "      <td>89</td>\n",
       "      <td>6</td>\n",
       "    </tr>\n",
       "    <tr>\n",
       "      <th>1</th>\n",
       "      <td>LosingNowLosingLate</td>\n",
       "      <td>{'username': 'LosingNowLosingLate', 'githubUrl...</td>\n",
       "      <td>230</td>\n",
       "      <td>3</td>\n",
       "      <td>2701.02</td>\n",
       "      <td>{'data-stream': 2, 'game-theory': 6, 'rolling-...</td>\n",
       "      <td>2</td>\n",
       "      <td>10</td>\n",
       "      <td>47</td>\n",
       "      <td>6</td>\n",
       "      <td>...</td>\n",
       "      <td>116</td>\n",
       "      <td>37</td>\n",
       "      <td>0</td>\n",
       "      <td>298</td>\n",
       "      <td>16</td>\n",
       "      <td>62</td>\n",
       "      <td>6</td>\n",
       "      <td>50</td>\n",
       "      <td>57</td>\n",
       "      <td>2</td>\n",
       "    </tr>\n",
       "    <tr>\n",
       "      <th>2</th>\n",
       "      <td>taran_1407</td>\n",
       "      <td>{'username': 'taran_1407', 'githubUrl': None, ...</td>\n",
       "      <td>264</td>\n",
       "      <td>4</td>\n",
       "      <td>2676.75</td>\n",
       "      <td>{'data-stream': 8, 'game-theory': 8, 'rolling-...</td>\n",
       "      <td>2</td>\n",
       "      <td>21</td>\n",
       "      <td>47</td>\n",
       "      <td>7</td>\n",
       "      <td>...</td>\n",
       "      <td>171</td>\n",
       "      <td>56</td>\n",
       "      <td>2</td>\n",
       "      <td>479</td>\n",
       "      <td>17</td>\n",
       "      <td>92</td>\n",
       "      <td>14</td>\n",
       "      <td>74</td>\n",
       "      <td>101</td>\n",
       "      <td>12</td>\n",
       "    </tr>\n",
       "    <tr>\n",
       "      <th>3</th>\n",
       "      <td>anil9717</td>\n",
       "      <td>{'username': 'anil9717', 'githubUrl': None, 't...</td>\n",
       "      <td>275</td>\n",
       "      <td>5</td>\n",
       "      <td>2667.42</td>\n",
       "      <td>{'data-stream': 3, 'game-theory': 2, 'rolling-...</td>\n",
       "      <td>2</td>\n",
       "      <td>10</td>\n",
       "      <td>29</td>\n",
       "      <td>0</td>\n",
       "      <td>...</td>\n",
       "      <td>95</td>\n",
       "      <td>15</td>\n",
       "      <td>0</td>\n",
       "      <td>236</td>\n",
       "      <td>8</td>\n",
       "      <td>23</td>\n",
       "      <td>8</td>\n",
       "      <td>23</td>\n",
       "      <td>51</td>\n",
       "      <td>6</td>\n",
       "    </tr>\n",
       "    <tr>\n",
       "      <th>4</th>\n",
       "      <td>razimantv</td>\n",
       "      <td>{'username': 'razimantv', 'githubUrl': 'https:...</td>\n",
       "      <td>320</td>\n",
       "      <td>6</td>\n",
       "      <td>2639.48</td>\n",
       "      <td>{'data-stream': 8, 'game-theory': 5, 'rolling-...</td>\n",
       "      <td>3</td>\n",
       "      <td>26</td>\n",
       "      <td>70</td>\n",
       "      <td>8</td>\n",
       "      <td>...</td>\n",
       "      <td>220</td>\n",
       "      <td>62</td>\n",
       "      <td>3</td>\n",
       "      <td>584</td>\n",
       "      <td>24</td>\n",
       "      <td>98</td>\n",
       "      <td>21</td>\n",
       "      <td>99</td>\n",
       "      <td>121</td>\n",
       "      <td>16</td>\n",
       "    </tr>\n",
       "  </tbody>\n",
       "</table>\n",
       "<p>5 rows × 52 columns</p>\n",
       "</div>"
      ],
      "text/plain": [
       "              username                                               data  \\\n",
       "0               ap1008  {'username': 'ap1008', 'githubUrl': None, 'twi...   \n",
       "1  LosingNowLosingLate  {'username': 'LosingNowLosingLate', 'githubUrl...   \n",
       "2           taran_1407  {'username': 'taran_1407', 'githubUrl': None, ...   \n",
       "3             anil9717  {'username': 'anil9717', 'githubUrl': None, 't...   \n",
       "4            razimantv  {'username': 'razimantv', 'githubUrl': 'https:...   \n",
       "\n",
       "   global  india   rating                                           problems  \\\n",
       "0     222      2  2707.79  {'data-stream': 2, 'game-theory': 4, 'rolling-...   \n",
       "1     230      3  2701.02  {'data-stream': 2, 'game-theory': 6, 'rolling-...   \n",
       "2     264      4  2676.75  {'data-stream': 8, 'game-theory': 8, 'rolling-...   \n",
       "3     275      5  2667.42  {'data-stream': 3, 'game-theory': 2, 'rolling-...   \n",
       "4     320      6  2639.48  {'data-stream': 8, 'game-theory': 5, 'rolling-...   \n",
       "\n",
       "   brainteaser  ordered-set  bit-manipulation  randomized  ...  hash-table  \\\n",
       "0            2            8                33           2  ...          87   \n",
       "1            2           10                47           6  ...         116   \n",
       "2            2           21                47           7  ...         171   \n",
       "3            2           10                29           0  ...          95   \n",
       "4            3           26                70           8  ...         220   \n",
       "\n",
       "   stack  line-sweep  array  recursion  two-pointers  queue  \\\n",
       "0     43           0    339         12            55      3   \n",
       "1     37           0    298         16            62      6   \n",
       "2     56           2    479         17            92     14   \n",
       "3     15           0    236          8            23      8   \n",
       "4     62           3    584         24            98     21   \n",
       "\n",
       "   breadth-first-search  greedy  enumeration  \n",
       "0                    41      89            6  \n",
       "1                    50      57            2  \n",
       "2                    74     101           12  \n",
       "3                    23      51            6  \n",
       "4                    99     121           16  \n",
       "\n",
       "[5 rows x 52 columns]"
      ]
     },
     "execution_count": 24,
     "metadata": {},
     "output_type": "execute_result"
    }
   ],
   "source": [
    "df.head()"
   ]
  },
  {
   "cell_type": "code",
   "execution_count": 25,
   "id": "d6d84121",
   "metadata": {},
   "outputs": [
    {
     "data": {
      "text/plain": [
       "(14857, 52)"
      ]
     },
     "execution_count": 25,
     "metadata": {},
     "output_type": "execute_result"
    }
   ],
   "source": [
    "df.shape"
   ]
  },
  {
   "cell_type": "markdown",
   "id": "c12e7c29",
   "metadata": {},
   "source": [
    "# Scaling"
   ]
  },
  {
   "cell_type": "code",
   "execution_count": 26,
   "id": "c581d8c6",
   "metadata": {},
   "outputs": [],
   "source": [
    "x = pd.concat([df.iloc[:, 4], df.iloc[:, 6:]], axis = 1)"
   ]
  },
  {
   "cell_type": "code",
   "execution_count": 27,
   "id": "0bade8cb",
   "metadata": {},
   "outputs": [],
   "source": [
    "scaler = MinMaxScaler()"
   ]
  },
  {
   "cell_type": "code",
   "execution_count": 28,
   "id": "31b48fc1",
   "metadata": {},
   "outputs": [
    {
     "data": {
      "text/plain": [
       "MinMaxScaler()"
      ]
     },
     "execution_count": 28,
     "metadata": {},
     "output_type": "execute_result"
    }
   ],
   "source": [
    "scaler.fit(x)"
   ]
  },
  {
   "cell_type": "code",
   "execution_count": 29,
   "id": "fbf45527",
   "metadata": {},
   "outputs": [],
   "source": [
    "x = pd.DataFrame(scaler.transform(x), columns = x.columns)"
   ]
  },
  {
   "cell_type": "code",
   "execution_count": 30,
   "id": "98bd3cb5",
   "metadata": {},
   "outputs": [
    {
     "data": {
      "text/html": [
       "<div>\n",
       "<style scoped>\n",
       "    .dataframe tbody tr th:only-of-type {\n",
       "        vertical-align: middle;\n",
       "    }\n",
       "\n",
       "    .dataframe tbody tr th {\n",
       "        vertical-align: top;\n",
       "    }\n",
       "\n",
       "    .dataframe thead th {\n",
       "        text-align: right;\n",
       "    }\n",
       "</style>\n",
       "<table border=\"1\" class=\"dataframe\">\n",
       "  <thead>\n",
       "    <tr style=\"text-align: right;\">\n",
       "      <th></th>\n",
       "      <th>rating</th>\n",
       "      <th>brainteaser</th>\n",
       "      <th>ordered-set</th>\n",
       "      <th>bit-manipulation</th>\n",
       "      <th>randomized</th>\n",
       "      <th>quickselect</th>\n",
       "      <th>iterator</th>\n",
       "      <th>string</th>\n",
       "      <th>depth-first-search</th>\n",
       "      <th>matrix</th>\n",
       "      <th>...</th>\n",
       "      <th>hash-table</th>\n",
       "      <th>stack</th>\n",
       "      <th>line-sweep</th>\n",
       "      <th>array</th>\n",
       "      <th>recursion</th>\n",
       "      <th>two-pointers</th>\n",
       "      <th>queue</th>\n",
       "      <th>breadth-first-search</th>\n",
       "      <th>greedy</th>\n",
       "      <th>enumeration</th>\n",
       "    </tr>\n",
       "  </thead>\n",
       "  <tbody>\n",
       "    <tr>\n",
       "      <th>0</th>\n",
       "      <td>1.000000</td>\n",
       "      <td>0.181818</td>\n",
       "      <td>0.16</td>\n",
       "      <td>0.217105</td>\n",
       "      <td>0.166667</td>\n",
       "      <td>0.428571</td>\n",
       "      <td>0.111111</td>\n",
       "      <td>0.164983</td>\n",
       "      <td>0.182510</td>\n",
       "      <td>0.289617</td>\n",
       "      <td>...</td>\n",
       "      <td>0.194196</td>\n",
       "      <td>0.318519</td>\n",
       "      <td>0.00</td>\n",
       "      <td>0.264431</td>\n",
       "      <td>0.272727</td>\n",
       "      <td>0.335366</td>\n",
       "      <td>0.078947</td>\n",
       "      <td>0.197115</td>\n",
       "      <td>0.317857</td>\n",
       "      <td>0.133333</td>\n",
       "    </tr>\n",
       "    <tr>\n",
       "      <th>1</th>\n",
       "      <td>0.994501</td>\n",
       "      <td>0.181818</td>\n",
       "      <td>0.20</td>\n",
       "      <td>0.309211</td>\n",
       "      <td>0.500000</td>\n",
       "      <td>0.571429</td>\n",
       "      <td>0.333333</td>\n",
       "      <td>0.220539</td>\n",
       "      <td>0.243346</td>\n",
       "      <td>0.202186</td>\n",
       "      <td>...</td>\n",
       "      <td>0.258929</td>\n",
       "      <td>0.274074</td>\n",
       "      <td>0.00</td>\n",
       "      <td>0.232449</td>\n",
       "      <td>0.363636</td>\n",
       "      <td>0.378049</td>\n",
       "      <td>0.157895</td>\n",
       "      <td>0.240385</td>\n",
       "      <td>0.203571</td>\n",
       "      <td>0.044444</td>\n",
       "    </tr>\n",
       "    <tr>\n",
       "      <th>2</th>\n",
       "      <td>0.974790</td>\n",
       "      <td>0.181818</td>\n",
       "      <td>0.42</td>\n",
       "      <td>0.309211</td>\n",
       "      <td>0.583333</td>\n",
       "      <td>0.285714</td>\n",
       "      <td>0.444444</td>\n",
       "      <td>0.388889</td>\n",
       "      <td>0.391635</td>\n",
       "      <td>0.338798</td>\n",
       "      <td>...</td>\n",
       "      <td>0.381696</td>\n",
       "      <td>0.414815</td>\n",
       "      <td>0.50</td>\n",
       "      <td>0.373635</td>\n",
       "      <td>0.386364</td>\n",
       "      <td>0.560976</td>\n",
       "      <td>0.368421</td>\n",
       "      <td>0.355769</td>\n",
       "      <td>0.360714</td>\n",
       "      <td>0.266667</td>\n",
       "    </tr>\n",
       "    <tr>\n",
       "      <th>3</th>\n",
       "      <td>0.967212</td>\n",
       "      <td>0.181818</td>\n",
       "      <td>0.20</td>\n",
       "      <td>0.190789</td>\n",
       "      <td>0.000000</td>\n",
       "      <td>0.000000</td>\n",
       "      <td>0.000000</td>\n",
       "      <td>0.178451</td>\n",
       "      <td>0.098859</td>\n",
       "      <td>0.131148</td>\n",
       "      <td>...</td>\n",
       "      <td>0.212054</td>\n",
       "      <td>0.111111</td>\n",
       "      <td>0.00</td>\n",
       "      <td>0.184087</td>\n",
       "      <td>0.181818</td>\n",
       "      <td>0.140244</td>\n",
       "      <td>0.210526</td>\n",
       "      <td>0.110577</td>\n",
       "      <td>0.182143</td>\n",
       "      <td>0.133333</td>\n",
       "    </tr>\n",
       "    <tr>\n",
       "      <th>4</th>\n",
       "      <td>0.944519</td>\n",
       "      <td>0.272727</td>\n",
       "      <td>0.52</td>\n",
       "      <td>0.460526</td>\n",
       "      <td>0.666667</td>\n",
       "      <td>0.571429</td>\n",
       "      <td>0.444444</td>\n",
       "      <td>0.429293</td>\n",
       "      <td>0.460076</td>\n",
       "      <td>0.437158</td>\n",
       "      <td>...</td>\n",
       "      <td>0.491071</td>\n",
       "      <td>0.459259</td>\n",
       "      <td>0.75</td>\n",
       "      <td>0.455538</td>\n",
       "      <td>0.545455</td>\n",
       "      <td>0.597561</td>\n",
       "      <td>0.552632</td>\n",
       "      <td>0.475962</td>\n",
       "      <td>0.432143</td>\n",
       "      <td>0.355556</td>\n",
       "    </tr>\n",
       "  </tbody>\n",
       "</table>\n",
       "<p>5 rows × 47 columns</p>\n",
       "</div>"
      ],
      "text/plain": [
       "     rating  brainteaser  ordered-set  bit-manipulation  randomized  \\\n",
       "0  1.000000     0.181818         0.16          0.217105    0.166667   \n",
       "1  0.994501     0.181818         0.20          0.309211    0.500000   \n",
       "2  0.974790     0.181818         0.42          0.309211    0.583333   \n",
       "3  0.967212     0.181818         0.20          0.190789    0.000000   \n",
       "4  0.944519     0.272727         0.52          0.460526    0.666667   \n",
       "\n",
       "   quickselect  iterator    string  depth-first-search    matrix  ...  \\\n",
       "0     0.428571  0.111111  0.164983            0.182510  0.289617  ...   \n",
       "1     0.571429  0.333333  0.220539            0.243346  0.202186  ...   \n",
       "2     0.285714  0.444444  0.388889            0.391635  0.338798  ...   \n",
       "3     0.000000  0.000000  0.178451            0.098859  0.131148  ...   \n",
       "4     0.571429  0.444444  0.429293            0.460076  0.437158  ...   \n",
       "\n",
       "   hash-table     stack  line-sweep     array  recursion  two-pointers  \\\n",
       "0    0.194196  0.318519        0.00  0.264431   0.272727      0.335366   \n",
       "1    0.258929  0.274074        0.00  0.232449   0.363636      0.378049   \n",
       "2    0.381696  0.414815        0.50  0.373635   0.386364      0.560976   \n",
       "3    0.212054  0.111111        0.00  0.184087   0.181818      0.140244   \n",
       "4    0.491071  0.459259        0.75  0.455538   0.545455      0.597561   \n",
       "\n",
       "      queue  breadth-first-search    greedy  enumeration  \n",
       "0  0.078947              0.197115  0.317857     0.133333  \n",
       "1  0.157895              0.240385  0.203571     0.044444  \n",
       "2  0.368421              0.355769  0.360714     0.266667  \n",
       "3  0.210526              0.110577  0.182143     0.133333  \n",
       "4  0.552632              0.475962  0.432143     0.355556  \n",
       "\n",
       "[5 rows x 47 columns]"
      ]
     },
     "execution_count": 30,
     "metadata": {},
     "output_type": "execute_result"
    }
   ],
   "source": [
    "x.head()"
   ]
  },
  {
   "cell_type": "markdown",
   "id": "74a98f18",
   "metadata": {},
   "source": [
    "# Training"
   ]
  },
  {
   "cell_type": "markdown",
   "id": "3dc39c58",
   "metadata": {},
   "source": [
    "Less inertia is needed, so try elbow method"
   ]
  },
  {
   "cell_type": "code",
   "execution_count": 31,
   "id": "bcb814e6",
   "metadata": {},
   "outputs": [],
   "source": [
    "# inertia = list()\n",
    "# for i in range(1, 20):\n",
    "#     model = KMeans(n_clusters = i, init = 'k-means++', max_iter = 400, n_init = 10, random_state = 0)\n",
    "#     model.fit(x)\n",
    "#     inertia.append(model.inertia_)"
   ]
  },
  {
   "cell_type": "code",
   "execution_count": 32,
   "id": "0391adea",
   "metadata": {},
   "outputs": [],
   "source": [
    "# plt.plot([i for i in range(len(inertia))], inertia)\n",
    "# plt.title('Elbow method for kmeans')\n",
    "# plt.xlabel('Number of clusters')\n",
    "# plt.ylabel('Inertia')\n",
    "# plt.show()"
   ]
  },
  {
   "cell_type": "markdown",
   "id": "5609ff7d",
   "metadata": {},
   "source": [
    "k can be chosen either 3 or 4"
   ]
  },
  {
   "cell_type": "markdown",
   "id": "a43533a6",
   "metadata": {},
   "source": [
    "# Testing"
   ]
  },
  {
   "cell_type": "code",
   "execution_count": 33,
   "id": "7a163f2d",
   "metadata": {},
   "outputs": [],
   "source": [
    "model = KMeans(n_clusters = 3)\n",
    "x['label'] = model.fit_predict(x)"
   ]
  },
  {
   "cell_type": "code",
   "execution_count": 34,
   "id": "bde05190",
   "metadata": {},
   "outputs": [
    {
     "data": {
      "text/html": [
       "<div>\n",
       "<style scoped>\n",
       "    .dataframe tbody tr th:only-of-type {\n",
       "        vertical-align: middle;\n",
       "    }\n",
       "\n",
       "    .dataframe tbody tr th {\n",
       "        vertical-align: top;\n",
       "    }\n",
       "\n",
       "    .dataframe thead th {\n",
       "        text-align: right;\n",
       "    }\n",
       "</style>\n",
       "<table border=\"1\" class=\"dataframe\">\n",
       "  <thead>\n",
       "    <tr style=\"text-align: right;\">\n",
       "      <th></th>\n",
       "      <th>rating</th>\n",
       "      <th>brainteaser</th>\n",
       "      <th>ordered-set</th>\n",
       "      <th>bit-manipulation</th>\n",
       "      <th>randomized</th>\n",
       "      <th>quickselect</th>\n",
       "      <th>iterator</th>\n",
       "      <th>string</th>\n",
       "      <th>depth-first-search</th>\n",
       "      <th>matrix</th>\n",
       "      <th>...</th>\n",
       "      <th>stack</th>\n",
       "      <th>line-sweep</th>\n",
       "      <th>array</th>\n",
       "      <th>recursion</th>\n",
       "      <th>two-pointers</th>\n",
       "      <th>queue</th>\n",
       "      <th>breadth-first-search</th>\n",
       "      <th>greedy</th>\n",
       "      <th>enumeration</th>\n",
       "      <th>label</th>\n",
       "    </tr>\n",
       "  </thead>\n",
       "  <tbody>\n",
       "    <tr>\n",
       "      <th>0</th>\n",
       "      <td>1.000000</td>\n",
       "      <td>0.181818</td>\n",
       "      <td>0.16</td>\n",
       "      <td>0.217105</td>\n",
       "      <td>0.166667</td>\n",
       "      <td>0.428571</td>\n",
       "      <td>0.111111</td>\n",
       "      <td>0.164983</td>\n",
       "      <td>0.182510</td>\n",
       "      <td>0.289617</td>\n",
       "      <td>...</td>\n",
       "      <td>0.318519</td>\n",
       "      <td>0.00</td>\n",
       "      <td>0.264431</td>\n",
       "      <td>0.272727</td>\n",
       "      <td>0.335366</td>\n",
       "      <td>0.078947</td>\n",
       "      <td>0.197115</td>\n",
       "      <td>0.317857</td>\n",
       "      <td>0.133333</td>\n",
       "      <td>2</td>\n",
       "    </tr>\n",
       "    <tr>\n",
       "      <th>1</th>\n",
       "      <td>0.994501</td>\n",
       "      <td>0.181818</td>\n",
       "      <td>0.20</td>\n",
       "      <td>0.309211</td>\n",
       "      <td>0.500000</td>\n",
       "      <td>0.571429</td>\n",
       "      <td>0.333333</td>\n",
       "      <td>0.220539</td>\n",
       "      <td>0.243346</td>\n",
       "      <td>0.202186</td>\n",
       "      <td>...</td>\n",
       "      <td>0.274074</td>\n",
       "      <td>0.00</td>\n",
       "      <td>0.232449</td>\n",
       "      <td>0.363636</td>\n",
       "      <td>0.378049</td>\n",
       "      <td>0.157895</td>\n",
       "      <td>0.240385</td>\n",
       "      <td>0.203571</td>\n",
       "      <td>0.044444</td>\n",
       "      <td>2</td>\n",
       "    </tr>\n",
       "    <tr>\n",
       "      <th>2</th>\n",
       "      <td>0.974790</td>\n",
       "      <td>0.181818</td>\n",
       "      <td>0.42</td>\n",
       "      <td>0.309211</td>\n",
       "      <td>0.583333</td>\n",
       "      <td>0.285714</td>\n",
       "      <td>0.444444</td>\n",
       "      <td>0.388889</td>\n",
       "      <td>0.391635</td>\n",
       "      <td>0.338798</td>\n",
       "      <td>...</td>\n",
       "      <td>0.414815</td>\n",
       "      <td>0.50</td>\n",
       "      <td>0.373635</td>\n",
       "      <td>0.386364</td>\n",
       "      <td>0.560976</td>\n",
       "      <td>0.368421</td>\n",
       "      <td>0.355769</td>\n",
       "      <td>0.360714</td>\n",
       "      <td>0.266667</td>\n",
       "      <td>1</td>\n",
       "    </tr>\n",
       "    <tr>\n",
       "      <th>3</th>\n",
       "      <td>0.967212</td>\n",
       "      <td>0.181818</td>\n",
       "      <td>0.20</td>\n",
       "      <td>0.190789</td>\n",
       "      <td>0.000000</td>\n",
       "      <td>0.000000</td>\n",
       "      <td>0.000000</td>\n",
       "      <td>0.178451</td>\n",
       "      <td>0.098859</td>\n",
       "      <td>0.131148</td>\n",
       "      <td>...</td>\n",
       "      <td>0.111111</td>\n",
       "      <td>0.00</td>\n",
       "      <td>0.184087</td>\n",
       "      <td>0.181818</td>\n",
       "      <td>0.140244</td>\n",
       "      <td>0.210526</td>\n",
       "      <td>0.110577</td>\n",
       "      <td>0.182143</td>\n",
       "      <td>0.133333</td>\n",
       "      <td>0</td>\n",
       "    </tr>\n",
       "    <tr>\n",
       "      <th>4</th>\n",
       "      <td>0.944519</td>\n",
       "      <td>0.272727</td>\n",
       "      <td>0.52</td>\n",
       "      <td>0.460526</td>\n",
       "      <td>0.666667</td>\n",
       "      <td>0.571429</td>\n",
       "      <td>0.444444</td>\n",
       "      <td>0.429293</td>\n",
       "      <td>0.460076</td>\n",
       "      <td>0.437158</td>\n",
       "      <td>...</td>\n",
       "      <td>0.459259</td>\n",
       "      <td>0.75</td>\n",
       "      <td>0.455538</td>\n",
       "      <td>0.545455</td>\n",
       "      <td>0.597561</td>\n",
       "      <td>0.552632</td>\n",
       "      <td>0.475962</td>\n",
       "      <td>0.432143</td>\n",
       "      <td>0.355556</td>\n",
       "      <td>1</td>\n",
       "    </tr>\n",
       "  </tbody>\n",
       "</table>\n",
       "<p>5 rows × 48 columns</p>\n",
       "</div>"
      ],
      "text/plain": [
       "     rating  brainteaser  ordered-set  bit-manipulation  randomized  \\\n",
       "0  1.000000     0.181818         0.16          0.217105    0.166667   \n",
       "1  0.994501     0.181818         0.20          0.309211    0.500000   \n",
       "2  0.974790     0.181818         0.42          0.309211    0.583333   \n",
       "3  0.967212     0.181818         0.20          0.190789    0.000000   \n",
       "4  0.944519     0.272727         0.52          0.460526    0.666667   \n",
       "\n",
       "   quickselect  iterator    string  depth-first-search    matrix  ...  \\\n",
       "0     0.428571  0.111111  0.164983            0.182510  0.289617  ...   \n",
       "1     0.571429  0.333333  0.220539            0.243346  0.202186  ...   \n",
       "2     0.285714  0.444444  0.388889            0.391635  0.338798  ...   \n",
       "3     0.000000  0.000000  0.178451            0.098859  0.131148  ...   \n",
       "4     0.571429  0.444444  0.429293            0.460076  0.437158  ...   \n",
       "\n",
       "      stack  line-sweep     array  recursion  two-pointers     queue  \\\n",
       "0  0.318519        0.00  0.264431   0.272727      0.335366  0.078947   \n",
       "1  0.274074        0.00  0.232449   0.363636      0.378049  0.157895   \n",
       "2  0.414815        0.50  0.373635   0.386364      0.560976  0.368421   \n",
       "3  0.111111        0.00  0.184087   0.181818      0.140244  0.210526   \n",
       "4  0.459259        0.75  0.455538   0.545455      0.597561  0.552632   \n",
       "\n",
       "   breadth-first-search    greedy  enumeration  label  \n",
       "0              0.197115  0.317857     0.133333      2  \n",
       "1              0.240385  0.203571     0.044444      2  \n",
       "2              0.355769  0.360714     0.266667      1  \n",
       "3              0.110577  0.182143     0.133333      0  \n",
       "4              0.475962  0.432143     0.355556      1  \n",
       "\n",
       "[5 rows x 48 columns]"
      ]
     },
     "execution_count": 34,
     "metadata": {},
     "output_type": "execute_result"
    }
   ],
   "source": [
    "x.head()"
   ]
  },
  {
   "cell_type": "code",
   "execution_count": 52,
   "id": "ba92dbc6",
   "metadata": {},
   "outputs": [
    {
     "data": {
      "text/plain": [
       "<matplotlib.collections.PathCollection at 0x18657d2d5d0>"
      ]
     },
     "execution_count": 52,
     "metadata": {},
     "output_type": "execute_result"
    },
    {
     "data": {
      "image/png": "[encoded data removed]",
      "text/plain": [
       "<Figure size 432x288 with 1 Axes>"
      ]
     },
     "metadata": {
      "needs_background": "light"
     },
     "output_type": "display_data"
    }
   ],
   "source": [
    "df1 = x[x.label == 0]\n",
    "df2 = x[x.label == 1]\n",
    "df3 = x[x.label == 2]\n",
    "\n",
    "plt.scatter(x['queue'], x.rating, c = x.label, label = x.label)"
   ]
  },
  {
   "cell_type": "code",
   "execution_count": null,
   "id": "b785da16",
   "metadata": {},
   "outputs": [],
   "source": []
  }
 ],
 "metadata": {
  "kernelspec": {
   "display_name": "Python 3 (ipykernel)",
   "language": "python",
   "name": "python3"
  },
  "language_info": {
   "codemirror_mode": {
    "name": "ipython",
    "version": 3
   },
   "file_extension": ".py",
   "mimetype": "text/x-python",
   "name": "python",
   "nbconvert_exporter": "python",
   "pygments_lexer": "ipython3",
   "version": "3.10.2"
  }
 },
 "nbformat": 4,
 "nbformat_minor": 5
}
