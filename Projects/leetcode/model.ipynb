{
 "cells": [
  {
   "cell_type": "markdown",
   "id": "486ee068",
   "metadata": {},
   "source": [
    "# Loading"
   ]
  },
  {
   "cell_type": "code",
   "execution_count": 1,
   "id": "5f1a92d8",
   "metadata": {},
   "outputs": [],
   "source": [
    "import pandas as pd\n",
    "import numpy as np\n",
    "import json"
   ]
  },
  {
   "cell_type": "code",
   "execution_count": 2,
   "id": "d9805b4a",
   "metadata": {},
   "outputs": [],
   "source": [
    "df = pd.read_csv('df_details.csv')"
   ]
  },
  {
   "cell_type": "code",
   "execution_count": 3,
   "id": "97f71406",
   "metadata": {},
   "outputs": [
    {
     "data": {
      "text/plain": [
       "(15212, 8)"
      ]
     },
     "execution_count": 3,
     "metadata": {},
     "output_type": "execute_result"
    }
   ],
   "source": [
    "df.shape"
   ]
  },
  {
   "cell_type": "code",
   "execution_count": 4,
   "id": "34a63dd1",
   "metadata": {},
   "outputs": [
    {
     "data": {
      "text/html": [
       "<div>\n",
       "<style scoped>\n",
       "    .dataframe tbody tr th:only-of-type {\n",
       "        vertical-align: middle;\n",
       "    }\n",
       "\n",
       "    .dataframe tbody tr th {\n",
       "        vertical-align: top;\n",
       "    }\n",
       "\n",
       "    .dataframe thead th {\n",
       "        text-align: right;\n",
       "    }\n",
       "</style>\n",
       "<table border=\"1\" class=\"dataframe\">\n",
       "  <thead>\n",
       "    <tr style=\"text-align: right;\">\n",
       "      <th></th>\n",
       "      <th>Unnamed: 0</th>\n",
       "      <th>Unnamed: 0.1</th>\n",
       "      <th>username</th>\n",
       "      <th>data</th>\n",
       "      <th>global rank</th>\n",
       "      <th>india rank</th>\n",
       "      <th>rating</th>\n",
       "      <th>country</th>\n",
       "    </tr>\n",
       "  </thead>\n",
       "  <tbody>\n",
       "    <tr>\n",
       "      <th>0</th>\n",
       "      <td>0</td>\n",
       "      <td>0</td>\n",
       "      <td>aryanc403</td>\n",
       "      <td>{'username': 'aryanc403', 'githubUrl': None, '...</td>\n",
       "      <td>120</td>\n",
       "      <td>1</td>\n",
       "      <td>2841.96</td>\n",
       "      <td>India</td>\n",
       "    </tr>\n",
       "    <tr>\n",
       "      <th>1</th>\n",
       "      <td>1</td>\n",
       "      <td>1</td>\n",
       "      <td>dganguli1997</td>\n",
       "      <td>{'username': 'dganguli1997', 'githubUrl': 'htt...</td>\n",
       "      <td>5019</td>\n",
       "      <td>501</td>\n",
       "      <td>2053.90</td>\n",
       "      <td>India</td>\n",
       "    </tr>\n",
       "    <tr>\n",
       "      <th>2</th>\n",
       "      <td>2</td>\n",
       "      <td>2</td>\n",
       "      <td>rajat_2548</td>\n",
       "      <td>{'username': 'rajat_2548', 'githubUrl': None, ...</td>\n",
       "      <td>13295</td>\n",
       "      <td>1501</td>\n",
       "      <td>1856.61</td>\n",
       "      <td>India</td>\n",
       "    </tr>\n",
       "    <tr>\n",
       "      <th>3</th>\n",
       "      <td>3</td>\n",
       "      <td>3</td>\n",
       "      <td>Anish0909</td>\n",
       "      <td>{'username': 'Anish0909', 'githubUrl': None, '...</td>\n",
       "      <td>9200</td>\n",
       "      <td>1001</td>\n",
       "      <td>1930.58</td>\n",
       "      <td>India</td>\n",
       "    </tr>\n",
       "    <tr>\n",
       "      <th>4</th>\n",
       "      <td>4</td>\n",
       "      <td>4</td>\n",
       "      <td>ap1008</td>\n",
       "      <td>{'username': 'ap1008', 'githubUrl': None, 'twi...</td>\n",
       "      <td>222</td>\n",
       "      <td>2</td>\n",
       "      <td>2707.79</td>\n",
       "      <td>India</td>\n",
       "    </tr>\n",
       "  </tbody>\n",
       "</table>\n",
       "</div>"
      ],
      "text/plain": [
       "   Unnamed: 0  Unnamed: 0.1      username  \\\n",
       "0           0             0     aryanc403   \n",
       "1           1             1  dganguli1997   \n",
       "2           2             2    rajat_2548   \n",
       "3           3             3     Anish0909   \n",
       "4           4             4        ap1008   \n",
       "\n",
       "                                                data  global rank  india rank  \\\n",
       "0  {'username': 'aryanc403', 'githubUrl': None, '...          120           1   \n",
       "1  {'username': 'dganguli1997', 'githubUrl': 'htt...         5019         501   \n",
       "2  {'username': 'rajat_2548', 'githubUrl': None, ...        13295        1501   \n",
       "3  {'username': 'Anish0909', 'githubUrl': None, '...         9200        1001   \n",
       "4  {'username': 'ap1008', 'githubUrl': None, 'twi...          222           2   \n",
       "\n",
       "    rating country  \n",
       "0  2841.96   India  \n",
       "1  2053.90   India  \n",
       "2  1856.61   India  \n",
       "3  1930.58   India  \n",
       "4  2707.79   India  "
      ]
     },
     "execution_count": 4,
     "metadata": {},
     "output_type": "execute_result"
    }
   ],
   "source": [
    "df.head()"
   ]
  },
  {
   "cell_type": "code",
   "execution_count": 5,
   "id": "e49f85b7",
   "metadata": {},
   "outputs": [],
   "source": [
    "df = df[['username', 'data', 'global rank', 'india rank', 'rating', 'country']]"
   ]
  },
  {
   "cell_type": "code",
   "execution_count": 6,
   "id": "73e8082c",
   "metadata": {},
   "outputs": [],
   "source": [
    "df.columns = ['username', 'data', 'global', 'india', 'rating', 'country']"
   ]
  },
  {
   "cell_type": "code",
   "execution_count": 7,
   "id": "ae9b59ca",
   "metadata": {},
   "outputs": [
    {
     "data": {
      "text/plain": [
       "India    15212\n",
       "Name: country, dtype: int64"
      ]
     },
     "execution_count": 7,
     "metadata": {},
     "output_type": "execute_result"
    }
   ],
   "source": [
    "df.country.value_counts()"
   ]
  },
  {
   "cell_type": "code",
   "execution_count": 8,
   "id": "2c147d4f",
   "metadata": {},
   "outputs": [],
   "source": [
    "df.drop('country', axis = 1, inplace = True)"
   ]
  },
  {
   "cell_type": "code",
   "execution_count": 9,
   "id": "b92c1450",
   "metadata": {},
   "outputs": [
    {
     "data": {
      "text/html": [
       "<div>\n",
       "<style scoped>\n",
       "    .dataframe tbody tr th:only-of-type {\n",
       "        vertical-align: middle;\n",
       "    }\n",
       "\n",
       "    .dataframe tbody tr th {\n",
       "        vertical-align: top;\n",
       "    }\n",
       "\n",
       "    .dataframe thead th {\n",
       "        text-align: right;\n",
       "    }\n",
       "</style>\n",
       "<table border=\"1\" class=\"dataframe\">\n",
       "  <thead>\n",
       "    <tr style=\"text-align: right;\">\n",
       "      <th></th>\n",
       "      <th>username</th>\n",
       "      <th>data</th>\n",
       "      <th>global</th>\n",
       "      <th>india</th>\n",
       "      <th>rating</th>\n",
       "    </tr>\n",
       "  </thead>\n",
       "  <tbody>\n",
       "    <tr>\n",
       "      <th>0</th>\n",
       "      <td>aryanc403</td>\n",
       "      <td>{'username': 'aryanc403', 'githubUrl': None, '...</td>\n",
       "      <td>120</td>\n",
       "      <td>1</td>\n",
       "      <td>2841.96</td>\n",
       "    </tr>\n",
       "    <tr>\n",
       "      <th>1</th>\n",
       "      <td>dganguli1997</td>\n",
       "      <td>{'username': 'dganguli1997', 'githubUrl': 'htt...</td>\n",
       "      <td>5019</td>\n",
       "      <td>501</td>\n",
       "      <td>2053.90</td>\n",
       "    </tr>\n",
       "    <tr>\n",
       "      <th>2</th>\n",
       "      <td>rajat_2548</td>\n",
       "      <td>{'username': 'rajat_2548', 'githubUrl': None, ...</td>\n",
       "      <td>13295</td>\n",
       "      <td>1501</td>\n",
       "      <td>1856.61</td>\n",
       "    </tr>\n",
       "    <tr>\n",
       "      <th>3</th>\n",
       "      <td>Anish0909</td>\n",
       "      <td>{'username': 'Anish0909', 'githubUrl': None, '...</td>\n",
       "      <td>9200</td>\n",
       "      <td>1001</td>\n",
       "      <td>1930.58</td>\n",
       "    </tr>\n",
       "    <tr>\n",
       "      <th>4</th>\n",
       "      <td>ap1008</td>\n",
       "      <td>{'username': 'ap1008', 'githubUrl': None, 'twi...</td>\n",
       "      <td>222</td>\n",
       "      <td>2</td>\n",
       "      <td>2707.79</td>\n",
       "    </tr>\n",
       "  </tbody>\n",
       "</table>\n",
       "</div>"
      ],
      "text/plain": [
       "       username                                               data  global  \\\n",
       "0     aryanc403  {'username': 'aryanc403', 'githubUrl': None, '...     120   \n",
       "1  dganguli1997  {'username': 'dganguli1997', 'githubUrl': 'htt...    5019   \n",
       "2    rajat_2548  {'username': 'rajat_2548', 'githubUrl': None, ...   13295   \n",
       "3     Anish0909  {'username': 'Anish0909', 'githubUrl': None, '...    9200   \n",
       "4        ap1008  {'username': 'ap1008', 'githubUrl': None, 'twi...     222   \n",
       "\n",
       "   india   rating  \n",
       "0      1  2841.96  \n",
       "1    501  2053.90  \n",
       "2   1501  1856.61  \n",
       "3   1001  1930.58  \n",
       "4      2  2707.79  "
      ]
     },
     "execution_count": 9,
     "metadata": {},
     "output_type": "execute_result"
    }
   ],
   "source": [
    "df.head()"
   ]
  },
  {
   "cell_type": "code",
   "execution_count": 10,
   "id": "f9a18616",
   "metadata": {},
   "outputs": [],
   "source": [
    "df.sort_values('india', inplace = True)"
   ]
  },
  {
   "cell_type": "code",
   "execution_count": 11,
   "id": "32f9b39d",
   "metadata": {},
   "outputs": [
    {
     "data": {
      "text/html": [
       "<div>\n",
       "<style scoped>\n",
       "    .dataframe tbody tr th:only-of-type {\n",
       "        vertical-align: middle;\n",
       "    }\n",
       "\n",
       "    .dataframe tbody tr th {\n",
       "        vertical-align: top;\n",
       "    }\n",
       "\n",
       "    .dataframe thead th {\n",
       "        text-align: right;\n",
       "    }\n",
       "</style>\n",
       "<table border=\"1\" class=\"dataframe\">\n",
       "  <thead>\n",
       "    <tr style=\"text-align: right;\">\n",
       "      <th></th>\n",
       "      <th>username</th>\n",
       "      <th>data</th>\n",
       "      <th>global</th>\n",
       "      <th>india</th>\n",
       "      <th>rating</th>\n",
       "    </tr>\n",
       "  </thead>\n",
       "  <tbody>\n",
       "    <tr>\n",
       "      <th>0</th>\n",
       "      <td>aryanc403</td>\n",
       "      <td>{'username': 'aryanc403', 'githubUrl': None, '...</td>\n",
       "      <td>120</td>\n",
       "      <td>1</td>\n",
       "      <td>2841.96</td>\n",
       "    </tr>\n",
       "    <tr>\n",
       "      <th>4</th>\n",
       "      <td>ap1008</td>\n",
       "      <td>{'username': 'ap1008', 'githubUrl': None, 'twi...</td>\n",
       "      <td>222</td>\n",
       "      <td>2</td>\n",
       "      <td>2707.79</td>\n",
       "    </tr>\n",
       "    <tr>\n",
       "      <th>5</th>\n",
       "      <td>LosingNowLosingLate</td>\n",
       "      <td>{'username': 'LosingNowLosingLate', 'githubUrl...</td>\n",
       "      <td>230</td>\n",
       "      <td>3</td>\n",
       "      <td>2701.02</td>\n",
       "    </tr>\n",
       "    <tr>\n",
       "      <th>9</th>\n",
       "      <td>taran_1407</td>\n",
       "      <td>{'username': 'taran_1407', 'githubUrl': None, ...</td>\n",
       "      <td>264</td>\n",
       "      <td>4</td>\n",
       "      <td>2676.75</td>\n",
       "    </tr>\n",
       "    <tr>\n",
       "      <th>13</th>\n",
       "      <td>anil9717</td>\n",
       "      <td>{'username': 'anil9717', 'githubUrl': None, 't...</td>\n",
       "      <td>275</td>\n",
       "      <td>5</td>\n",
       "      <td>2667.42</td>\n",
       "    </tr>\n",
       "  </tbody>\n",
       "</table>\n",
       "</div>"
      ],
      "text/plain": [
       "               username                                               data  \\\n",
       "0             aryanc403  {'username': 'aryanc403', 'githubUrl': None, '...   \n",
       "4                ap1008  {'username': 'ap1008', 'githubUrl': None, 'twi...   \n",
       "5   LosingNowLosingLate  {'username': 'LosingNowLosingLate', 'githubUrl...   \n",
       "9            taran_1407  {'username': 'taran_1407', 'githubUrl': None, ...   \n",
       "13             anil9717  {'username': 'anil9717', 'githubUrl': None, 't...   \n",
       "\n",
       "    global  india   rating  \n",
       "0      120      1  2841.96  \n",
       "4      222      2  2707.79  \n",
       "5      230      3  2701.02  \n",
       "9      264      4  2676.75  \n",
       "13     275      5  2667.42  "
      ]
     },
     "execution_count": 11,
     "metadata": {},
     "output_type": "execute_result"
    }
   ],
   "source": [
    "df.head()"
   ]
  },
  {
   "cell_type": "markdown",
   "id": "ab06f6bf",
   "metadata": {},
   "source": [
    "# Processing"
   ]
  },
  {
   "cell_type": "code",
   "execution_count": 12,
   "id": "626b0df8",
   "metadata": {},
   "outputs": [
    {
     "data": {
      "text/plain": [
       "\"{'username': 'AVIRAL_T', 'githubUrl': None, 'twitterUrl': None, 'linkedinUrl': 'https://linkedin.com/in/aviral-tiwari-b69207196', 'profile': {'reputation': 8, 'aboutMe': '', 'websites': ['https://codeforces.com/profile/Continuous'], 'ranking': 78467, 'userAvatar': 'https://s3-us-west-1.amazonaws.com/s3-lc-upload/assets/default_avatar.jpg', 'realName': 'Aviral Tiwari', 'countryName': 'India'}, 'languageStats': [{'languageName': 'C++', 'problemsSolved': 449}], 'skillStats': {'advanced': [{'tagName': 'Data Stream', 'tagSlug': 'data-stream', 'problemsSolved': 2}, {'tagName': 'Game Theory', 'tagSlug': 'game-theory', 'problemsSolved': 2}, {'tagName': 'Rolling Hash', 'tagSlug': 'rolling-hash', 'problemsSolved': 1}, {'tagName': 'Backtracking', 'tagSlug': 'backtracking', 'problemsSolved': 13}, {'tagName': 'Bitmask', 'tagSlug': 'bitmask', 'problemsSolved': 3}, {'tagName': 'Quickselect', 'tagSlug': 'quickselect', 'problemsSolved': 3}, {'tagName': 'Dynamic Programming', 'tagSlug': 'dynamic-programming', 'problemsSolved': 81}, {'tagName': 'Divide and Conquer', 'tagSlug': 'divide-and-conquer', 'problemsSolved': 7}, {'tagName': 'Trie', 'tagSlug': 'trie', 'problemsSolved': 3}, {'tagName': 'Union Find', 'tagSlug': 'union-find', 'problemsSolved': 14}, {'tagName': 'Binary Indexed Tree', 'tagSlug': 'binary-indexed-tree', 'problemsSolved': 5}, {'tagName': 'Segment Tree', 'tagSlug': 'segment-tree', 'problemsSolved': 4}, {'tagName': 'Monotonic Stack', 'tagSlug': 'monotonic-stack', 'problemsSolved': 10}, {'tagName': 'Monotonic Queue', 'tagSlug': 'monotonic-queue', 'problemsSolved': 1}, {'tagName': 'Topological Sort', 'tagSlug': 'topological-sort', 'problemsSolved': 6}, {'tagName': 'Shortest Path', 'tagSlug': 'shortest-path', 'problemsSolved': 3}], 'intermediate': [{'tagName': 'Tree', 'tagSlug': 'tree', 'problemsSolved': 32}, {'tagName': 'Binary Tree', 'tagSlug': 'binary-tree', 'problemsSolved': 29}, {'tagName': 'Hash Table', 'tagSlug': 'hash-table', 'problemsSolved': 84}, {'tagName': 'Ordered Set', 'tagSlug': 'ordered-set', 'problemsSolved': 6}, {'tagName': 'Graph', 'tagSlug': 'graph', 'problemsSolved': 21}, {'tagName': 'Greedy', 'tagSlug': 'greedy', 'problemsSolved': 67}, {'tagName': 'Binary Search', 'tagSlug': 'binary-search', 'problemsSolved': 37}, {'tagName': 'Depth-First Search', 'tagSlug': 'depth-first-search', 'problemsSolved': 43}, {'tagName': 'Breadth-First Search', 'tagSlug': 'breadth-first-search', 'problemsSolved': 32}, {'tagName': 'Recursion', 'tagSlug': 'recursion', 'problemsSolved': 4}, {'tagName': 'Sliding Window', 'tagSlug': 'sliding-window', 'problemsSolved': 21}, {'tagName': 'Bit Manipulation', 'tagSlug': 'bit-manipulation', 'problemsSolved': 25}, {'tagName': 'Math', 'tagSlug': 'math', 'problemsSolved': 52}, {'tagName': 'Design', 'tagSlug': 'design', 'problemsSolved': 15}, {'tagName': 'Iterator', 'tagSlug': 'iterator', 'problemsSolved': 2}], 'fundamental': [{'tagName': 'Array', 'tagSlug': 'array', 'problemsSolved': 257}, {'tagName': 'Matrix', 'tagSlug': 'matrix', 'problemsSolved': 26}, {'tagName': 'String', 'tagSlug': 'string', 'problemsSolved': 123}, {'tagName': 'Simulation', 'tagSlug': 'simulation', 'problemsSolved': 27}, {'tagName': 'Enumeration', 'tagSlug': 'enumeration', 'problemsSolved': 9}, {'tagName': 'Sorting', 'tagSlug': 'sorting', 'problemsSolved': 58}, {'tagName': 'Stack', 'tagSlug': 'stack', 'problemsSolved': 28}, {'tagName': 'Queue', 'tagSlug': 'queue', 'problemsSolved': 2}, {'tagName': 'Linked List', 'tagSlug': 'linked-list', 'problemsSolved': 8}, {'tagName': 'Two Pointers', 'tagSlug': 'two-pointers', 'problemsSolved': 33}]}, 'submitStats': {'acSubmissionNum': [{'difficulty': 'All', 'count': 442, 'submissions': 501}, {'difficulty': 'Easy', 'count': 119, 'submissions': 124}, {'difficulty': 'Medium', 'count': 272, 'submissions': 316}, {'difficulty': 'Hard', 'count': 51, 'submissions': 61}]}}\""
      ]
     },
     "execution_count": 12,
     "metadata": {},
     "output_type": "execute_result"
    }
   ],
   "source": [
    "df.data[10]"
   ]
  },
  {
   "cell_type": "code",
   "execution_count": 40,
   "id": "7a345a15",
   "metadata": {},
   "outputs": [],
   "source": [
    "def get_problem_set(data):\n",
    "    try:\n",
    "        data = data.replace('\\'', '\\\"')\n",
    "        data = data.replace(\"\\\\'\")\n",
    "        data = data.replace('None', 'null')\n",
    "        data = json.loads(data)\n",
    "\n",
    "        problem_set = set()\n",
    "\n",
    "        for label in ['advanced', 'intermediate', 'fundamental']:\n",
    "            if label in data['skillStats'].keys():\n",
    "                for problem in data['skillStats'][label]:\n",
    "                    problem_set.add(problem['tagSlug'])\n",
    "\n",
    "        problem_set = list(problem_set)\n",
    "\n",
    "        return problem_set\n",
    "    except:\n",
    "        return np.NaN"
   ]
  },
  {
   "cell_type": "code",
   "execution_count": 41,
   "id": "daf876c0",
   "metadata": {},
   "outputs": [],
   "source": [
    "df['problems'] = df.data.apply(get_problem_set)"
   ]
  },
  {
   "cell_type": "code",
   "execution_count": 44,
   "id": "bc190820",
   "metadata": {},
   "outputs": [
    {
     "data": {
      "text/plain": [
       "'{\\'username\\': \\'Nikhil_IITP\\', \\'githubUrl\\': None, \\'twitterUrl\\': None, \\'linkedinUrl\\': None, \\'profile\\': {\\'reputation\\': 18, \\'aboutMe\\': \"I am a final year undergrad at IIT Patna. I am very much interested in software development field. ACM ICPC\\'20 Regionalist. Advanced to Google Codejam\\'21 round 2. Codechef max rating 2195 (5star).\", \\'websites\\': [\\'https://www.linkedin.com/in/nikhil-kumar-a89589179\\', \\'http://codeforces.com/profile/nikhil_kr \\', \\'https://www.codechef.com/users/nikiitp18\\'], \\'ranking\\': 128863, \\'userAvatar\\': \\'https://assets.leetcode.com/users/avatars/avatar_1643097125.png\\', \\'realName\\': \\'Nikhil Kumar\\', \\'countryName\\': \\'India\\'}, \\'languageStats\\': [{\\'languageName\\': \\'C++\\', \\'problemsSolved\\': 343}, {\\'languageName\\': \\'Java\\', \\'problemsSolved\\': 1}], \\'skillStats\\': {\\'advanced\\': [{\\'tagName\\': \\'Game Theory\\', \\'tagSlug\\': \\'game-theory\\', \\'problemsSolved\\': 4}, {\\'tagName\\': \\'Rolling Hash\\', \\'tagSlug\\': \\'rolling-hash\\', \\'problemsSolved\\': 2}, {\\'tagName\\': \\'Backtracking\\', \\'tagSlug\\': \\'backtracking\\', \\'problemsSolved\\': 10}, {\\'tagName\\': \\'Bitmask\\', \\'tagSlug\\': \\'bitmask\\', \\'problemsSolved\\': 6}, {\\'tagName\\': \\'Quickselect\\', \\'tagSlug\\': \\'quickselect\\', \\'problemsSolved\\': 3}, {\\'tagName\\': \\'Dynamic Programming\\', \\'tagSlug\\': \\'dynamic-programming\\', \\'problemsSolved\\': 61}, {\\'tagName\\': \\'Divide and Conquer\\', \\'tagSlug\\': \\'divide-and-conquer\\', \\'problemsSolved\\': 9}, {\\'tagName\\': \\'Union Find\\', \\'tagSlug\\': \\'union-find\\', \\'problemsSolved\\': 8}, {\\'tagName\\': \\'Suffix Array\\', \\'tagSlug\\': \\'suffix-array\\', \\'problemsSolved\\': 1}, {\\'tagName\\': \\'Binary Indexed Tree\\', \\'tagSlug\\': \\'binary-indexed-tree\\', \\'problemsSolved\\': 3}, {\\'tagName\\': \\'Segment Tree\\', \\'tagSlug\\': \\'segment-tree\\', \\'problemsSolved\\': 3}, {\\'tagName\\': \\'Monotonic Stack\\', \\'tagSlug\\': \\'monotonic-stack\\', \\'problemsSolved\\': 10}, {\\'tagName\\': \\'Monotonic Queue\\', \\'tagSlug\\': \\'monotonic-queue\\', \\'problemsSolved\\': 1}, {\\'tagName\\': \\'Topological Sort\\', \\'tagSlug\\': \\'topological-sort\\', \\'problemsSolved\\': 5}, {\\'tagName\\': \\'Shortest Path\\', \\'tagSlug\\': \\'shortest-path\\', \\'problemsSolved\\': 1}], \\'intermediate\\': [{\\'tagName\\': \\'Tree\\', \\'tagSlug\\': \\'tree\\', \\'problemsSolved\\': 36}, {\\'tagName\\': \\'Binary Tree\\', \\'tagSlug\\': \\'binary-tree\\', \\'problemsSolved\\': 30}, {\\'tagName\\': \\'Hash Table\\', \\'tagSlug\\': \\'hash-table\\', \\'problemsSolved\\': 57}, {\\'tagName\\': \\'Ordered Set\\', \\'tagSlug\\': \\'ordered-set\\', \\'problemsSolved\\': 5}, {\\'tagName\\': \\'Graph\\', \\'tagSlug\\': \\'graph\\', \\'problemsSolved\\': 15}, {\\'tagName\\': \\'Greedy\\', \\'tagSlug\\': \\'greedy\\', \\'problemsSolved\\': 48}, {\\'tagName\\': \\'Binary Search\\', \\'tagSlug\\': \\'binary-search\\', \\'problemsSolved\\': 30}, {\\'tagName\\': \\'Depth-First Search\\', \\'tagSlug\\': \\'depth-first-search\\', \\'problemsSolved\\': 35}, {\\'tagName\\': \\'Breadth-First Search\\', \\'tagSlug\\': \\'breadth-first-search\\', \\'problemsSolved\\': 24}, {\\'tagName\\': \\'Recursion\\', \\'tagSlug\\': \\'recursion\\', \\'problemsSolved\\': 10}, {\\'tagName\\': \\'Sliding Window\\', \\'tagSlug\\': \\'sliding-window\\', \\'problemsSolved\\': 9}, {\\'tagName\\': \\'Bit Manipulation\\', \\'tagSlug\\': \\'bit-manipulation\\', \\'problemsSolved\\': 19}, {\\'tagName\\': \\'Math\\', \\'tagSlug\\': \\'math\\', \\'problemsSolved\\': 53}, {\\'tagName\\': \\'Design\\', \\'tagSlug\\': \\'design\\', \\'problemsSolved\\': 6}, {\\'tagName\\': \\'Brainteaser\\', \\'tagSlug\\': \\'brainteaser\\', \\'problemsSolved\\': 1}], \\'fundamental\\': [{\\'tagName\\': \\'Array\\', \\'tagSlug\\': \\'array\\', \\'problemsSolved\\': 185}, {\\'tagName\\': \\'Matrix\\', \\'tagSlug\\': \\'matrix\\', \\'problemsSolved\\': 23}, {\\'tagName\\': \\'String\\', \\'tagSlug\\': \\'string\\', \\'problemsSolved\\': 85}, {\\'tagName\\': \\'Simulation\\', \\'tagSlug\\': \\'simulation\\', \\'problemsSolved\\': 14}, {\\'tagName\\': \\'Enumeration\\', \\'tagSlug\\': \\'enumeration\\', \\'problemsSolved\\': 9}, {\\'tagName\\': \\'Sorting\\', \\'tagSlug\\': \\'sorting\\', \\'problemsSolved\\': 48}, {\\'tagName\\': \\'Stack\\', \\'tagSlug\\': \\'stack\\', \\'problemsSolved\\': 22}, {\\'tagName\\': \\'Queue\\', \\'tagSlug\\': \\'queue\\', \\'problemsSolved\\': 3}, {\\'tagName\\': \\'Linked List\\', \\'tagSlug\\': \\'linked-list\\', \\'problemsSolved\\': 22}, {\\'tagName\\': \\'Two Pointers\\', \\'tagSlug\\': \\'two-pointers\\', \\'problemsSolved\\': 28}]}, \\'submitStats\\': {\\'acSubmissionNum\\': [{\\'difficulty\\': \\'All\\', \\'count\\': 344, \\'submissions\\': 425}, {\\'difficulty\\': \\'Easy\\', \\'count\\': 112, \\'submissions\\': 123}, {\\'difficulty\\': \\'Medium\\', \\'count\\': 170, \\'submissions\\': 202}, {\\'difficulty\\': \\'Hard\\', \\'count\\': 62, \\'submissions\\': 100}]}}'"
      ]
     },
     "execution_count": 44,
     "metadata": {},
     "output_type": "execute_result"
    }
   ],
   "source": [
    "df[df.problems.isnull()].data[336]"
   ]
  },
  {
   "cell_type": "code",
   "execution_count": 37,
   "id": "082cd96a",
   "metadata": {},
   "outputs": [
    {
     "data": {
      "text/plain": [
       "username     object\n",
       "data         object\n",
       "global        int64\n",
       "india         int64\n",
       "rating      float64\n",
       "problems     object\n",
       "dtype: object"
      ]
     },
     "execution_count": 37,
     "metadata": {},
     "output_type": "execute_result"
    }
   ],
   "source": [
    "df.dtypes"
   ]
  },
  {
   "cell_type": "code",
   "execution_count": null,
   "id": "660d52f3",
   "metadata": {},
   "outputs": [],
   "source": []
  }
 ],
 "metadata": {
  "kernelspec": {
   "display_name": "Python 3 (ipykernel)",
   "language": "python",
   "name": "python3"
  },
  "language_info": {
   "codemirror_mode": {
    "name": "ipython",
    "version": 3
   },
   "file_extension": ".py",
   "mimetype": "text/x-python",
   "name": "python",
   "nbconvert_exporter": "python",
   "pygments_lexer": "ipython3",
   "version": "3.10.2"
  }
 },
 "nbformat": 4,
 "nbformat_minor": 5
}
