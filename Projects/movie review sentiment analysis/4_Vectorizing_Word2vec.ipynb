{
 "cells": [
  {
   "attachments": {},
   "cell_type": "markdown",
   "metadata": {},
   "source": [
    "# Loading"
   ]
  },
  {
   "cell_type": "code",
   "execution_count": 1,
   "metadata": {},
   "outputs": [],
   "source": [
    "import pandas as pd\n",
    "import numpy as np\n",
    "from gensim.models import Word2Vec"
   ]
  },
  {
   "cell_type": "code",
   "execution_count": 2,
   "metadata": {},
   "outputs": [],
   "source": [
    "df = pd.read_csv('df_stem.csv')"
   ]
  },
  {
   "cell_type": "code",
   "execution_count": 3,
   "metadata": {},
   "outputs": [
    {
     "data": {
      "text/html": [
       "<div>\n",
       "<style scoped>\n",
       "    .dataframe tbody tr th:only-of-type {\n",
       "        vertical-align: middle;\n",
       "    }\n",
       "\n",
       "    .dataframe tbody tr th {\n",
       "        vertical-align: top;\n",
       "    }\n",
       "\n",
       "    .dataframe thead th {\n",
       "        text-align: right;\n",
       "    }\n",
       "</style>\n",
       "<table border=\"1\" class=\"dataframe\">\n",
       "  <thead>\n",
       "    <tr style=\"text-align: right;\">\n",
       "      <th></th>\n",
       "      <th>Unnamed: 0.1</th>\n",
       "      <th>Unnamed: 0</th>\n",
       "      <th>review</th>\n",
       "      <th>sentiment</th>\n",
       "      <th>review_stem</th>\n",
       "    </tr>\n",
       "  </thead>\n",
       "  <tbody>\n",
       "    <tr>\n",
       "      <th>0</th>\n",
       "      <td>0</td>\n",
       "      <td>0</td>\n",
       "      <td>one of the other reviewers has mentioned that ...</td>\n",
       "      <td>1</td>\n",
       "      <td>one review mention watch 1 oz episod youll hoo...</td>\n",
       "    </tr>\n",
       "    <tr>\n",
       "      <th>1</th>\n",
       "      <td>1</td>\n",
       "      <td>1</td>\n",
       "      <td>a wonderful little production the filming tech...</td>\n",
       "      <td>1</td>\n",
       "      <td>wonder littl product film techniqu unassum old...</td>\n",
       "    </tr>\n",
       "    <tr>\n",
       "      <th>2</th>\n",
       "      <td>2</td>\n",
       "      <td>2</td>\n",
       "      <td>i thought this was a wonderful way to spend ti...</td>\n",
       "      <td>1</td>\n",
       "      <td>thought wonder way spend time hot summer weeke...</td>\n",
       "    </tr>\n",
       "    <tr>\n",
       "      <th>3</th>\n",
       "      <td>3</td>\n",
       "      <td>3</td>\n",
       "      <td>basically theres a family where a little boy j...</td>\n",
       "      <td>0</td>\n",
       "      <td>basic there famili littl boy jake think there ...</td>\n",
       "    </tr>\n",
       "    <tr>\n",
       "      <th>4</th>\n",
       "      <td>4</td>\n",
       "      <td>4</td>\n",
       "      <td>petter matteis love in the time of money is a ...</td>\n",
       "      <td>1</td>\n",
       "      <td>petter mattei love time money visual stun film...</td>\n",
       "    </tr>\n",
       "  </tbody>\n",
       "</table>\n",
       "</div>"
      ],
      "text/plain": [
       "   Unnamed: 0.1  Unnamed: 0   \n",
       "0             0           0  \\\n",
       "1             1           1   \n",
       "2             2           2   \n",
       "3             3           3   \n",
       "4             4           4   \n",
       "\n",
       "                                              review  sentiment   \n",
       "0  one of the other reviewers has mentioned that ...          1  \\\n",
       "1  a wonderful little production the filming tech...          1   \n",
       "2  i thought this was a wonderful way to spend ti...          1   \n",
       "3  basically theres a family where a little boy j...          0   \n",
       "4  petter matteis love in the time of money is a ...          1   \n",
       "\n",
       "                                         review_stem  \n",
       "0  one review mention watch 1 oz episod youll hoo...  \n",
       "1  wonder littl product film techniqu unassum old...  \n",
       "2  thought wonder way spend time hot summer weeke...  \n",
       "3  basic there famili littl boy jake think there ...  \n",
       "4  petter mattei love time money visual stun film...  "
      ]
     },
     "execution_count": 3,
     "metadata": {},
     "output_type": "execute_result"
    }
   ],
   "source": [
    "df.head()"
   ]
  },
  {
   "cell_type": "code",
   "execution_count": 4,
   "metadata": {},
   "outputs": [],
   "source": [
    "df = df[['review_stem', 'sentiment']]"
   ]
  },
  {
   "cell_type": "code",
   "execution_count": 5,
   "metadata": {},
   "outputs": [
    {
     "data": {
      "text/html": [
       "<div>\n",
       "<style scoped>\n",
       "    .dataframe tbody tr th:only-of-type {\n",
       "        vertical-align: middle;\n",
       "    }\n",
       "\n",
       "    .dataframe tbody tr th {\n",
       "        vertical-align: top;\n",
       "    }\n",
       "\n",
       "    .dataframe thead th {\n",
       "        text-align: right;\n",
       "    }\n",
       "</style>\n",
       "<table border=\"1\" class=\"dataframe\">\n",
       "  <thead>\n",
       "    <tr style=\"text-align: right;\">\n",
       "      <th></th>\n",
       "      <th>review_stem</th>\n",
       "      <th>sentiment</th>\n",
       "    </tr>\n",
       "  </thead>\n",
       "  <tbody>\n",
       "    <tr>\n",
       "      <th>0</th>\n",
       "      <td>one review mention watch 1 oz episod youll hoo...</td>\n",
       "      <td>1</td>\n",
       "    </tr>\n",
       "    <tr>\n",
       "      <th>1</th>\n",
       "      <td>wonder littl product film techniqu unassum old...</td>\n",
       "      <td>1</td>\n",
       "    </tr>\n",
       "    <tr>\n",
       "      <th>2</th>\n",
       "      <td>thought wonder way spend time hot summer weeke...</td>\n",
       "      <td>1</td>\n",
       "    </tr>\n",
       "    <tr>\n",
       "      <th>3</th>\n",
       "      <td>basic there famili littl boy jake think there ...</td>\n",
       "      <td>0</td>\n",
       "    </tr>\n",
       "    <tr>\n",
       "      <th>4</th>\n",
       "      <td>petter mattei love time money visual stun film...</td>\n",
       "      <td>1</td>\n",
       "    </tr>\n",
       "  </tbody>\n",
       "</table>\n",
       "</div>"
      ],
      "text/plain": [
       "                                         review_stem  sentiment\n",
       "0  one review mention watch 1 oz episod youll hoo...          1\n",
       "1  wonder littl product film techniqu unassum old...          1\n",
       "2  thought wonder way spend time hot summer weeke...          1\n",
       "3  basic there famili littl boy jake think there ...          0\n",
       "4  petter mattei love time money visual stun film...          1"
      ]
     },
     "execution_count": 5,
     "metadata": {},
     "output_type": "execute_result"
    }
   ],
   "source": [
    "df.head()"
   ]
  },
  {
   "attachments": {},
   "cell_type": "markdown",
   "metadata": {},
   "source": [
    "# Word 2 Vec"
   ]
  },
  {
   "cell_type": "code",
   "execution_count": 6,
   "metadata": {},
   "outputs": [],
   "source": [
    "df['review_stem'] = df['review_stem'].apply(str.split)"
   ]
  },
  {
   "cell_type": "code",
   "execution_count": 7,
   "metadata": {},
   "outputs": [
    {
     "data": {
      "text/html": [
       "<div>\n",
       "<style scoped>\n",
       "    .dataframe tbody tr th:only-of-type {\n",
       "        vertical-align: middle;\n",
       "    }\n",
       "\n",
       "    .dataframe tbody tr th {\n",
       "        vertical-align: top;\n",
       "    }\n",
       "\n",
       "    .dataframe thead th {\n",
       "        text-align: right;\n",
       "    }\n",
       "</style>\n",
       "<table border=\"1\" class=\"dataframe\">\n",
       "  <thead>\n",
       "    <tr style=\"text-align: right;\">\n",
       "      <th></th>\n",
       "      <th>review_stem</th>\n",
       "      <th>sentiment</th>\n",
       "    </tr>\n",
       "  </thead>\n",
       "  <tbody>\n",
       "    <tr>\n",
       "      <th>0</th>\n",
       "      <td>[one, review, mention, watch, 1, oz, episod, y...</td>\n",
       "      <td>1</td>\n",
       "    </tr>\n",
       "    <tr>\n",
       "      <th>1</th>\n",
       "      <td>[wonder, littl, product, film, techniqu, unass...</td>\n",
       "      <td>1</td>\n",
       "    </tr>\n",
       "    <tr>\n",
       "      <th>2</th>\n",
       "      <td>[thought, wonder, way, spend, time, hot, summe...</td>\n",
       "      <td>1</td>\n",
       "    </tr>\n",
       "    <tr>\n",
       "      <th>3</th>\n",
       "      <td>[basic, there, famili, littl, boy, jake, think...</td>\n",
       "      <td>0</td>\n",
       "    </tr>\n",
       "    <tr>\n",
       "      <th>4</th>\n",
       "      <td>[petter, mattei, love, time, money, visual, st...</td>\n",
       "      <td>1</td>\n",
       "    </tr>\n",
       "  </tbody>\n",
       "</table>\n",
       "</div>"
      ],
      "text/plain": [
       "                                         review_stem  sentiment\n",
       "0  [one, review, mention, watch, 1, oz, episod, y...          1\n",
       "1  [wonder, littl, product, film, techniqu, unass...          1\n",
       "2  [thought, wonder, way, spend, time, hot, summe...          1\n",
       "3  [basic, there, famili, littl, boy, jake, think...          0\n",
       "4  [petter, mattei, love, time, money, visual, st...          1"
      ]
     },
     "execution_count": 7,
     "metadata": {},
     "output_type": "execute_result"
    }
   ],
   "source": [
    "df.head()"
   ]
  },
  {
   "cell_type": "code",
   "execution_count": 8,
   "metadata": {},
   "outputs": [],
   "source": [
    "model = Word2Vec(\n",
    "    df['review_stem'],\n",
    "    vector_size = 100,\n",
    "    min_count = 1\n",
    ")"
   ]
  },
  {
   "cell_type": "code",
   "execution_count": 9,
   "metadata": {},
   "outputs": [
    {
     "data": {
      "text/plain": [
       "181885"
      ]
     },
     "execution_count": 9,
     "metadata": {},
     "output_type": "execute_result"
    }
   ],
   "source": [
    "len(model.wv.index_to_key)"
   ]
  },
  {
   "cell_type": "code",
   "execution_count": 10,
   "metadata": {},
   "outputs": [
    {
     "data": {
      "text/plain": [
       "[('amaz', 0.6838846206665039),\n",
       " ('great', 0.6593637466430664),\n",
       " ('fantast', 0.639372706413269),\n",
       " ('brilliant', 0.6155218482017517),\n",
       " ('excel', 0.6026454567909241),\n",
       " ('marvel', 0.5858359336853027),\n",
       " ('outstand', 0.5734038352966309),\n",
       " ('emotionallymov', 0.5700697302818298),\n",
       " ('fine', 0.5667689442634583),\n",
       " ('terrif', 0.5630647540092468)]"
      ]
     },
     "execution_count": 10,
     "metadata": {},
     "output_type": "execute_result"
    }
   ],
   "source": [
    "model.wv.most_similar('wonder')"
   ]
  },
  {
   "cell_type": "code",
   "execution_count": 11,
   "metadata": {},
   "outputs": [
    {
     "data": {
      "text/plain": [
       "[('twice', 0.5350856781005859),\n",
       " ('timeth', 0.5203762054443359),\n",
       " ('way', 0.5142894983291626),\n",
       " ('day', 0.5107340216636658),\n",
       " ('week', 0.5072611570358276),\n",
       " ('yourtim', 0.5014492273330688),\n",
       " ('timei', 0.5007034540176392),\n",
       " ('occas', 0.49366918206214905),\n",
       " ('viewingther', 0.4885726273059845),\n",
       " ('consciencey', 0.4807792901992798)]"
      ]
     },
     "execution_count": 11,
     "metadata": {},
     "output_type": "execute_result"
    }
   ],
   "source": [
    "model.wv.most_similar('time')"
   ]
  },
  {
   "attachments": {},
   "cell_type": "markdown",
   "metadata": {},
   "source": [
    "## Sentence Averaging"
   ]
  },
  {
   "cell_type": "code",
   "execution_count": 12,
   "metadata": {},
   "outputs": [],
   "source": [
    "def sentence_average(keys):\n",
    "    vector_sum = np.array([0.0] * 100)\n",
    "    \n",
    "    for key in keys:\n",
    "        vector_sum += np.array(model.wv.get_vector(key).tolist())\n",
    "    \n",
    "    return vector_sum / len(keys)"
   ]
  },
  {
   "cell_type": "code",
   "execution_count": 13,
   "metadata": {},
   "outputs": [
    {
     "data": {
      "text/plain": [
       "array([-0.25114734,  0.56130495,  0.12622223, -0.09484987,  0.11403836,\n",
       "       -0.85955142, -0.24019168,  0.36160183, -0.43221062, -0.24736694,\n",
       "       -0.26967891, -0.88656184, -0.10944689,  0.59524837,  0.6140416 ,\n",
       "       -0.26421048, -0.34738145,  0.22597556, -0.30315009, -0.3500781 ,\n",
       "       -0.10531182,  0.28648132,  0.32011766, -0.00497991, -0.856269  ,\n",
       "        0.39994858, -0.03192961, -0.56758975, -0.04820226,  0.23657853,\n",
       "        0.17174474, -0.45998302,  0.36186432, -0.2337815 , -0.28648373,\n",
       "        0.62403883,  0.1770442 , -0.05660974, -0.70498997, -0.45916587,\n",
       "       -0.25734449, -0.40414656, -0.51474091,  0.40341388,  0.04077772,\n",
       "        0.37760741, -0.05125772, -0.75305606,  0.63317299,  0.27578309,\n",
       "        0.1275908 , -0.04617969,  0.32193216, -0.24863227, -0.17195917,\n",
       "       -0.07118574,  0.34046771, -0.13161188, -0.59056102, -0.24107444,\n",
       "       -0.02031403,  0.12239894,  0.20721275,  0.18943326, -0.25727393,\n",
       "        0.23768727, -0.10195069,  0.23688781, -1.02580086,  0.17278237,\n",
       "        0.04227636,  0.35424456,  0.29675917, -0.20918218,  0.15393136,\n",
       "        0.3249311 ,  0.31319351,  0.27593281, -0.39390007,  0.66516765,\n",
       "        0.05286108,  0.22677338, -0.23833483,  0.27671016,  0.28038188,\n",
       "        0.09620504,  0.18919885,  0.62149528,  0.39084276,  0.58080995,\n",
       "        0.32173743,  0.54517923,  0.06286149,  0.241012  , -0.00174974,\n",
       "        0.34958907,  0.23644307, -0.48059477,  0.37525374, -0.43095082])"
      ]
     },
     "execution_count": 13,
     "metadata": {},
     "output_type": "execute_result"
    }
   ],
   "source": [
    "sentence_average(df['review_stem'][0])"
   ]
  },
  {
   "attachments": {},
   "cell_type": "markdown",
   "metadata": {},
   "source": [
    "## Vector Dataframe"
   ]
  },
  {
   "cell_type": "code",
   "execution_count": 14,
   "metadata": {},
   "outputs": [],
   "source": [
    "dfv = pd.DataFrame()"
   ]
  },
  {
   "cell_type": "code",
   "execution_count": 15,
   "metadata": {},
   "outputs": [],
   "source": [
    "dfv[[str(i) for i in range(100)]] = df.apply(lambda row: sentence_average(row[0]), axis = 1, result_type = \"expand\")"
   ]
  },
  {
   "cell_type": "code",
   "execution_count": 16,
   "metadata": {},
   "outputs": [
    {
     "data": {
      "text/html": [
       "<div>\n",
       "<style scoped>\n",
       "    .dataframe tbody tr th:only-of-type {\n",
       "        vertical-align: middle;\n",
       "    }\n",
       "\n",
       "    .dataframe tbody tr th {\n",
       "        vertical-align: top;\n",
       "    }\n",
       "\n",
       "    .dataframe thead th {\n",
       "        text-align: right;\n",
       "    }\n",
       "</style>\n",
       "<table border=\"1\" class=\"dataframe\">\n",
       "  <thead>\n",
       "    <tr style=\"text-align: right;\">\n",
       "      <th></th>\n",
       "      <th>0</th>\n",
       "      <th>1</th>\n",
       "      <th>2</th>\n",
       "      <th>3</th>\n",
       "      <th>4</th>\n",
       "      <th>5</th>\n",
       "      <th>6</th>\n",
       "      <th>7</th>\n",
       "      <th>8</th>\n",
       "      <th>9</th>\n",
       "      <th>...</th>\n",
       "      <th>90</th>\n",
       "      <th>91</th>\n",
       "      <th>92</th>\n",
       "      <th>93</th>\n",
       "      <th>94</th>\n",
       "      <th>95</th>\n",
       "      <th>96</th>\n",
       "      <th>97</th>\n",
       "      <th>98</th>\n",
       "      <th>99</th>\n",
       "    </tr>\n",
       "  </thead>\n",
       "  <tbody>\n",
       "    <tr>\n",
       "      <th>0</th>\n",
       "      <td>-0.251147</td>\n",
       "      <td>0.561305</td>\n",
       "      <td>0.126222</td>\n",
       "      <td>-0.094850</td>\n",
       "      <td>0.114038</td>\n",
       "      <td>-0.859551</td>\n",
       "      <td>-0.240192</td>\n",
       "      <td>0.361602</td>\n",
       "      <td>-0.432211</td>\n",
       "      <td>-0.247367</td>\n",
       "      <td>...</td>\n",
       "      <td>0.321737</td>\n",
       "      <td>0.545179</td>\n",
       "      <td>0.062861</td>\n",
       "      <td>0.241012</td>\n",
       "      <td>-0.001750</td>\n",
       "      <td>0.349589</td>\n",
       "      <td>0.236443</td>\n",
       "      <td>-0.480595</td>\n",
       "      <td>0.375254</td>\n",
       "      <td>-0.430951</td>\n",
       "    </tr>\n",
       "    <tr>\n",
       "      <th>1</th>\n",
       "      <td>-0.351663</td>\n",
       "      <td>0.121878</td>\n",
       "      <td>-0.120232</td>\n",
       "      <td>-0.553368</td>\n",
       "      <td>0.182102</td>\n",
       "      <td>-1.230392</td>\n",
       "      <td>0.201216</td>\n",
       "      <td>0.558062</td>\n",
       "      <td>-0.544723</td>\n",
       "      <td>-0.838765</td>\n",
       "      <td>...</td>\n",
       "      <td>0.239608</td>\n",
       "      <td>0.648976</td>\n",
       "      <td>0.118813</td>\n",
       "      <td>0.202644</td>\n",
       "      <td>-0.037746</td>\n",
       "      <td>0.672800</td>\n",
       "      <td>0.460015</td>\n",
       "      <td>-0.634437</td>\n",
       "      <td>0.277175</td>\n",
       "      <td>-0.146046</td>\n",
       "    </tr>\n",
       "    <tr>\n",
       "      <th>2</th>\n",
       "      <td>-0.552294</td>\n",
       "      <td>0.300187</td>\n",
       "      <td>-0.094526</td>\n",
       "      <td>-0.310396</td>\n",
       "      <td>-0.018994</td>\n",
       "      <td>-0.820702</td>\n",
       "      <td>0.353900</td>\n",
       "      <td>0.716587</td>\n",
       "      <td>-0.478776</td>\n",
       "      <td>-0.726901</td>\n",
       "      <td>...</td>\n",
       "      <td>0.316577</td>\n",
       "      <td>0.510552</td>\n",
       "      <td>0.079388</td>\n",
       "      <td>0.559151</td>\n",
       "      <td>-0.047210</td>\n",
       "      <td>0.351930</td>\n",
       "      <td>0.533410</td>\n",
       "      <td>-0.288712</td>\n",
       "      <td>0.183992</td>\n",
       "      <td>-0.352972</td>\n",
       "    </tr>\n",
       "    <tr>\n",
       "      <th>3</th>\n",
       "      <td>-0.233144</td>\n",
       "      <td>0.494998</td>\n",
       "      <td>0.041341</td>\n",
       "      <td>-0.211720</td>\n",
       "      <td>-0.121327</td>\n",
       "      <td>-0.502161</td>\n",
       "      <td>0.055911</td>\n",
       "      <td>0.394001</td>\n",
       "      <td>-0.394661</td>\n",
       "      <td>-0.845051</td>\n",
       "      <td>...</td>\n",
       "      <td>0.094764</td>\n",
       "      <td>0.917627</td>\n",
       "      <td>0.364555</td>\n",
       "      <td>0.159884</td>\n",
       "      <td>-0.202905</td>\n",
       "      <td>0.805818</td>\n",
       "      <td>0.485097</td>\n",
       "      <td>-0.742107</td>\n",
       "      <td>0.061896</td>\n",
       "      <td>-0.303398</td>\n",
       "    </tr>\n",
       "    <tr>\n",
       "      <th>4</th>\n",
       "      <td>-0.376380</td>\n",
       "      <td>0.266668</td>\n",
       "      <td>-0.131451</td>\n",
       "      <td>-0.053470</td>\n",
       "      <td>0.472519</td>\n",
       "      <td>-1.122471</td>\n",
       "      <td>0.230775</td>\n",
       "      <td>0.287217</td>\n",
       "      <td>-0.643272</td>\n",
       "      <td>-0.717788</td>\n",
       "      <td>...</td>\n",
       "      <td>0.239622</td>\n",
       "      <td>0.739376</td>\n",
       "      <td>0.068496</td>\n",
       "      <td>0.188084</td>\n",
       "      <td>0.096164</td>\n",
       "      <td>0.574591</td>\n",
       "      <td>0.168376</td>\n",
       "      <td>-0.363870</td>\n",
       "      <td>0.606393</td>\n",
       "      <td>-0.529876</td>\n",
       "    </tr>\n",
       "  </tbody>\n",
       "</table>\n",
       "<p>5 rows × 100 columns</p>\n",
       "</div>"
      ],
      "text/plain": [
       "          0         1         2         3         4         5         6   \n",
       "0 -0.251147  0.561305  0.126222 -0.094850  0.114038 -0.859551 -0.240192  \\\n",
       "1 -0.351663  0.121878 -0.120232 -0.553368  0.182102 -1.230392  0.201216   \n",
       "2 -0.552294  0.300187 -0.094526 -0.310396 -0.018994 -0.820702  0.353900   \n",
       "3 -0.233144  0.494998  0.041341 -0.211720 -0.121327 -0.502161  0.055911   \n",
       "4 -0.376380  0.266668 -0.131451 -0.053470  0.472519 -1.122471  0.230775   \n",
       "\n",
       "          7         8         9  ...        90        91        92        93   \n",
       "0  0.361602 -0.432211 -0.247367  ...  0.321737  0.545179  0.062861  0.241012  \\\n",
       "1  0.558062 -0.544723 -0.838765  ...  0.239608  0.648976  0.118813  0.202644   \n",
       "2  0.716587 -0.478776 -0.726901  ...  0.316577  0.510552  0.079388  0.559151   \n",
       "3  0.394001 -0.394661 -0.845051  ...  0.094764  0.917627  0.364555  0.159884   \n",
       "4  0.287217 -0.643272 -0.717788  ...  0.239622  0.739376  0.068496  0.188084   \n",
       "\n",
       "         94        95        96        97        98        99  \n",
       "0 -0.001750  0.349589  0.236443 -0.480595  0.375254 -0.430951  \n",
       "1 -0.037746  0.672800  0.460015 -0.634437  0.277175 -0.146046  \n",
       "2 -0.047210  0.351930  0.533410 -0.288712  0.183992 -0.352972  \n",
       "3 -0.202905  0.805818  0.485097 -0.742107  0.061896 -0.303398  \n",
       "4  0.096164  0.574591  0.168376 -0.363870  0.606393 -0.529876  \n",
       "\n",
       "[5 rows x 100 columns]"
      ]
     },
     "execution_count": 16,
     "metadata": {},
     "output_type": "execute_result"
    }
   ],
   "source": [
    "dfv.head()"
   ]
  },
  {
   "cell_type": "code",
   "execution_count": 17,
   "metadata": {},
   "outputs": [
    {
     "data": {
      "text/plain": [
       "(50000, 100)"
      ]
     },
     "execution_count": 17,
     "metadata": {},
     "output_type": "execute_result"
    }
   ],
   "source": [
    "dfv.shape"
   ]
  },
  {
   "cell_type": "code",
   "execution_count": 18,
   "metadata": {},
   "outputs": [
    {
     "data": {
      "text/html": [
       "<div>\n",
       "<style scoped>\n",
       "    .dataframe tbody tr th:only-of-type {\n",
       "        vertical-align: middle;\n",
       "    }\n",
       "\n",
       "    .dataframe tbody tr th {\n",
       "        vertical-align: top;\n",
       "    }\n",
       "\n",
       "    .dataframe thead th {\n",
       "        text-align: right;\n",
       "    }\n",
       "</style>\n",
       "<table border=\"1\" class=\"dataframe\">\n",
       "  <thead>\n",
       "    <tr style=\"text-align: right;\">\n",
       "      <th></th>\n",
       "      <th>0</th>\n",
       "      <th>1</th>\n",
       "      <th>2</th>\n",
       "      <th>3</th>\n",
       "      <th>4</th>\n",
       "      <th>5</th>\n",
       "      <th>6</th>\n",
       "      <th>7</th>\n",
       "      <th>8</th>\n",
       "      <th>9</th>\n",
       "      <th>...</th>\n",
       "      <th>90</th>\n",
       "      <th>91</th>\n",
       "      <th>92</th>\n",
       "      <th>93</th>\n",
       "      <th>94</th>\n",
       "      <th>95</th>\n",
       "      <th>96</th>\n",
       "      <th>97</th>\n",
       "      <th>98</th>\n",
       "      <th>99</th>\n",
       "    </tr>\n",
       "  </thead>\n",
       "  <tbody>\n",
       "    <tr>\n",
       "      <th>count</th>\n",
       "      <td>50000.000000</td>\n",
       "      <td>50000.000000</td>\n",
       "      <td>50000.000000</td>\n",
       "      <td>50000.000000</td>\n",
       "      <td>50000.000000</td>\n",
       "      <td>50000.000000</td>\n",
       "      <td>50000.000000</td>\n",
       "      <td>50000.000000</td>\n",
       "      <td>50000.000000</td>\n",
       "      <td>50000.000000</td>\n",
       "      <td>...</td>\n",
       "      <td>50000.000000</td>\n",
       "      <td>50000.000000</td>\n",
       "      <td>50000.000000</td>\n",
       "      <td>50000.000000</td>\n",
       "      <td>50000.000000</td>\n",
       "      <td>50000.000000</td>\n",
       "      <td>50000.000000</td>\n",
       "      <td>50000.000000</td>\n",
       "      <td>50000.000000</td>\n",
       "      <td>50000.000000</td>\n",
       "    </tr>\n",
       "    <tr>\n",
       "      <th>mean</th>\n",
       "      <td>-0.435858</td>\n",
       "      <td>0.343747</td>\n",
       "      <td>-0.142955</td>\n",
       "      <td>-0.207073</td>\n",
       "      <td>0.039749</td>\n",
       "      <td>-0.851512</td>\n",
       "      <td>0.051781</td>\n",
       "      <td>0.386618</td>\n",
       "      <td>-0.494941</td>\n",
       "      <td>-0.714446</td>\n",
       "      <td>...</td>\n",
       "      <td>0.304288</td>\n",
       "      <td>0.528262</td>\n",
       "      <td>0.024425</td>\n",
       "      <td>0.311987</td>\n",
       "      <td>0.054328</td>\n",
       "      <td>0.568812</td>\n",
       "      <td>0.482529</td>\n",
       "      <td>-0.403340</td>\n",
       "      <td>0.209007</td>\n",
       "      <td>-0.406036</td>\n",
       "    </tr>\n",
       "    <tr>\n",
       "      <th>std</th>\n",
       "      <td>0.180976</td>\n",
       "      <td>0.203002</td>\n",
       "      <td>0.200563</td>\n",
       "      <td>0.187675</td>\n",
       "      <td>0.242441</td>\n",
       "      <td>0.210240</td>\n",
       "      <td>0.179665</td>\n",
       "      <td>0.154537</td>\n",
       "      <td>0.164958</td>\n",
       "      <td>0.238769</td>\n",
       "      <td>...</td>\n",
       "      <td>0.151729</td>\n",
       "      <td>0.205215</td>\n",
       "      <td>0.176769</td>\n",
       "      <td>0.185555</td>\n",
       "      <td>0.172128</td>\n",
       "      <td>0.178191</td>\n",
       "      <td>0.229812</td>\n",
       "      <td>0.185536</td>\n",
       "      <td>0.226916</td>\n",
       "      <td>0.205265</td>\n",
       "    </tr>\n",
       "    <tr>\n",
       "      <th>min</th>\n",
       "      <td>-1.558287</td>\n",
       "      <td>-2.673465</td>\n",
       "      <td>-1.498290</td>\n",
       "      <td>-1.577211</td>\n",
       "      <td>-1.884527</td>\n",
       "      <td>-1.856055</td>\n",
       "      <td>-1.056473</td>\n",
       "      <td>-0.593067</td>\n",
       "      <td>-1.704187</td>\n",
       "      <td>-2.420685</td>\n",
       "      <td>...</td>\n",
       "      <td>-0.421505</td>\n",
       "      <td>-1.107965</td>\n",
       "      <td>-0.822074</td>\n",
       "      <td>-1.032606</td>\n",
       "      <td>-0.903163</td>\n",
       "      <td>-0.199434</td>\n",
       "      <td>-0.778366</td>\n",
       "      <td>-1.592990</td>\n",
       "      <td>-0.970814</td>\n",
       "      <td>-1.865047</td>\n",
       "    </tr>\n",
       "    <tr>\n",
       "      <th>25%</th>\n",
       "      <td>-0.548517</td>\n",
       "      <td>0.218420</td>\n",
       "      <td>-0.268547</td>\n",
       "      <td>-0.325665</td>\n",
       "      <td>-0.113126</td>\n",
       "      <td>-0.989004</td>\n",
       "      <td>-0.063694</td>\n",
       "      <td>0.288857</td>\n",
       "      <td>-0.597188</td>\n",
       "      <td>-0.860015</td>\n",
       "      <td>...</td>\n",
       "      <td>0.206638</td>\n",
       "      <td>0.396973</td>\n",
       "      <td>-0.092490</td>\n",
       "      <td>0.194224</td>\n",
       "      <td>-0.051820</td>\n",
       "      <td>0.447617</td>\n",
       "      <td>0.330823</td>\n",
       "      <td>-0.516836</td>\n",
       "      <td>0.063356</td>\n",
       "      <td>-0.533866</td>\n",
       "    </tr>\n",
       "    <tr>\n",
       "      <th>50%</th>\n",
       "      <td>-0.429457</td>\n",
       "      <td>0.347007</td>\n",
       "      <td>-0.134644</td>\n",
       "      <td>-0.202466</td>\n",
       "      <td>0.052184</td>\n",
       "      <td>-0.849065</td>\n",
       "      <td>0.046926</td>\n",
       "      <td>0.385756</td>\n",
       "      <td>-0.492325</td>\n",
       "      <td>-0.692130</td>\n",
       "      <td>...</td>\n",
       "      <td>0.298201</td>\n",
       "      <td>0.528515</td>\n",
       "      <td>0.016450</td>\n",
       "      <td>0.311907</td>\n",
       "      <td>0.061412</td>\n",
       "      <td>0.557183</td>\n",
       "      <td>0.479539</td>\n",
       "      <td>-0.399540</td>\n",
       "      <td>0.217504</td>\n",
       "      <td>-0.398765</td>\n",
       "    </tr>\n",
       "    <tr>\n",
       "      <th>75%</th>\n",
       "      <td>-0.316336</td>\n",
       "      <td>0.474143</td>\n",
       "      <td>-0.007037</td>\n",
       "      <td>-0.084294</td>\n",
       "      <td>0.205335</td>\n",
       "      <td>-0.712237</td>\n",
       "      <td>0.162431</td>\n",
       "      <td>0.482914</td>\n",
       "      <td>-0.389817</td>\n",
       "      <td>-0.547208</td>\n",
       "      <td>...</td>\n",
       "      <td>0.397148</td>\n",
       "      <td>0.659299</td>\n",
       "      <td>0.132321</td>\n",
       "      <td>0.429176</td>\n",
       "      <td>0.167243</td>\n",
       "      <td>0.679777</td>\n",
       "      <td>0.631069</td>\n",
       "      <td>-0.284919</td>\n",
       "      <td>0.363578</td>\n",
       "      <td>-0.271518</td>\n",
       "    </tr>\n",
       "    <tr>\n",
       "      <th>max</th>\n",
       "      <td>0.481490</td>\n",
       "      <td>1.324433</td>\n",
       "      <td>0.799927</td>\n",
       "      <td>0.670352</td>\n",
       "      <td>1.315728</td>\n",
       "      <td>0.204049</td>\n",
       "      <td>1.154638</td>\n",
       "      <td>1.271893</td>\n",
       "      <td>0.410090</td>\n",
       "      <td>0.398451</td>\n",
       "      <td>...</td>\n",
       "      <td>1.275397</td>\n",
       "      <td>1.705258</td>\n",
       "      <td>1.187145</td>\n",
       "      <td>1.601814</td>\n",
       "      <td>0.983742</td>\n",
       "      <td>1.554354</td>\n",
       "      <td>1.977695</td>\n",
       "      <td>0.761206</td>\n",
       "      <td>1.158904</td>\n",
       "      <td>1.022808</td>\n",
       "    </tr>\n",
       "  </tbody>\n",
       "</table>\n",
       "<p>8 rows × 100 columns</p>\n",
       "</div>"
      ],
      "text/plain": [
       "                  0             1             2             3             4   \n",
       "count  50000.000000  50000.000000  50000.000000  50000.000000  50000.000000  \\\n",
       "mean      -0.435858      0.343747     -0.142955     -0.207073      0.039749   \n",
       "std        0.180976      0.203002      0.200563      0.187675      0.242441   \n",
       "min       -1.558287     -2.673465     -1.498290     -1.577211     -1.884527   \n",
       "25%       -0.548517      0.218420     -0.268547     -0.325665     -0.113126   \n",
       "50%       -0.429457      0.347007     -0.134644     -0.202466      0.052184   \n",
       "75%       -0.316336      0.474143     -0.007037     -0.084294      0.205335   \n",
       "max        0.481490      1.324433      0.799927      0.670352      1.315728   \n",
       "\n",
       "                  5             6             7             8             9   \n",
       "count  50000.000000  50000.000000  50000.000000  50000.000000  50000.000000  \\\n",
       "mean      -0.851512      0.051781      0.386618     -0.494941     -0.714446   \n",
       "std        0.210240      0.179665      0.154537      0.164958      0.238769   \n",
       "min       -1.856055     -1.056473     -0.593067     -1.704187     -2.420685   \n",
       "25%       -0.989004     -0.063694      0.288857     -0.597188     -0.860015   \n",
       "50%       -0.849065      0.046926      0.385756     -0.492325     -0.692130   \n",
       "75%       -0.712237      0.162431      0.482914     -0.389817     -0.547208   \n",
       "max        0.204049      1.154638      1.271893      0.410090      0.398451   \n",
       "\n",
       "       ...            90            91            92            93   \n",
       "count  ...  50000.000000  50000.000000  50000.000000  50000.000000  \\\n",
       "mean   ...      0.304288      0.528262      0.024425      0.311987   \n",
       "std    ...      0.151729      0.205215      0.176769      0.185555   \n",
       "min    ...     -0.421505     -1.107965     -0.822074     -1.032606   \n",
       "25%    ...      0.206638      0.396973     -0.092490      0.194224   \n",
       "50%    ...      0.298201      0.528515      0.016450      0.311907   \n",
       "75%    ...      0.397148      0.659299      0.132321      0.429176   \n",
       "max    ...      1.275397      1.705258      1.187145      1.601814   \n",
       "\n",
       "                 94            95            96            97            98   \n",
       "count  50000.000000  50000.000000  50000.000000  50000.000000  50000.000000  \\\n",
       "mean       0.054328      0.568812      0.482529     -0.403340      0.209007   \n",
       "std        0.172128      0.178191      0.229812      0.185536      0.226916   \n",
       "min       -0.903163     -0.199434     -0.778366     -1.592990     -0.970814   \n",
       "25%       -0.051820      0.447617      0.330823     -0.516836      0.063356   \n",
       "50%        0.061412      0.557183      0.479539     -0.399540      0.217504   \n",
       "75%        0.167243      0.679777      0.631069     -0.284919      0.363578   \n",
       "max        0.983742      1.554354      1.977695      0.761206      1.158904   \n",
       "\n",
       "                 99  \n",
       "count  50000.000000  \n",
       "mean      -0.406036  \n",
       "std        0.205265  \n",
       "min       -1.865047  \n",
       "25%       -0.533866  \n",
       "50%       -0.398765  \n",
       "75%       -0.271518  \n",
       "max        1.022808  \n",
       "\n",
       "[8 rows x 100 columns]"
      ]
     },
     "execution_count": 18,
     "metadata": {},
     "output_type": "execute_result"
    }
   ],
   "source": [
    "dfv.describe()"
   ]
  },
  {
   "attachments": {},
   "cell_type": "markdown",
   "metadata": {},
   "source": [
    "# Free Testing"
   ]
  },
  {
   "cell_type": "code",
   "execution_count": 19,
   "metadata": {},
   "outputs": [],
   "source": [
    "x = dfv"
   ]
  },
  {
   "cell_type": "code",
   "execution_count": 20,
   "metadata": {},
   "outputs": [],
   "source": [
    "y = df['sentiment']"
   ]
  },
  {
   "cell_type": "code",
   "execution_count": 21,
   "metadata": {},
   "outputs": [],
   "source": [
    "from sklearn.model_selection import train_test_split\n",
    "from sklearn.metrics import accuracy_score\n",
    "from sklearn.metrics import confusion_matrix"
   ]
  },
  {
   "cell_type": "code",
   "execution_count": 22,
   "metadata": {},
   "outputs": [],
   "source": [
    "x_train, x_test, y_train, y_test = train_test_split(x, y, test_size = 0.3, random_state = 0)"
   ]
  },
  {
   "cell_type": "code",
   "execution_count": 23,
   "metadata": {},
   "outputs": [],
   "source": [
    "from sklearn.linear_model import LogisticRegression"
   ]
  },
  {
   "cell_type": "code",
   "execution_count": 24,
   "metadata": {},
   "outputs": [],
   "source": [
    "lrm = LogisticRegression(max_iter = 1000)"
   ]
  },
  {
   "cell_type": "code",
   "execution_count": 25,
   "metadata": {},
   "outputs": [
    {
     "data": {
      "text/html": [
       "<style>#sk-container-id-1 {color: black;background-color: white;}#sk-container-id-1 pre{padding: 0;}#sk-container-id-1 div.sk-toggleable {background-color: white;}#sk-container-id-1 label.sk-toggleable__label {cursor: pointer;display: block;width: 100%;margin-bottom: 0;padding: 0.3em;box-sizing: border-box;text-align: center;}#sk-container-id-1 label.sk-toggleable__label-arrow:before {content: \"▸\";float: left;margin-right: 0.25em;color: #696969;}#sk-container-id-1 label.sk-toggleable__label-arrow:hover:before {color: black;}#sk-container-id-1 div.sk-estimator:hover label.sk-toggleable__label-arrow:before {color: black;}#sk-container-id-1 div.sk-toggleable__content {max-height: 0;max-width: 0;overflow: hidden;text-align: left;background-color: #f0f8ff;}#sk-container-id-1 div.sk-toggleable__content pre {margin: 0.2em;color: black;border-radius: 0.25em;background-color: #f0f8ff;}#sk-container-id-1 input.sk-toggleable__control:checked~div.sk-toggleable__content {max-height: 200px;max-width: 100%;overflow: auto;}#sk-container-id-1 input.sk-toggleable__control:checked~label.sk-toggleable__label-arrow:before {content: \"▾\";}#sk-container-id-1 div.sk-estimator input.sk-toggleable__control:checked~label.sk-toggleable__label {background-color: #d4ebff;}#sk-container-id-1 div.sk-label input.sk-toggleable__control:checked~label.sk-toggleable__label {background-color: #d4ebff;}#sk-container-id-1 input.sk-hidden--visually {border: 0;clip: rect(1px 1px 1px 1px);clip: rect(1px, 1px, 1px, 1px);height: 1px;margin: -1px;overflow: hidden;padding: 0;position: absolute;width: 1px;}#sk-container-id-1 div.sk-estimator {font-family: monospace;background-color: #f0f8ff;border: 1px dotted black;border-radius: 0.25em;box-sizing: border-box;margin-bottom: 0.5em;}#sk-container-id-1 div.sk-estimator:hover {background-color: #d4ebff;}#sk-container-id-1 div.sk-parallel-item::after {content: \"\";width: 100%;border-bottom: 1px solid gray;flex-grow: 1;}#sk-container-id-1 div.sk-label:hover label.sk-toggleable__label {background-color: #d4ebff;}#sk-container-id-1 div.sk-serial::before {content: \"\";position: absolute;border-left: 1px solid gray;box-sizing: border-box;top: 0;bottom: 0;left: 50%;z-index: 0;}#sk-container-id-1 div.sk-serial {display: flex;flex-direction: column;align-items: center;background-color: white;padding-right: 0.2em;padding-left: 0.2em;position: relative;}#sk-container-id-1 div.sk-item {position: relative;z-index: 1;}#sk-container-id-1 div.sk-parallel {display: flex;align-items: stretch;justify-content: center;background-color: white;position: relative;}#sk-container-id-1 div.sk-item::before, #sk-container-id-1 div.sk-parallel-item::before {content: \"\";position: absolute;border-left: 1px solid gray;box-sizing: border-box;top: 0;bottom: 0;left: 50%;z-index: -1;}#sk-container-id-1 div.sk-parallel-item {display: flex;flex-direction: column;z-index: 1;position: relative;background-color: white;}#sk-container-id-1 div.sk-parallel-item:first-child::after {align-self: flex-end;width: 50%;}#sk-container-id-1 div.sk-parallel-item:last-child::after {align-self: flex-start;width: 50%;}#sk-container-id-1 div.sk-parallel-item:only-child::after {width: 0;}#sk-container-id-1 div.sk-dashed-wrapped {border: 1px dashed gray;margin: 0 0.4em 0.5em 0.4em;box-sizing: border-box;padding-bottom: 0.4em;background-color: white;}#sk-container-id-1 div.sk-label label {font-family: monospace;font-weight: bold;display: inline-block;line-height: 1.2em;}#sk-container-id-1 div.sk-label-container {text-align: center;}#sk-container-id-1 div.sk-container {/* jupyter's `normalize.less` sets `[hidden] { display: none; }` but bootstrap.min.css set `[hidden] { display: none !important; }` so we also need the `!important` here to be able to override the default hidden behavior on the sphinx rendered scikit-learn.org. See: https://github.com/scikit-learn/scikit-learn/issues/21755 */display: inline-block !important;position: relative;}#sk-container-id-1 div.sk-text-repr-fallback {display: none;}</style><div id=\"sk-container-id-1\" class=\"sk-top-container\"><div class=\"sk-text-repr-fallback\"><pre>LogisticRegression(max_iter=1000)</pre><b>In a Jupyter environment, please rerun this cell to show the HTML representation or trust the notebook. <br />On GitHub, the HTML representation is unable to render, please try loading this page with nbviewer.org.</b></div><div class=\"sk-container\" hidden><div class=\"sk-item\"><div class=\"sk-estimator sk-toggleable\"><input class=\"sk-toggleable__control sk-hidden--visually\" id=\"sk-estimator-id-1\" type=\"checkbox\" checked><label for=\"sk-estimator-id-1\" class=\"sk-toggleable__label sk-toggleable__label-arrow\">LogisticRegression</label><div class=\"sk-toggleable__content\"><pre>LogisticRegression(max_iter=1000)</pre></div></div></div></div></div>"
      ],
      "text/plain": [
       "LogisticRegression(max_iter=1000)"
      ]
     },
     "execution_count": 25,
     "metadata": {},
     "output_type": "execute_result"
    }
   ],
   "source": [
    "lrm.fit(x_train, y_train)"
   ]
  },
  {
   "cell_type": "code",
   "execution_count": 26,
   "metadata": {},
   "outputs": [],
   "source": [
    "y_pred = lrm.predict(x_test)"
   ]
  },
  {
   "cell_type": "code",
   "execution_count": 27,
   "metadata": {},
   "outputs": [
    {
     "data": {
      "text/plain": [
       "0.8584"
      ]
     },
     "execution_count": 27,
     "metadata": {},
     "output_type": "execute_result"
    }
   ],
   "source": [
    "accuracy_score(y_test, y_pred)"
   ]
  },
  {
   "cell_type": "code",
   "execution_count": 28,
   "metadata": {},
   "outputs": [
    {
     "data": {
      "text/plain": [
       "array([[6421, 1119],\n",
       "       [1005, 6455]], dtype=int64)"
      ]
     },
     "execution_count": 28,
     "metadata": {},
     "output_type": "execute_result"
    }
   ],
   "source": [
    "confusion_matrix(y_test, y_pred)"
   ]
  },
  {
   "cell_type": "code",
   "execution_count": 29,
   "metadata": {},
   "outputs": [
    {
     "data": {
      "text/plain": [
       "0.8584"
      ]
     },
     "execution_count": 29,
     "metadata": {},
     "output_type": "execute_result"
    }
   ],
   "source": [
    "lrm.score(x_test, y_test)"
   ]
  },
  {
   "cell_type": "code",
   "execution_count": 31,
   "metadata": {},
   "outputs": [],
   "source": [
    "dfv.to_csv('df_vector.csv')"
   ]
  },
  {
   "cell_type": "code",
   "execution_count": null,
   "metadata": {},
   "outputs": [],
   "source": []
  }
 ],
 "metadata": {
  "kernelspec": {
   "display_name": "Python 3",
   "language": "python",
   "name": "python3"
  },
  "language_info": {
   "codemirror_mode": {
    "name": "ipython",
    "version": 3
   },
   "file_extension": ".py",
   "mimetype": "text/x-python",
   "name": "python",
   "nbconvert_exporter": "python",
   "pygments_lexer": "ipython3",
   "version": "3.11.3"
  },
  "orig_nbformat": 4
 },
 "nbformat": 4,
 "nbformat_minor": 2
}
