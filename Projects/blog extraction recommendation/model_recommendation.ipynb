{
 "cells": [
  {
   "cell_type": "code",
   "execution_count": 1,
   "id": "0fa83fa4",
   "metadata": {},
   "outputs": [],
   "source": [
    "import pandas as pd"
   ]
  },
  {
   "cell_type": "code",
   "execution_count": 2,
   "id": "4729ab39",
   "metadata": {},
   "outputs": [],
   "source": [
    "df = pd.read_csv('data_processsed.csv')"
   ]
  },
  {
   "cell_type": "code",
   "execution_count": 3,
   "id": "68addd2d",
   "metadata": {},
   "outputs": [
    {
     "data": {
      "text/html": [
       "<div>\n",
       "<style scoped>\n",
       "    .dataframe tbody tr th:only-of-type {\n",
       "        vertical-align: middle;\n",
       "    }\n",
       "\n",
       "    .dataframe tbody tr th {\n",
       "        vertical-align: top;\n",
       "    }\n",
       "\n",
       "    .dataframe thead th {\n",
       "        text-align: right;\n",
       "    }\n",
       "</style>\n",
       "<table border=\"1\" class=\"dataframe\">\n",
       "  <thead>\n",
       "    <tr style=\"text-align: right;\">\n",
       "      <th></th>\n",
       "      <th>Unnamed: 0</th>\n",
       "      <th>topic</th>\n",
       "      <th>text</th>\n",
       "      <th>title</th>\n",
       "    </tr>\n",
       "  </thead>\n",
       "  <tbody>\n",
       "    <tr>\n",
       "      <th>0</th>\n",
       "      <td>0</td>\n",
       "      <td>Student</td>\n",
       "      <td>In het kader van kernfusie op aarde MAAK JE EI...</td>\n",
       "      <td>uranium U bomb Hbomb nuclear plant like get on...</td>\n",
       "    </tr>\n",
       "    <tr>\n",
       "      <th>1</th>\n",
       "      <td>1</td>\n",
       "      <td>InvestmentBanking</td>\n",
       "      <td>Just so you know, this blog isn't about being ...</td>\n",
       "      <td>urlLink war think Korea one Im US could countr...</td>\n",
       "    </tr>\n",
       "    <tr>\n",
       "      <th>2</th>\n",
       "      <td>2</td>\n",
       "      <td>Education</td>\n",
       "      <td>I I dont remember his name, but I remember the...</td>\n",
       "      <td>Mathew Autism would first classroom teacher ki...</td>\n",
       "    </tr>\n",
       "    <tr>\n",
       "      <th>3</th>\n",
       "      <td>3</td>\n",
       "      <td>Science</td>\n",
       "      <td>so there they were in the cotton candy shack. ...</td>\n",
       "      <td>john bo jangle got really everyone like cuz co...</td>\n",
       "    </tr>\n",
       "    <tr>\n",
       "      <th>4</th>\n",
       "      <td>4</td>\n",
       "      <td>Student</td>\n",
       "      <td>By TIRI!!!  I was sitting in the police statio...</td>\n",
       "      <td>didnt went told day could saw started made guy...</td>\n",
       "    </tr>\n",
       "  </tbody>\n",
       "</table>\n",
       "</div>"
      ],
      "text/plain": [
       "   Unnamed: 0              topic  \\\n",
       "0           0            Student   \n",
       "1           1  InvestmentBanking   \n",
       "2           2          Education   \n",
       "3           3            Science   \n",
       "4           4            Student   \n",
       "\n",
       "                                                text  \\\n",
       "0  In het kader van kernfusie op aarde MAAK JE EI...   \n",
       "1  Just so you know, this blog isn't about being ...   \n",
       "2  I I dont remember his name, but I remember the...   \n",
       "3  so there they were in the cotton candy shack. ...   \n",
       "4  By TIRI!!!  I was sitting in the police statio...   \n",
       "\n",
       "                                               title  \n",
       "0  uranium U bomb Hbomb nuclear plant like get on...  \n",
       "1  urlLink war think Korea one Im US could countr...  \n",
       "2  Mathew Autism would first classroom teacher ki...  \n",
       "3  john bo jangle got really everyone like cuz co...  \n",
       "4  didnt went told day could saw started made guy...  "
      ]
     },
     "execution_count": 3,
     "metadata": {},
     "output_type": "execute_result"
    }
   ],
   "source": [
    "df.head()"
   ]
  },
  {
   "cell_type": "code",
   "execution_count": 4,
   "id": "ab980818",
   "metadata": {},
   "outputs": [],
   "source": [
    "df = df[['title', 'text']]"
   ]
  },
  {
   "cell_type": "code",
   "execution_count": 12,
   "id": "1f1ab9f5",
   "metadata": {},
   "outputs": [
    {
     "data": {
      "text/plain": [
       "2"
      ]
     },
     "execution_count": 12,
     "metadata": {},
     "output_type": "execute_result"
    }
   ],
   "source": [
    "df.title.isnull().sum()"
   ]
  },
  {
   "cell_type": "code",
   "execution_count": 14,
   "id": "4c2fbb51",
   "metadata": {},
   "outputs": [],
   "source": [
    "df.dropna(subset = ['title'], inplace = True)"
   ]
  },
  {
   "cell_type": "code",
   "execution_count": 15,
   "id": "eecc2597",
   "metadata": {},
   "outputs": [
    {
     "data": {
      "text/plain": [
       "0"
      ]
     },
     "execution_count": 15,
     "metadata": {},
     "output_type": "execute_result"
    }
   ],
   "source": [
    "df.title.isnull().sum()"
   ]
  },
  {
   "cell_type": "code",
   "execution_count": 5,
   "id": "977681d0",
   "metadata": {},
   "outputs": [
    {
     "data": {
      "text/html": [
       "<div>\n",
       "<style scoped>\n",
       "    .dataframe tbody tr th:only-of-type {\n",
       "        vertical-align: middle;\n",
       "    }\n",
       "\n",
       "    .dataframe tbody tr th {\n",
       "        vertical-align: top;\n",
       "    }\n",
       "\n",
       "    .dataframe thead th {\n",
       "        text-align: right;\n",
       "    }\n",
       "</style>\n",
       "<table border=\"1\" class=\"dataframe\">\n",
       "  <thead>\n",
       "    <tr style=\"text-align: right;\">\n",
       "      <th></th>\n",
       "      <th>title</th>\n",
       "      <th>text</th>\n",
       "    </tr>\n",
       "  </thead>\n",
       "  <tbody>\n",
       "    <tr>\n",
       "      <th>0</th>\n",
       "      <td>uranium U bomb Hbomb nuclear plant like get on...</td>\n",
       "      <td>In het kader van kernfusie op aarde MAAK JE EI...</td>\n",
       "    </tr>\n",
       "    <tr>\n",
       "      <th>1</th>\n",
       "      <td>urlLink war think Korea one Im US could countr...</td>\n",
       "      <td>Just so you know, this blog isn't about being ...</td>\n",
       "    </tr>\n",
       "    <tr>\n",
       "      <th>2</th>\n",
       "      <td>Mathew Autism would first classroom teacher ki...</td>\n",
       "      <td>I I dont remember his name, but I remember the...</td>\n",
       "    </tr>\n",
       "    <tr>\n",
       "      <th>3</th>\n",
       "      <td>john bo jangle got really everyone like cuz co...</td>\n",
       "      <td>so there they were in the cotton candy shack. ...</td>\n",
       "    </tr>\n",
       "    <tr>\n",
       "      <th>4</th>\n",
       "      <td>didnt went told day could saw started made guy...</td>\n",
       "      <td>By TIRI!!!  I was sitting in the police statio...</td>\n",
       "    </tr>\n",
       "  </tbody>\n",
       "</table>\n",
       "</div>"
      ],
      "text/plain": [
       "                                               title  \\\n",
       "0  uranium U bomb Hbomb nuclear plant like get on...   \n",
       "1  urlLink war think Korea one Im US could countr...   \n",
       "2  Mathew Autism would first classroom teacher ki...   \n",
       "3  john bo jangle got really everyone like cuz co...   \n",
       "4  didnt went told day could saw started made guy...   \n",
       "\n",
       "                                                text  \n",
       "0  In het kader van kernfusie op aarde MAAK JE EI...  \n",
       "1  Just so you know, this blog isn't about being ...  \n",
       "2  I I dont remember his name, but I remember the...  \n",
       "3  so there they were in the cotton candy shack. ...  \n",
       "4  By TIRI!!!  I was sitting in the police statio...  "
      ]
     },
     "execution_count": 5,
     "metadata": {},
     "output_type": "execute_result"
    }
   ],
   "source": [
    "df.head()"
   ]
  },
  {
   "cell_type": "code",
   "execution_count": 6,
   "id": "edc9c41c",
   "metadata": {},
   "outputs": [],
   "source": [
    "from sklearn.feature_extraction.text import TfidfVectorizer"
   ]
  },
  {
   "cell_type": "code",
   "execution_count": 16,
   "id": "1068a676",
   "metadata": {},
   "outputs": [],
   "source": [
    "vector = TfidfVectorizer().fit_transform(df.title)"
   ]
  },
  {
   "cell_type": "code",
   "execution_count": 17,
   "id": "a648b110",
   "metadata": {},
   "outputs": [
    {
     "data": {
      "text/plain": [
       "(2607, 4737)"
      ]
     },
     "execution_count": 17,
     "metadata": {},
     "output_type": "execute_result"
    }
   ],
   "source": [
    "vector.shape"
   ]
  },
  {
   "cell_type": "code",
   "execution_count": 18,
   "id": "609677cf",
   "metadata": {},
   "outputs": [],
   "source": [
    "from sklearn.metrics.pairwise import cosine_similarity"
   ]
  },
  {
   "cell_type": "code",
   "execution_count": 19,
   "id": "d2c1b652",
   "metadata": {},
   "outputs": [],
   "source": [
    "model = cosine_similarity(vector.toarray())"
   ]
  },
  {
   "cell_type": "code",
   "execution_count": 39,
   "id": "d0940f33",
   "metadata": {},
   "outputs": [],
   "source": [
    "def recommend(title, n = 10):\n",
    "    index = df[df.title == title].index[0]\n",
    "    distances = sorted(list(enumerate(model[index])), reverse = True, key = lambda x: x[1])[:n]\n",
    "    \n",
    "    return [\n",
    "        [df.iloc[blog[0], :].title]\n",
    "        for blog in distances\n",
    "        if df.iloc[blog[0], :].title != title\n",
    "    ]"
   ]
  },
  {
   "cell_type": "code",
   "execution_count": 41,
   "id": "8cc04c9c",
   "metadata": {},
   "outputs": [
    {
     "name": "stdout",
     "output_type": "stream",
     "text": [
      "Input: Chavez Venezuela like people something said two American journalist US\n",
      "Output:\n",
      "['said see thing life US know world year something class']\n",
      "['job work year US programmer people American company like say']\n",
      "['job work year programmer US people American like company say']\n",
      "['water Im get day two like something even dont roach']\n",
      "['American Americans something like world think really student dream time']\n",
      "['America US world Iraq American war Bush people United States']\n",
      "['Iraq Abu Ghraib said American US government Arab Mr war']\n",
      "['US American Bush people Penn policy see political administration flag']\n",
      "['Reagan people Ronald never know American said one going country']\n",
      "['people get pot US American marijuana drug war paper grow']\n",
      "['America US world American Bush Americans year administration value Iraq']\n",
      "['said government China Mahathir official MPs US June candidate two']\n",
      "['one would C like R dont didnt Id film something']\n",
      "['sound word say vowel schwa two tongue like American pronunciation']\n",
      "['like Im right America people world value American job war']\n",
      "['US new war American Bush world regime global military Iraq']\n",
      "['world know say life need something people dont corporate get']\n",
      "['world know say life need something people dont corporate get']\n",
      "['world know say life need something people dont corporate get']\n",
      "['time like go still holiday part let people im something']\n",
      "['Europeans American Americans thing people one like believe much time']\n",
      "['US European Criticism Answer America American world dont would power']\n",
      "['year America people thing Ive American one way time great']\n",
      "['Reagan US government Ronald new American president America would legacy']\n",
      "['dont know want something thing im go reason maybe people']\n",
      "['war Iraq US Iraqi level American power political Americans UN']\n",
      "['called would people get call one come two dont make']\n",
      "['would old people girl one concert u come two get']\n",
      "['US military oil war Iraq Gulf Bush American administration Defense']\n",
      "['said little life year went thing something good tea seemed']\n",
      "['one world like time urlLink Im Read good see two']\n",
      "['Christian Israel support American fundamentalist Bush Right East US part']\n",
      "['urlLink get said delegation one dress two like state better']\n",
      "['States empire United US power rule military global world American']\n",
      "['Iraq US American Iraqi Gray defeat country war million historic']\n",
      "['get one two back Im night minute like time take']\n",
      "['said year would US Jahjah terrorist people say security terrorism']\n",
      "['Song urlLink think read job Im like didnt something book']\n",
      "['liberal must American government conservative Clinton like word people u']\n",
      "['like sneeze time would two say even know one could']\n",
      "['Keene Penny back like get say something around dont mean']\n",
      "['policy Bush Iraq people world President war u American nation']\n",
      "['policy Bush Iraq people world President war u nation American']\n",
      "['policy Bush Iraq people world war President u nation American']\n",
      "['said terrorist Palestinian government would June Syria child US people']\n",
      "['Scene Gilgamesh Enkidu two forest king trapper go shot Two']\n",
      "['movie theater line people youre food front see two like']\n",
      "['urlLink kid film time get know like back played two']\n",
      "['think get like would go said say could youre people']\n"
     ]
    }
   ],
   "source": [
    "title = df.title[100]\n",
    "\n",
    "print(f\"Input: {title}\")\n",
    "print(f\"Output:\")\n",
    "for t in recommend(title, 50):\n",
    "    print(t)"
   ]
  }
 ],
 "metadata": {
  "kernelspec": {
   "display_name": "Python 3 (ipykernel)",
   "language": "python",
   "name": "python3"
  },
  "language_info": {
   "codemirror_mode": {
    "name": "ipython",
    "version": 3
   },
   "file_extension": ".py",
   "mimetype": "text/x-python",
   "name": "python",
   "nbconvert_exporter": "python",
   "pygments_lexer": "ipython3",
   "version": "3.10.2"
  }
 },
 "nbformat": 4,
 "nbformat_minor": 5
}
