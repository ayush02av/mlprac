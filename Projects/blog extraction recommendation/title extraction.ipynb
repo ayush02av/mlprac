{
 "cells": [
  {
   "cell_type": "code",
   "execution_count": 1,
   "id": "eaa13a7d",
   "metadata": {},
   "outputs": [],
   "source": [
    "import pandas as pd"
   ]
  },
  {
   "cell_type": "code",
   "execution_count": 2,
   "id": "caa70754",
   "metadata": {},
   "outputs": [],
   "source": [
    "df = pd.read_csv('data.csv')"
   ]
  },
  {
   "cell_type": "code",
   "execution_count": 3,
   "id": "2c0b8844",
   "metadata": {},
   "outputs": [
    {
     "data": {
      "text/html": [
       "<div>\n",
       "<style scoped>\n",
       "    .dataframe tbody tr th:only-of-type {\n",
       "        vertical-align: middle;\n",
       "    }\n",
       "\n",
       "    .dataframe tbody tr th {\n",
       "        vertical-align: top;\n",
       "    }\n",
       "\n",
       "    .dataframe thead th {\n",
       "        text-align: right;\n",
       "    }\n",
       "</style>\n",
       "<table border=\"1\" class=\"dataframe\">\n",
       "  <thead>\n",
       "    <tr style=\"text-align: right;\">\n",
       "      <th></th>\n",
       "      <th>Unnamed: 0</th>\n",
       "      <th>topic</th>\n",
       "      <th>text</th>\n",
       "    </tr>\n",
       "  </thead>\n",
       "  <tbody>\n",
       "    <tr>\n",
       "      <th>0</th>\n",
       "      <td>0</td>\n",
       "      <td>Student</td>\n",
       "      <td>In het kader van kernfusie op aarde:  MAAK JE ...</td>\n",
       "    </tr>\n",
       "    <tr>\n",
       "      <th>1</th>\n",
       "      <td>1</td>\n",
       "      <td>InvestmentBanking</td>\n",
       "      <td>Just so you know, this blog isn't about being ...</td>\n",
       "    </tr>\n",
       "    <tr>\n",
       "      <th>2</th>\n",
       "      <td>2</td>\n",
       "      <td>Education</td>\n",
       "      <td>I  I donÃ¢ÂÂt remember his name, but I remem...</td>\n",
       "    </tr>\n",
       "    <tr>\n",
       "      <th>3</th>\n",
       "      <td>3</td>\n",
       "      <td>Science</td>\n",
       "      <td>so there they were in the cotton candy shack. ...</td>\n",
       "    </tr>\n",
       "    <tr>\n",
       "      <th>4</th>\n",
       "      <td>4</td>\n",
       "      <td>Student</td>\n",
       "      <td>By: TIRI!!!    I was sitting in the police sta...</td>\n",
       "    </tr>\n",
       "  </tbody>\n",
       "</table>\n",
       "</div>"
      ],
      "text/plain": [
       "   Unnamed: 0              topic  \\\n",
       "0           0            Student   \n",
       "1           1  InvestmentBanking   \n",
       "2           2          Education   \n",
       "3           3            Science   \n",
       "4           4            Student   \n",
       "\n",
       "                                                text  \n",
       "0  In het kader van kernfusie op aarde:  MAAK JE ...  \n",
       "1  Just so you know, this blog isn't about being ...  \n",
       "2  I  I donÃ¢ÂÂt remember his name, but I remem...  \n",
       "3  so there they were in the cotton candy shack. ...  \n",
       "4  By: TIRI!!!    I was sitting in the police sta...  "
      ]
     },
     "execution_count": 3,
     "metadata": {},
     "output_type": "execute_result"
    }
   ],
   "source": [
    "df.head()"
   ]
  },
  {
   "cell_type": "code",
   "execution_count": 4,
   "id": "ded477b8",
   "metadata": {},
   "outputs": [],
   "source": [
    "df = df[['topic', 'text']]"
   ]
  },
  {
   "cell_type": "code",
   "execution_count": 5,
   "id": "e4b3c06a",
   "metadata": {},
   "outputs": [
    {
     "data": {
      "text/plain": [
       "'Ã¢Â\\x80Â\\x9cIÃ¢Â\\x80Â\\x99m sorry, what?Ã¢Â\\x80Â\\x9d I mumbled as I looked up, meeting eyes with my waitress. IÃ¢Â\\x80Â\\x99m not entirely sure how long she had been standing there or how many times she had asked her question. Ã¢Â\\x80Â\\x9cOh um, right. Could I get a mocha?Ã¢Â\\x80Â\\x9d  Ã¢Â\\x80Â\\x9cSure thing, Hon. No problem,Ã¢Â\\x80Â\\x9d she replied in a motherly voice as she turned to head back to the counter.  Ã¢Â\\x80Â\\x9cOh, and a little extra chocolate, please!Ã¢Â\\x80Â\\x9d I called after her. It wasnÃ¢Â\\x80Â\\x99t that I was a chocolate freak. I just had to c'"
      ]
     },
     "execution_count": 5,
     "metadata": {},
     "output_type": "execute_result"
    }
   ],
   "source": [
    "df.text[50][:500]"
   ]
  },
  {
   "cell_type": "code",
   "execution_count": 6,
   "id": "44c9e484",
   "metadata": {},
   "outputs": [],
   "source": [
    "df.text = df.text.replace('[^a-zA-Z?/\\'\\\": ]', '', regex = True)"
   ]
  },
  {
   "cell_type": "code",
   "execution_count": 7,
   "id": "20d2df53",
   "metadata": {},
   "outputs": [
    {
     "data": {
      "text/plain": [
       "'Im sorry what? I mumbled as I looked up meeting eyes with my waitress Im not entirely sure how long she had been standing there or how many times she had asked her question Oh um right Could I get a mocha?  Sure thing Hon No problem she replied in a motherly voice as she turned to head back to the counter  Oh and a little extra chocolate please I called after her It wasnt that I was a chocolate freak I just had to cover up the bite of the espresso Too much of that and my stomach was done  The ca'"
      ]
     },
     "execution_count": 7,
     "metadata": {},
     "output_type": "execute_result"
    }
   ],
   "source": [
    "df.text[50][:500]"
   ]
  },
  {
   "cell_type": "code",
   "execution_count": 8,
   "id": "9565e7a0",
   "metadata": {},
   "outputs": [],
   "source": [
    "df.reset_index(inplace = True)"
   ]
  },
  {
   "cell_type": "code",
   "execution_count": 9,
   "id": "bd71b370",
   "metadata": {},
   "outputs": [
    {
     "data": {
      "text/html": [
       "<div>\n",
       "<style scoped>\n",
       "    .dataframe tbody tr th:only-of-type {\n",
       "        vertical-align: middle;\n",
       "    }\n",
       "\n",
       "    .dataframe tbody tr th {\n",
       "        vertical-align: top;\n",
       "    }\n",
       "\n",
       "    .dataframe thead th {\n",
       "        text-align: right;\n",
       "    }\n",
       "</style>\n",
       "<table border=\"1\" class=\"dataframe\">\n",
       "  <thead>\n",
       "    <tr style=\"text-align: right;\">\n",
       "      <th></th>\n",
       "      <th>index</th>\n",
       "      <th>topic</th>\n",
       "      <th>text</th>\n",
       "    </tr>\n",
       "  </thead>\n",
       "  <tbody>\n",
       "    <tr>\n",
       "      <th>0</th>\n",
       "      <td>0</td>\n",
       "      <td>Student</td>\n",
       "      <td>In het kader van kernfusie op aarde:  MAAK JE ...</td>\n",
       "    </tr>\n",
       "    <tr>\n",
       "      <th>1</th>\n",
       "      <td>1</td>\n",
       "      <td>InvestmentBanking</td>\n",
       "      <td>Just so you know this blog isn't about being p...</td>\n",
       "    </tr>\n",
       "    <tr>\n",
       "      <th>2</th>\n",
       "      <td>2</td>\n",
       "      <td>Education</td>\n",
       "      <td>I  I dont remember his name but I remember the...</td>\n",
       "    </tr>\n",
       "    <tr>\n",
       "      <th>3</th>\n",
       "      <td>3</td>\n",
       "      <td>Science</td>\n",
       "      <td>so there they were in the cotton candy shack j...</td>\n",
       "    </tr>\n",
       "    <tr>\n",
       "      <th>4</th>\n",
       "      <td>4</td>\n",
       "      <td>Student</td>\n",
       "      <td>By: TIRI    I was sitting in the police statio...</td>\n",
       "    </tr>\n",
       "  </tbody>\n",
       "</table>\n",
       "</div>"
      ],
      "text/plain": [
       "   index              topic                                               text\n",
       "0      0            Student  In het kader van kernfusie op aarde:  MAAK JE ...\n",
       "1      1  InvestmentBanking  Just so you know this blog isn't about being p...\n",
       "2      2          Education  I  I dont remember his name but I remember the...\n",
       "3      3            Science  so there they were in the cotton candy shack j...\n",
       "4      4            Student  By: TIRI    I was sitting in the police statio..."
      ]
     },
     "execution_count": 9,
     "metadata": {},
     "output_type": "execute_result"
    }
   ],
   "source": [
    "df.head()"
   ]
  },
  {
   "cell_type": "code",
   "execution_count": 10,
   "id": "fc6d8e39",
   "metadata": {},
   "outputs": [],
   "source": [
    "from gensim.models.doc2vec import Doc2Vec, TaggedDocument\n",
    "from nltk import word_tokenize"
   ]
  },
  {
   "cell_type": "code",
   "execution_count": 11,
   "id": "982fa502",
   "metadata": {},
   "outputs": [],
   "source": [
    "def tag_row(row):\n",
    "    return TaggedDocument(word_tokenize(row['text']), [row['index']])"
   ]
  },
  {
   "cell_type": "code",
   "execution_count": 12,
   "id": "e6cbf4ac",
   "metadata": {},
   "outputs": [],
   "source": [
    "df['details'] = df.apply(lambda row: tag_row(row), axis = 1)"
   ]
  },
  {
   "cell_type": "code",
   "execution_count": 13,
   "id": "24205d4f",
   "metadata": {},
   "outputs": [
    {
     "data": {
      "text/html": [
       "<div>\n",
       "<style scoped>\n",
       "    .dataframe tbody tr th:only-of-type {\n",
       "        vertical-align: middle;\n",
       "    }\n",
       "\n",
       "    .dataframe tbody tr th {\n",
       "        vertical-align: top;\n",
       "    }\n",
       "\n",
       "    .dataframe thead th {\n",
       "        text-align: right;\n",
       "    }\n",
       "</style>\n",
       "<table border=\"1\" class=\"dataframe\">\n",
       "  <thead>\n",
       "    <tr style=\"text-align: right;\">\n",
       "      <th></th>\n",
       "      <th>index</th>\n",
       "      <th>topic</th>\n",
       "      <th>text</th>\n",
       "      <th>details</th>\n",
       "    </tr>\n",
       "  </thead>\n",
       "  <tbody>\n",
       "    <tr>\n",
       "      <th>0</th>\n",
       "      <td>0</td>\n",
       "      <td>Student</td>\n",
       "      <td>In het kader van kernfusie op aarde:  MAAK JE ...</td>\n",
       "      <td>([In, het, kader, van, kernfusie, op, aarde, :...</td>\n",
       "    </tr>\n",
       "    <tr>\n",
       "      <th>1</th>\n",
       "      <td>1</td>\n",
       "      <td>InvestmentBanking</td>\n",
       "      <td>Just so you know this blog isn't about being p...</td>\n",
       "      <td>([Just, so, you, know, this, blog, is, n't, ab...</td>\n",
       "    </tr>\n",
       "    <tr>\n",
       "      <th>2</th>\n",
       "      <td>2</td>\n",
       "      <td>Education</td>\n",
       "      <td>I  I dont remember his name but I remember the...</td>\n",
       "      <td>([I, I, dont, remember, his, name, but, I, rem...</td>\n",
       "    </tr>\n",
       "    <tr>\n",
       "      <th>3</th>\n",
       "      <td>3</td>\n",
       "      <td>Science</td>\n",
       "      <td>so there they were in the cotton candy shack j...</td>\n",
       "      <td>([so, there, they, were, in, the, cotton, cand...</td>\n",
       "    </tr>\n",
       "    <tr>\n",
       "      <th>4</th>\n",
       "      <td>4</td>\n",
       "      <td>Student</td>\n",
       "      <td>By: TIRI    I was sitting in the police statio...</td>\n",
       "      <td>([By, :, TIRI, I, was, sitting, in, the, polic...</td>\n",
       "    </tr>\n",
       "  </tbody>\n",
       "</table>\n",
       "</div>"
      ],
      "text/plain": [
       "   index              topic  \\\n",
       "0      0            Student   \n",
       "1      1  InvestmentBanking   \n",
       "2      2          Education   \n",
       "3      3            Science   \n",
       "4      4            Student   \n",
       "\n",
       "                                                text  \\\n",
       "0  In het kader van kernfusie op aarde:  MAAK JE ...   \n",
       "1  Just so you know this blog isn't about being p...   \n",
       "2  I  I dont remember his name but I remember the...   \n",
       "3  so there they were in the cotton candy shack j...   \n",
       "4  By: TIRI    I was sitting in the police statio...   \n",
       "\n",
       "                                             details  \n",
       "0  ([In, het, kader, van, kernfusie, op, aarde, :...  \n",
       "1  ([Just, so, you, know, this, blog, is, n't, ab...  \n",
       "2  ([I, I, dont, remember, his, name, but, I, rem...  \n",
       "3  ([so, there, they, were, in, the, cotton, cand...  \n",
       "4  ([By, :, TIRI, I, was, sitting, in, the, polic...  "
      ]
     },
     "execution_count": 13,
     "metadata": {},
     "output_type": "execute_result"
    }
   ],
   "source": [
    "df.head()"
   ]
  },
  {
   "cell_type": "code",
   "execution_count": 14,
   "id": "4263b3f0",
   "metadata": {},
   "outputs": [],
   "source": [
    "model = Doc2Vec(df.details, vector_size=5, window=2, min_count=1, workers=4)"
   ]
  }
 ],
 "metadata": {
  "kernelspec": {
   "display_name": "Python 3 (ipykernel)",
   "language": "python",
   "name": "python3"
  },
  "language_info": {
   "codemirror_mode": {
    "name": "ipython",
    "version": 3
   },
   "file_extension": ".py",
   "mimetype": "text/x-python",
   "name": "python",
   "nbconvert_exporter": "python",
   "pygments_lexer": "ipython3",
   "version": "3.10.2"
  }
 },
 "nbformat": 4,
 "nbformat_minor": 5
}
