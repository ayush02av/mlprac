{
 "cells": [
  {
   "cell_type": "code",
   "execution_count": 1,
   "id": "cf8486e2",
   "metadata": {},
   "outputs": [],
   "source": [
    "import pandas as pd\n",
    "import numpy as np\n",
    "import re\n",
    "from nltk import sent_tokenize, word_tokenize\n",
    "from nltk.corpus import stopwords\n",
    "from nltk.stem import WordNetLemmatizer\n",
    "from gensim.models import Word2Vec"
   ]
  },
  {
   "cell_type": "code",
   "execution_count": 2,
   "id": "776d601d",
   "metadata": {},
   "outputs": [],
   "source": [
    "df = pd.read_csv('data.csv', encoding = 'ISO 8859-1')"
   ]
  },
  {
   "cell_type": "code",
   "execution_count": 3,
   "id": "98b3ec84",
   "metadata": {},
   "outputs": [
    {
     "data": {
      "text/html": [
       "<div>\n",
       "<style scoped>\n",
       "    .dataframe tbody tr th:only-of-type {\n",
       "        vertical-align: middle;\n",
       "    }\n",
       "\n",
       "    .dataframe tbody tr th {\n",
       "        vertical-align: top;\n",
       "    }\n",
       "\n",
       "    .dataframe thead th {\n",
       "        text-align: right;\n",
       "    }\n",
       "</style>\n",
       "<table border=\"1\" class=\"dataframe\">\n",
       "  <thead>\n",
       "    <tr style=\"text-align: right;\">\n",
       "      <th></th>\n",
       "      <th>Unnamed: 0</th>\n",
       "      <th>topic</th>\n",
       "      <th>text</th>\n",
       "    </tr>\n",
       "  </thead>\n",
       "  <tbody>\n",
       "    <tr>\n",
       "      <th>0</th>\n",
       "      <td>0</td>\n",
       "      <td>Student</td>\n",
       "      <td>In het kader van kernfusie op aarde:  MAAK JE ...</td>\n",
       "    </tr>\n",
       "    <tr>\n",
       "      <th>1</th>\n",
       "      <td>1</td>\n",
       "      <td>InvestmentBanking</td>\n",
       "      <td>Just so you know, this blog isn't about being ...</td>\n",
       "    </tr>\n",
       "    <tr>\n",
       "      <th>2</th>\n",
       "      <td>2</td>\n",
       "      <td>Education</td>\n",
       "      <td>I  I donÃÂ¢ÃÂÃÂt remember his name, but I...</td>\n",
       "    </tr>\n",
       "    <tr>\n",
       "      <th>3</th>\n",
       "      <td>3</td>\n",
       "      <td>Science</td>\n",
       "      <td>so there they were in the cotton candy shack. ...</td>\n",
       "    </tr>\n",
       "    <tr>\n",
       "      <th>4</th>\n",
       "      <td>4</td>\n",
       "      <td>Student</td>\n",
       "      <td>By: TIRI!!!    I was sitting in the police sta...</td>\n",
       "    </tr>\n",
       "  </tbody>\n",
       "</table>\n",
       "</div>"
      ],
      "text/plain": [
       "   Unnamed: 0              topic  \\\n",
       "0           0            Student   \n",
       "1           1  InvestmentBanking   \n",
       "2           2          Education   \n",
       "3           3            Science   \n",
       "4           4            Student   \n",
       "\n",
       "                                                text  \n",
       "0  In het kader van kernfusie op aarde:  MAAK JE ...  \n",
       "1  Just so you know, this blog isn't about being ...  \n",
       "2  I  I donÃÂ¢ÃÂÃÂt remember his name, but I...  \n",
       "3  so there they were in the cotton candy shack. ...  \n",
       "4  By: TIRI!!!    I was sitting in the police sta...  "
      ]
     },
     "execution_count": 3,
     "metadata": {},
     "output_type": "execute_result"
    }
   ],
   "source": [
    "df.head()"
   ]
  },
  {
   "cell_type": "code",
   "execution_count": 4,
   "id": "c16608df",
   "metadata": {},
   "outputs": [],
   "source": [
    "df = df[['topic', 'text']]"
   ]
  },
  {
   "cell_type": "code",
   "execution_count": 5,
   "id": "3d3910d7",
   "metadata": {},
   "outputs": [
    {
     "data": {
      "text/html": [
       "<div>\n",
       "<style scoped>\n",
       "    .dataframe tbody tr th:only-of-type {\n",
       "        vertical-align: middle;\n",
       "    }\n",
       "\n",
       "    .dataframe tbody tr th {\n",
       "        vertical-align: top;\n",
       "    }\n",
       "\n",
       "    .dataframe thead th {\n",
       "        text-align: right;\n",
       "    }\n",
       "</style>\n",
       "<table border=\"1\" class=\"dataframe\">\n",
       "  <thead>\n",
       "    <tr style=\"text-align: right;\">\n",
       "      <th></th>\n",
       "      <th>topic</th>\n",
       "      <th>text</th>\n",
       "    </tr>\n",
       "  </thead>\n",
       "  <tbody>\n",
       "    <tr>\n",
       "      <th>0</th>\n",
       "      <td>Student</td>\n",
       "      <td>In het kader van kernfusie op aarde:  MAAK JE ...</td>\n",
       "    </tr>\n",
       "    <tr>\n",
       "      <th>1</th>\n",
       "      <td>InvestmentBanking</td>\n",
       "      <td>Just so you know, this blog isn't about being ...</td>\n",
       "    </tr>\n",
       "    <tr>\n",
       "      <th>2</th>\n",
       "      <td>Education</td>\n",
       "      <td>I  I donÃÂ¢ÃÂÃÂt remember his name, but I...</td>\n",
       "    </tr>\n",
       "    <tr>\n",
       "      <th>3</th>\n",
       "      <td>Science</td>\n",
       "      <td>so there they were in the cotton candy shack. ...</td>\n",
       "    </tr>\n",
       "    <tr>\n",
       "      <th>4</th>\n",
       "      <td>Student</td>\n",
       "      <td>By: TIRI!!!    I was sitting in the police sta...</td>\n",
       "    </tr>\n",
       "  </tbody>\n",
       "</table>\n",
       "</div>"
      ],
      "text/plain": [
       "               topic                                               text\n",
       "0            Student  In het kader van kernfusie op aarde:  MAAK JE ...\n",
       "1  InvestmentBanking  Just so you know, this blog isn't about being ...\n",
       "2          Education  I  I donÃÂ¢ÃÂÃÂt remember his name, but I...\n",
       "3            Science  so there they were in the cotton candy shack. ...\n",
       "4            Student  By: TIRI!!!    I was sitting in the police sta..."
      ]
     },
     "execution_count": 5,
     "metadata": {},
     "output_type": "execute_result"
    }
   ],
   "source": [
    "df.head()"
   ]
  },
  {
   "cell_type": "code",
   "execution_count": 6,
   "id": "bdfe5146",
   "metadata": {},
   "outputs": [
    {
     "data": {
      "text/plain": [
       "'Ã\\x83Â¢Ã\\x82Â\\x80Ã\\x82Â\\x9cIÃ\\x83Â¢Ã\\x82Â\\x80Ã\\x82Â\\x99m sorry, what?Ã\\x83Â¢Ã\\x82Â\\x80Ã\\x82Â\\x9d I mumbled as I looked up, meeting eyes with my waitress. IÃ\\x83Â¢Ã\\x82Â\\x80Ã\\x82Â\\x99m not entirely sure how long she had been standing there or how many times she had asked her question. Ã\\x83Â¢Ã\\x82Â\\x80Ã\\x82Â\\x9cOh um, right. Could I get a mocha?Ã\\x83Â¢Ã\\x82Â\\x80Ã\\x82Â\\x9d  Ã\\x83Â¢Ã\\x82Â\\x80Ã\\x82Â\\x9cSure thing, Hon. No problem,Ã\\x83Â¢Ã\\x82Â\\x80Ã\\x82Â\\x9d she replied in a motherly voice as she turned to head back to the counter.  Ã\\x83Â¢Ã\\x82Â\\x80Ã\\x82Â\\x9cOh, and a little extra chocolate, please!Ã\\x83Â¢Ã\\x82Â\\x80Ã\\x82Â\\x9d I called after her. '"
      ]
     },
     "execution_count": 6,
     "metadata": {},
     "output_type": "execute_result"
    }
   ],
   "source": [
    "df.text[50][:500]"
   ]
  },
  {
   "cell_type": "code",
   "execution_count": 7,
   "id": "6ee3206d",
   "metadata": {},
   "outputs": [],
   "source": [
    "df['text'] = df['text'].replace('[^a-zA-Z0-9,.!? \\'\\\"]', '', regex = True)\n",
    "df['text'] = df['text'].replace('  ', ' ', regex = True)"
   ]
  },
  {
   "cell_type": "code",
   "execution_count": 8,
   "id": "d6ecbe52",
   "metadata": {},
   "outputs": [
    {
     "data": {
      "text/plain": [
       "'Im sorry, what? I mumbled as I looked up, meeting eyes with my waitress. Im not entirely sure how long she had been standing there or how many times she had asked her question. Oh um, right. Could I get a mocha? Sure thing, Hon. No problem, she replied in a motherly voice as she turned to head back to the counter. Oh, and a little extra chocolate, please! I called after her. It wasnt that I was a chocolate freak. I just had to cover up the bite of the espresso. Too much of that, and my stomach w'"
      ]
     },
     "execution_count": 8,
     "metadata": {},
     "output_type": "execute_result"
    }
   ],
   "source": [
    "df.text[50][:500]"
   ]
  },
  {
   "cell_type": "code",
   "execution_count": null,
   "id": "b69b355e",
   "metadata": {},
   "outputs": [],
   "source": []
  },
  {
   "cell_type": "code",
   "execution_count": 9,
   "id": "901d8267",
   "metadata": {},
   "outputs": [],
   "source": [
    "stopwords_english = stopwords.words('english')\n",
    "lemmatizer = WordNetLemmatizer()"
   ]
  },
  {
   "cell_type": "code",
   "execution_count": 10,
   "id": "036b1a56",
   "metadata": {},
   "outputs": [],
   "source": [
    "def get_title(text):\n",
    "    try:\n",
    "        details = [\n",
    "            [\n",
    "                lemmatizer.lemmatize(word)\n",
    "                for word in word_tokenize(re.sub('[^a-zA-Z ]', '', sentence))\n",
    "                if word not in stopwords_english\n",
    "            ]\n",
    "            for sentence in sent_tokenize(text)\n",
    "        ]\n",
    "\n",
    "        word2vec = Word2Vec(details, min_count = 1)\n",
    "\n",
    "        word2vec_counts = dict()\n",
    "        for word in word2vec.wv.key_to_index:\n",
    "            if word.lower() not in stopwords_english:\n",
    "                word2vec_counts[word] = word2vec.wv.get_vecattr(word, 'count')\n",
    "\n",
    "        word2vec_counts = sorted(word2vec_counts.items(), key = lambda item: item[1], reverse = True)[0:10]\n",
    "\n",
    "        return ' '.join(dict(word2vec_counts).keys())\n",
    "    except:\n",
    "        return np.NaN"
   ]
  },
  {
   "cell_type": "code",
   "execution_count": 11,
   "id": "d4804294",
   "metadata": {},
   "outputs": [
    {
     "data": {
      "text/html": [
       "<div>\n",
       "<style scoped>\n",
       "    .dataframe tbody tr th:only-of-type {\n",
       "        vertical-align: middle;\n",
       "    }\n",
       "\n",
       "    .dataframe tbody tr th {\n",
       "        vertical-align: top;\n",
       "    }\n",
       "\n",
       "    .dataframe thead th {\n",
       "        text-align: right;\n",
       "    }\n",
       "</style>\n",
       "<table border=\"1\" class=\"dataframe\">\n",
       "  <thead>\n",
       "    <tr style=\"text-align: right;\">\n",
       "      <th></th>\n",
       "      <th>topic</th>\n",
       "      <th>text</th>\n",
       "    </tr>\n",
       "  </thead>\n",
       "  <tbody>\n",
       "    <tr>\n",
       "      <th>0</th>\n",
       "      <td>Student</td>\n",
       "      <td>In het kader van kernfusie op aarde MAAK JE EI...</td>\n",
       "    </tr>\n",
       "    <tr>\n",
       "      <th>1</th>\n",
       "      <td>InvestmentBanking</td>\n",
       "      <td>Just so you know, this blog isn't about being ...</td>\n",
       "    </tr>\n",
       "    <tr>\n",
       "      <th>2</th>\n",
       "      <td>Education</td>\n",
       "      <td>I I dont remember his name, but I remember the...</td>\n",
       "    </tr>\n",
       "    <tr>\n",
       "      <th>3</th>\n",
       "      <td>Science</td>\n",
       "      <td>so there they were in the cotton candy shack. ...</td>\n",
       "    </tr>\n",
       "    <tr>\n",
       "      <th>4</th>\n",
       "      <td>Student</td>\n",
       "      <td>By TIRI!!!  I was sitting in the police statio...</td>\n",
       "    </tr>\n",
       "  </tbody>\n",
       "</table>\n",
       "</div>"
      ],
      "text/plain": [
       "               topic                                               text\n",
       "0            Student  In het kader van kernfusie op aarde MAAK JE EI...\n",
       "1  InvestmentBanking  Just so you know, this blog isn't about being ...\n",
       "2          Education  I I dont remember his name, but I remember the...\n",
       "3            Science  so there they were in the cotton candy shack. ...\n",
       "4            Student  By TIRI!!!  I was sitting in the police statio..."
      ]
     },
     "execution_count": 11,
     "metadata": {},
     "output_type": "execute_result"
    }
   ],
   "source": [
    "df.head()"
   ]
  },
  {
   "cell_type": "code",
   "execution_count": 12,
   "id": "4cf368f3",
   "metadata": {},
   "outputs": [],
   "source": [
    "df['title'] = df.text.apply(get_title)"
   ]
  },
  {
   "cell_type": "code",
   "execution_count": 13,
   "id": "801cc074",
   "metadata": {},
   "outputs": [
    {
     "data": {
      "text/html": [
       "<div>\n",
       "<style scoped>\n",
       "    .dataframe tbody tr th:only-of-type {\n",
       "        vertical-align: middle;\n",
       "    }\n",
       "\n",
       "    .dataframe tbody tr th {\n",
       "        vertical-align: top;\n",
       "    }\n",
       "\n",
       "    .dataframe thead th {\n",
       "        text-align: right;\n",
       "    }\n",
       "</style>\n",
       "<table border=\"1\" class=\"dataframe\">\n",
       "  <thead>\n",
       "    <tr style=\"text-align: right;\">\n",
       "      <th></th>\n",
       "      <th>topic</th>\n",
       "      <th>text</th>\n",
       "      <th>title</th>\n",
       "    </tr>\n",
       "  </thead>\n",
       "  <tbody>\n",
       "    <tr>\n",
       "      <th>0</th>\n",
       "      <td>Student</td>\n",
       "      <td>In het kader van kernfusie op aarde MAAK JE EI...</td>\n",
       "      <td>uranium U bomb Hbomb nuclear plant like get on...</td>\n",
       "    </tr>\n",
       "    <tr>\n",
       "      <th>1</th>\n",
       "      <td>InvestmentBanking</td>\n",
       "      <td>Just so you know, this blog isn't about being ...</td>\n",
       "      <td>urlLink war think Korea one Im US could countr...</td>\n",
       "    </tr>\n",
       "    <tr>\n",
       "      <th>2</th>\n",
       "      <td>Education</td>\n",
       "      <td>I I dont remember his name, but I remember the...</td>\n",
       "      <td>Mathew Autism would first classroom teacher ki...</td>\n",
       "    </tr>\n",
       "    <tr>\n",
       "      <th>3</th>\n",
       "      <td>Science</td>\n",
       "      <td>so there they were in the cotton candy shack. ...</td>\n",
       "      <td>john bo jangle got really everyone like cuz co...</td>\n",
       "    </tr>\n",
       "    <tr>\n",
       "      <th>4</th>\n",
       "      <td>Student</td>\n",
       "      <td>By TIRI!!!  I was sitting in the police statio...</td>\n",
       "      <td>didnt went told day could saw started made guy...</td>\n",
       "    </tr>\n",
       "  </tbody>\n",
       "</table>\n",
       "</div>"
      ],
      "text/plain": [
       "               topic                                               text  \\\n",
       "0            Student  In het kader van kernfusie op aarde MAAK JE EI...   \n",
       "1  InvestmentBanking  Just so you know, this blog isn't about being ...   \n",
       "2          Education  I I dont remember his name, but I remember the...   \n",
       "3            Science  so there they were in the cotton candy shack. ...   \n",
       "4            Student  By TIRI!!!  I was sitting in the police statio...   \n",
       "\n",
       "                                               title  \n",
       "0  uranium U bomb Hbomb nuclear plant like get on...  \n",
       "1  urlLink war think Korea one Im US could countr...  \n",
       "2  Mathew Autism would first classroom teacher ki...  \n",
       "3  john bo jangle got really everyone like cuz co...  \n",
       "4  didnt went told day could saw started made guy...  "
      ]
     },
     "execution_count": 13,
     "metadata": {},
     "output_type": "execute_result"
    }
   ],
   "source": [
    "df.head()"
   ]
  },
  {
   "cell_type": "code",
   "execution_count": 15,
   "id": "85f521d0",
   "metadata": {},
   "outputs": [
    {
     "data": {
      "text/plain": [
       "0       uranium U bomb Hbomb nuclear plant like get on...\n",
       "1       urlLink war think Korea one Im US could countr...\n",
       "2       Mathew Autism would first classroom teacher ki...\n",
       "3       john bo jangle got really everyone like cuz co...\n",
       "4       didnt went told day could saw started made guy...\n",
       "                              ...                        \n",
       "2604    yes know people dont Yes sex think love one fr...\n",
       "2605    Scott Donnie fire dont know right think one th...\n",
       "2606    people colony Assignment one Americans America...\n",
       "2607    America right vote Mr President got promise sa...\n",
       "2608    urlLink July dont Ashley Jennifer PM thing thi...\n",
       "Name: title, Length: 2609, dtype: object"
      ]
     },
     "execution_count": 15,
     "metadata": {},
     "output_type": "execute_result"
    }
   ],
   "source": [
    "df.title"
   ]
  }
 ],
 "metadata": {
  "kernelspec": {
   "display_name": "Python 3 (ipykernel)",
   "language": "python",
   "name": "python3"
  },
  "language_info": {
   "codemirror_mode": {
    "name": "ipython",
    "version": 3
   },
   "file_extension": ".py",
   "mimetype": "text/x-python",
   "name": "python",
   "nbconvert_exporter": "python",
   "pygments_lexer": "ipython3",
   "version": "3.10.2"
  }
 },
 "nbformat": 4,
 "nbformat_minor": 5
}
