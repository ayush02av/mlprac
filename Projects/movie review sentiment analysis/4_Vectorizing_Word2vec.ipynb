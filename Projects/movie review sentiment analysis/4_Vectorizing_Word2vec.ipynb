{
 "cells": [
  {
   "attachments": {},
   "cell_type": "markdown",
   "metadata": {},
   "source": [
    "# Loading"
   ]
  },
  {
   "cell_type": "code",
   "execution_count": 23,
   "metadata": {},
   "outputs": [],
   "source": [
    "import pandas as pd\n",
    "import numpy as np\n",
    "from gensim.models import Word2Vec"
   ]
  },
  {
   "cell_type": "code",
   "execution_count": 2,
   "metadata": {},
   "outputs": [],
   "source": [
    "df = pd.read_csv('df_stem.csv')"
   ]
  },
  {
   "cell_type": "code",
   "execution_count": 3,
   "metadata": {},
   "outputs": [
    {
     "data": {
      "text/html": [
       "<div>\n",
       "<style scoped>\n",
       "    .dataframe tbody tr th:only-of-type {\n",
       "        vertical-align: middle;\n",
       "    }\n",
       "\n",
       "    .dataframe tbody tr th {\n",
       "        vertical-align: top;\n",
       "    }\n",
       "\n",
       "    .dataframe thead th {\n",
       "        text-align: right;\n",
       "    }\n",
       "</style>\n",
       "<table border=\"1\" class=\"dataframe\">\n",
       "  <thead>\n",
       "    <tr style=\"text-align: right;\">\n",
       "      <th></th>\n",
       "      <th>Unnamed: 0.1</th>\n",
       "      <th>Unnamed: 0</th>\n",
       "      <th>review</th>\n",
       "      <th>sentiment</th>\n",
       "      <th>review_stem</th>\n",
       "    </tr>\n",
       "  </thead>\n",
       "  <tbody>\n",
       "    <tr>\n",
       "      <th>0</th>\n",
       "      <td>0</td>\n",
       "      <td>0</td>\n",
       "      <td>one of the other reviewers has mentioned that ...</td>\n",
       "      <td>1</td>\n",
       "      <td>one review mention watch 1 oz episod youll hoo...</td>\n",
       "    </tr>\n",
       "    <tr>\n",
       "      <th>1</th>\n",
       "      <td>1</td>\n",
       "      <td>1</td>\n",
       "      <td>a wonderful little production the filming tech...</td>\n",
       "      <td>1</td>\n",
       "      <td>wonder littl product film techniqu unassum old...</td>\n",
       "    </tr>\n",
       "    <tr>\n",
       "      <th>2</th>\n",
       "      <td>2</td>\n",
       "      <td>2</td>\n",
       "      <td>i thought this was a wonderful way to spend ti...</td>\n",
       "      <td>1</td>\n",
       "      <td>thought wonder way spend time hot summer weeke...</td>\n",
       "    </tr>\n",
       "    <tr>\n",
       "      <th>3</th>\n",
       "      <td>3</td>\n",
       "      <td>3</td>\n",
       "      <td>basically theres a family where a little boy j...</td>\n",
       "      <td>0</td>\n",
       "      <td>basic there famili littl boy jake think there ...</td>\n",
       "    </tr>\n",
       "    <tr>\n",
       "      <th>4</th>\n",
       "      <td>4</td>\n",
       "      <td>4</td>\n",
       "      <td>petter matteis love in the time of money is a ...</td>\n",
       "      <td>1</td>\n",
       "      <td>petter mattei love time money visual stun film...</td>\n",
       "    </tr>\n",
       "  </tbody>\n",
       "</table>\n",
       "</div>"
      ],
      "text/plain": [
       "   Unnamed: 0.1  Unnamed: 0   \n",
       "0             0           0  \\\n",
       "1             1           1   \n",
       "2             2           2   \n",
       "3             3           3   \n",
       "4             4           4   \n",
       "\n",
       "                                              review  sentiment   \n",
       "0  one of the other reviewers has mentioned that ...          1  \\\n",
       "1  a wonderful little production the filming tech...          1   \n",
       "2  i thought this was a wonderful way to spend ti...          1   \n",
       "3  basically theres a family where a little boy j...          0   \n",
       "4  petter matteis love in the time of money is a ...          1   \n",
       "\n",
       "                                         review_stem  \n",
       "0  one review mention watch 1 oz episod youll hoo...  \n",
       "1  wonder littl product film techniqu unassum old...  \n",
       "2  thought wonder way spend time hot summer weeke...  \n",
       "3  basic there famili littl boy jake think there ...  \n",
       "4  petter mattei love time money visual stun film...  "
      ]
     },
     "execution_count": 3,
     "metadata": {},
     "output_type": "execute_result"
    }
   ],
   "source": [
    "df.head()"
   ]
  },
  {
   "cell_type": "code",
   "execution_count": 4,
   "metadata": {},
   "outputs": [],
   "source": [
    "df = df[['review_stem', 'sentiment']]"
   ]
  },
  {
   "cell_type": "code",
   "execution_count": 5,
   "metadata": {},
   "outputs": [
    {
     "data": {
      "text/html": [
       "<div>\n",
       "<style scoped>\n",
       "    .dataframe tbody tr th:only-of-type {\n",
       "        vertical-align: middle;\n",
       "    }\n",
       "\n",
       "    .dataframe tbody tr th {\n",
       "        vertical-align: top;\n",
       "    }\n",
       "\n",
       "    .dataframe thead th {\n",
       "        text-align: right;\n",
       "    }\n",
       "</style>\n",
       "<table border=\"1\" class=\"dataframe\">\n",
       "  <thead>\n",
       "    <tr style=\"text-align: right;\">\n",
       "      <th></th>\n",
       "      <th>review_stem</th>\n",
       "      <th>sentiment</th>\n",
       "    </tr>\n",
       "  </thead>\n",
       "  <tbody>\n",
       "    <tr>\n",
       "      <th>0</th>\n",
       "      <td>one review mention watch 1 oz episod youll hoo...</td>\n",
       "      <td>1</td>\n",
       "    </tr>\n",
       "    <tr>\n",
       "      <th>1</th>\n",
       "      <td>wonder littl product film techniqu unassum old...</td>\n",
       "      <td>1</td>\n",
       "    </tr>\n",
       "    <tr>\n",
       "      <th>2</th>\n",
       "      <td>thought wonder way spend time hot summer weeke...</td>\n",
       "      <td>1</td>\n",
       "    </tr>\n",
       "    <tr>\n",
       "      <th>3</th>\n",
       "      <td>basic there famili littl boy jake think there ...</td>\n",
       "      <td>0</td>\n",
       "    </tr>\n",
       "    <tr>\n",
       "      <th>4</th>\n",
       "      <td>petter mattei love time money visual stun film...</td>\n",
       "      <td>1</td>\n",
       "    </tr>\n",
       "  </tbody>\n",
       "</table>\n",
       "</div>"
      ],
      "text/plain": [
       "                                         review_stem  sentiment\n",
       "0  one review mention watch 1 oz episod youll hoo...          1\n",
       "1  wonder littl product film techniqu unassum old...          1\n",
       "2  thought wonder way spend time hot summer weeke...          1\n",
       "3  basic there famili littl boy jake think there ...          0\n",
       "4  petter mattei love time money visual stun film...          1"
      ]
     },
     "execution_count": 5,
     "metadata": {},
     "output_type": "execute_result"
    }
   ],
   "source": [
    "df.head()"
   ]
  },
  {
   "attachments": {},
   "cell_type": "markdown",
   "metadata": {},
   "source": [
    "# Word 2 Vec"
   ]
  },
  {
   "cell_type": "code",
   "execution_count": 14,
   "metadata": {},
   "outputs": [],
   "source": [
    "df['review_stem'] = df['review_stem'].apply(str.split)"
   ]
  },
  {
   "cell_type": "code",
   "execution_count": 15,
   "metadata": {},
   "outputs": [
    {
     "data": {
      "text/html": [
       "<div>\n",
       "<style scoped>\n",
       "    .dataframe tbody tr th:only-of-type {\n",
       "        vertical-align: middle;\n",
       "    }\n",
       "\n",
       "    .dataframe tbody tr th {\n",
       "        vertical-align: top;\n",
       "    }\n",
       "\n",
       "    .dataframe thead th {\n",
       "        text-align: right;\n",
       "    }\n",
       "</style>\n",
       "<table border=\"1\" class=\"dataframe\">\n",
       "  <thead>\n",
       "    <tr style=\"text-align: right;\">\n",
       "      <th></th>\n",
       "      <th>review_stem</th>\n",
       "      <th>sentiment</th>\n",
       "    </tr>\n",
       "  </thead>\n",
       "  <tbody>\n",
       "    <tr>\n",
       "      <th>0</th>\n",
       "      <td>[one, review, mention, watch, 1, oz, episod, y...</td>\n",
       "      <td>1</td>\n",
       "    </tr>\n",
       "    <tr>\n",
       "      <th>1</th>\n",
       "      <td>[wonder, littl, product, film, techniqu, unass...</td>\n",
       "      <td>1</td>\n",
       "    </tr>\n",
       "    <tr>\n",
       "      <th>2</th>\n",
       "      <td>[thought, wonder, way, spend, time, hot, summe...</td>\n",
       "      <td>1</td>\n",
       "    </tr>\n",
       "    <tr>\n",
       "      <th>3</th>\n",
       "      <td>[basic, there, famili, littl, boy, jake, think...</td>\n",
       "      <td>0</td>\n",
       "    </tr>\n",
       "    <tr>\n",
       "      <th>4</th>\n",
       "      <td>[petter, mattei, love, time, money, visual, st...</td>\n",
       "      <td>1</td>\n",
       "    </tr>\n",
       "  </tbody>\n",
       "</table>\n",
       "</div>"
      ],
      "text/plain": [
       "                                         review_stem  sentiment\n",
       "0  [one, review, mention, watch, 1, oz, episod, y...          1\n",
       "1  [wonder, littl, product, film, techniqu, unass...          1\n",
       "2  [thought, wonder, way, spend, time, hot, summe...          1\n",
       "3  [basic, there, famili, littl, boy, jake, think...          0\n",
       "4  [petter, mattei, love, time, money, visual, st...          1"
      ]
     },
     "execution_count": 15,
     "metadata": {},
     "output_type": "execute_result"
    }
   ],
   "source": [
    "df.head()"
   ]
  },
  {
   "cell_type": "code",
   "execution_count": 16,
   "metadata": {},
   "outputs": [],
   "source": [
    "model = Word2Vec(\n",
    "    df['review_stem'],\n",
    "    vector_size = 100,\n",
    "    min_count = 1\n",
    ")"
   ]
  },
  {
   "cell_type": "code",
   "execution_count": 17,
   "metadata": {},
   "outputs": [
    {
     "data": {
      "text/plain": [
       "181885"
      ]
     },
     "execution_count": 17,
     "metadata": {},
     "output_type": "execute_result"
    }
   ],
   "source": [
    "len(model.wv.index_to_key)"
   ]
  },
  {
   "cell_type": "code",
   "execution_count": 18,
   "metadata": {},
   "outputs": [
    {
     "data": {
      "text/plain": [
       "[('great', 0.6824128031730652),\n",
       " ('amaz', 0.6797610521316528),\n",
       " ('fantast', 0.6533145904541016),\n",
       " ('brilliant', 0.6360771656036377),\n",
       " ('excel', 0.6277644038200378),\n",
       " ('terrif', 0.600382387638092),\n",
       " ('fabul', 0.5761121511459351),\n",
       " ('marvel', 0.5758160352706909),\n",
       " ('fine', 0.5739214420318604),\n",
       " ('astound', 0.5731454491615295)]"
      ]
     },
     "execution_count": 18,
     "metadata": {},
     "output_type": "execute_result"
    }
   ],
   "source": [
    "model.wv.most_similar('wonder')"
   ]
  },
  {
   "cell_type": "code",
   "execution_count": 21,
   "metadata": {},
   "outputs": [
    {
     "data": {
      "text/plain": [
       "[('twice', 0.5469274520874023),\n",
       " ('day', 0.5380311608314514),\n",
       " ('way', 0.5305366516113281),\n",
       " ('timeif', 0.5304754972457886),\n",
       " ('timei', 0.5264162421226501),\n",
       " ('occas', 0.5256339907646179),\n",
       " ('week', 0.5134643912315369),\n",
       " ('timeparodi', 0.5118454098701477),\n",
       " ('squanderedit', 0.5093278884887695),\n",
       " ('timeth', 0.5043607354164124)]"
      ]
     },
     "execution_count": 21,
     "metadata": {},
     "output_type": "execute_result"
    }
   ],
   "source": [
    "model.wv.most_similar('time')"
   ]
  },
  {
   "attachments": {},
   "cell_type": "markdown",
   "metadata": {},
   "source": [
    "## Sentence Averaging"
   ]
  },
  {
   "cell_type": "code",
   "execution_count": 56,
   "metadata": {},
   "outputs": [],
   "source": [
    "def sentence_average(keys):\n",
    "    vector_sum = np.array([0.0] * 100)\n",
    "    \n",
    "    for key in keys:\n",
    "        vector_sum += np.array(model.wv.get_vector(key).tolist())\n",
    "    \n",
    "    return vector_sum / len(keys)"
   ]
  },
  {
   "cell_type": "code",
   "execution_count": 57,
   "metadata": {},
   "outputs": [
    {
     "data": {
      "text/plain": [
       "array([-5.57689330e-02,  5.21418432e-01,  4.91050559e-01, -2.84571879e-01,\n",
       "       -5.87454927e-03, -6.73630366e-01, -3.53854042e-01,  3.76611589e-01,\n",
       "       -4.63974146e-01, -3.07149139e-01, -1.12927188e-01, -8.33234988e-01,\n",
       "        4.27014570e-02,  6.73994701e-01,  5.66837889e-01, -3.36153615e-02,\n",
       "       -1.46911118e-01, -3.00407871e-02, -1.49899164e-01,  2.47353671e-02,\n",
       "       -8.59027193e-02, -1.03197207e-01,  4.86804827e-01,  1.10103619e-01,\n",
       "       -7.04092893e-01,  9.13449667e-02, -3.55593989e-01, -6.39741629e-01,\n",
       "        3.16284365e-02,  1.95291038e-01,  3.15409029e-01, -4.50379260e-01,\n",
       "        6.05889986e-01, -3.56425976e-02, -5.50486084e-03,  6.97342235e-01,\n",
       "        6.41677645e-02,  5.32257961e-02, -8.77184814e-01, -6.96389089e-01,\n",
       "       -1.89110002e-01, -2.89747734e-01, -3.61083988e-01,  1.10346500e-01,\n",
       "        3.16985113e-01,  1.89548200e-01, -4.70210468e-01, -8.46225369e-01,\n",
       "        4.32367741e-01,  1.83061593e-01, -6.95670312e-02,  2.26052588e-01,\n",
       "        3.33184370e-01, -3.60024044e-01, -1.03641405e-01, -2.63686667e-01,\n",
       "        2.62011227e-01, -2.67512029e-01, -8.11773921e-01, -6.37811868e-02,\n",
       "       -1.46800024e-01, -4.24014727e-02,  1.92636207e-01,  1.37409478e-01,\n",
       "       -1.74288538e-01,  3.40205082e-01, -5.51274116e-02, -4.85114324e-04,\n",
       "       -1.15264363e+00,  5.54928380e-02,  9.95277595e-02,  3.57706199e-01,\n",
       "        1.27427188e-01, -1.38822149e-01,  1.24786698e-01,  9.25211157e-02,\n",
       "       -1.90592689e-01,  1.60673111e-01, -6.24940571e-01,  7.79145365e-01,\n",
       "        5.33975030e-02, -1.19047967e-01, -1.35689058e-01,  3.92791735e-01,\n",
       "        5.79409472e-02,  1.56121542e-01,  1.73698839e-01,  5.51697813e-01,\n",
       "        5.06963820e-01,  6.24925666e-01,  2.60104917e-01,  3.61337384e-01,\n",
       "        5.13079302e-02,  1.29544395e-01,  9.39322555e-02,  1.90868416e-01,\n",
       "        2.77286921e-01, -2.74715879e-01,  2.39495297e-01, -5.51399855e-01])"
      ]
     },
     "execution_count": 57,
     "metadata": {},
     "output_type": "execute_result"
    }
   ],
   "source": [
    "sentence_average(df['review_stem'][0])"
   ]
  },
  {
   "attachments": {},
   "cell_type": "markdown",
   "metadata": {},
   "source": [
    "## Vector Dataframe"
   ]
  },
  {
   "cell_type": "code",
   "execution_count": 58,
   "metadata": {},
   "outputs": [],
   "source": [
    "dfv = pd.DataFrame()"
   ]
  },
  {
   "cell_type": "code",
   "execution_count": 65,
   "metadata": {},
   "outputs": [],
   "source": [
    "dfv[[str(i) for i in range(100)]] = df.apply(lambda row: sentence_average(row[0]), axis = 1, result_type = \"expand\")"
   ]
  },
  {
   "cell_type": "code",
   "execution_count": 66,
   "metadata": {},
   "outputs": [
    {
     "data": {
      "text/html": [
       "<div>\n",
       "<style scoped>\n",
       "    .dataframe tbody tr th:only-of-type {\n",
       "        vertical-align: middle;\n",
       "    }\n",
       "\n",
       "    .dataframe tbody tr th {\n",
       "        vertical-align: top;\n",
       "    }\n",
       "\n",
       "    .dataframe thead th {\n",
       "        text-align: right;\n",
       "    }\n",
       "</style>\n",
       "<table border=\"1\" class=\"dataframe\">\n",
       "  <thead>\n",
       "    <tr style=\"text-align: right;\">\n",
       "      <th></th>\n",
       "      <th>0</th>\n",
       "      <th>1</th>\n",
       "      <th>2</th>\n",
       "      <th>3</th>\n",
       "      <th>4</th>\n",
       "      <th>5</th>\n",
       "      <th>6</th>\n",
       "      <th>7</th>\n",
       "      <th>8</th>\n",
       "      <th>9</th>\n",
       "      <th>...</th>\n",
       "      <th>90</th>\n",
       "      <th>91</th>\n",
       "      <th>92</th>\n",
       "      <th>93</th>\n",
       "      <th>94</th>\n",
       "      <th>95</th>\n",
       "      <th>96</th>\n",
       "      <th>97</th>\n",
       "      <th>98</th>\n",
       "      <th>99</th>\n",
       "    </tr>\n",
       "  </thead>\n",
       "  <tbody>\n",
       "    <tr>\n",
       "      <th>0</th>\n",
       "      <td>-0.055769</td>\n",
       "      <td>0.521418</td>\n",
       "      <td>0.491051</td>\n",
       "      <td>-0.284572</td>\n",
       "      <td>-0.005875</td>\n",
       "      <td>-0.673630</td>\n",
       "      <td>-0.353854</td>\n",
       "      <td>0.376612</td>\n",
       "      <td>-0.463974</td>\n",
       "      <td>-0.307149</td>\n",
       "      <td>...</td>\n",
       "      <td>0.260105</td>\n",
       "      <td>0.361337</td>\n",
       "      <td>0.051308</td>\n",
       "      <td>0.129544</td>\n",
       "      <td>0.093932</td>\n",
       "      <td>0.190868</td>\n",
       "      <td>0.277287</td>\n",
       "      <td>-0.274716</td>\n",
       "      <td>0.239495</td>\n",
       "      <td>-0.551400</td>\n",
       "    </tr>\n",
       "    <tr>\n",
       "      <th>1</th>\n",
       "      <td>-0.387298</td>\n",
       "      <td>0.067675</td>\n",
       "      <td>0.107511</td>\n",
       "      <td>-0.311522</td>\n",
       "      <td>0.282367</td>\n",
       "      <td>-0.803792</td>\n",
       "      <td>-0.096303</td>\n",
       "      <td>0.501002</td>\n",
       "      <td>-0.591078</td>\n",
       "      <td>-1.004327</td>\n",
       "      <td>...</td>\n",
       "      <td>0.250374</td>\n",
       "      <td>0.275806</td>\n",
       "      <td>-0.259445</td>\n",
       "      <td>0.161307</td>\n",
       "      <td>0.045556</td>\n",
       "      <td>0.284748</td>\n",
       "      <td>0.345185</td>\n",
       "      <td>-0.730644</td>\n",
       "      <td>0.290081</td>\n",
       "      <td>-0.267813</td>\n",
       "    </tr>\n",
       "    <tr>\n",
       "      <th>2</th>\n",
       "      <td>-0.363525</td>\n",
       "      <td>0.477643</td>\n",
       "      <td>0.263717</td>\n",
       "      <td>-0.138138</td>\n",
       "      <td>-0.020126</td>\n",
       "      <td>-0.627118</td>\n",
       "      <td>0.146612</td>\n",
       "      <td>0.464807</td>\n",
       "      <td>-0.623616</td>\n",
       "      <td>-0.767289</td>\n",
       "      <td>...</td>\n",
       "      <td>0.296554</td>\n",
       "      <td>0.225034</td>\n",
       "      <td>-0.172313</td>\n",
       "      <td>0.186274</td>\n",
       "      <td>0.291188</td>\n",
       "      <td>0.233296</td>\n",
       "      <td>0.546296</td>\n",
       "      <td>-0.240926</td>\n",
       "      <td>-0.007414</td>\n",
       "      <td>-0.581818</td>\n",
       "    </tr>\n",
       "    <tr>\n",
       "      <th>3</th>\n",
       "      <td>-0.210395</td>\n",
       "      <td>0.459685</td>\n",
       "      <td>0.625348</td>\n",
       "      <td>-0.269713</td>\n",
       "      <td>-0.091613</td>\n",
       "      <td>-0.382779</td>\n",
       "      <td>-0.382343</td>\n",
       "      <td>0.109192</td>\n",
       "      <td>-0.563171</td>\n",
       "      <td>-0.794181</td>\n",
       "      <td>...</td>\n",
       "      <td>0.123221</td>\n",
       "      <td>0.400460</td>\n",
       "      <td>0.031721</td>\n",
       "      <td>0.122218</td>\n",
       "      <td>0.147478</td>\n",
       "      <td>0.681805</td>\n",
       "      <td>0.357045</td>\n",
       "      <td>-0.613093</td>\n",
       "      <td>0.349137</td>\n",
       "      <td>-0.588786</td>\n",
       "    </tr>\n",
       "    <tr>\n",
       "      <th>4</th>\n",
       "      <td>-0.198249</td>\n",
       "      <td>0.207593</td>\n",
       "      <td>0.372784</td>\n",
       "      <td>-0.245931</td>\n",
       "      <td>0.417209</td>\n",
       "      <td>-0.632262</td>\n",
       "      <td>-0.022253</td>\n",
       "      <td>0.276544</td>\n",
       "      <td>-0.693726</td>\n",
       "      <td>-0.816664</td>\n",
       "      <td>...</td>\n",
       "      <td>0.084679</td>\n",
       "      <td>0.479013</td>\n",
       "      <td>-0.253804</td>\n",
       "      <td>0.075651</td>\n",
       "      <td>0.312607</td>\n",
       "      <td>0.240662</td>\n",
       "      <td>-0.058127</td>\n",
       "      <td>-0.105360</td>\n",
       "      <td>0.491676</td>\n",
       "      <td>-0.591702</td>\n",
       "    </tr>\n",
       "  </tbody>\n",
       "</table>\n",
       "<p>5 rows × 100 columns</p>\n",
       "</div>"
      ],
      "text/plain": [
       "          0         1         2         3         4         5         6   \n",
       "0 -0.055769  0.521418  0.491051 -0.284572 -0.005875 -0.673630 -0.353854  \\\n",
       "1 -0.387298  0.067675  0.107511 -0.311522  0.282367 -0.803792 -0.096303   \n",
       "2 -0.363525  0.477643  0.263717 -0.138138 -0.020126 -0.627118  0.146612   \n",
       "3 -0.210395  0.459685  0.625348 -0.269713 -0.091613 -0.382779 -0.382343   \n",
       "4 -0.198249  0.207593  0.372784 -0.245931  0.417209 -0.632262 -0.022253   \n",
       "\n",
       "          7         8         9  ...        90        91        92        93   \n",
       "0  0.376612 -0.463974 -0.307149  ...  0.260105  0.361337  0.051308  0.129544  \\\n",
       "1  0.501002 -0.591078 -1.004327  ...  0.250374  0.275806 -0.259445  0.161307   \n",
       "2  0.464807 -0.623616 -0.767289  ...  0.296554  0.225034 -0.172313  0.186274   \n",
       "3  0.109192 -0.563171 -0.794181  ...  0.123221  0.400460  0.031721  0.122218   \n",
       "4  0.276544 -0.693726 -0.816664  ...  0.084679  0.479013 -0.253804  0.075651   \n",
       "\n",
       "         94        95        96        97        98        99  \n",
       "0  0.093932  0.190868  0.277287 -0.274716  0.239495 -0.551400  \n",
       "1  0.045556  0.284748  0.345185 -0.730644  0.290081 -0.267813  \n",
       "2  0.291188  0.233296  0.546296 -0.240926 -0.007414 -0.581818  \n",
       "3  0.147478  0.681805  0.357045 -0.613093  0.349137 -0.588786  \n",
       "4  0.312607  0.240662 -0.058127 -0.105360  0.491676 -0.591702  \n",
       "\n",
       "[5 rows x 100 columns]"
      ]
     },
     "execution_count": 66,
     "metadata": {},
     "output_type": "execute_result"
    }
   ],
   "source": [
    "dfv.head()"
   ]
  },
  {
   "cell_type": "code",
   "execution_count": 67,
   "metadata": {},
   "outputs": [
    {
     "data": {
      "text/plain": [
       "(50000, 100)"
      ]
     },
     "execution_count": 67,
     "metadata": {},
     "output_type": "execute_result"
    }
   ],
   "source": [
    "dfv.shape"
   ]
  },
  {
   "cell_type": "code",
   "execution_count": 98,
   "metadata": {},
   "outputs": [
    {
     "data": {
      "text/html": [
       "<div>\n",
       "<style scoped>\n",
       "    .dataframe tbody tr th:only-of-type {\n",
       "        vertical-align: middle;\n",
       "    }\n",
       "\n",
       "    .dataframe tbody tr th {\n",
       "        vertical-align: top;\n",
       "    }\n",
       "\n",
       "    .dataframe thead th {\n",
       "        text-align: right;\n",
       "    }\n",
       "</style>\n",
       "<table border=\"1\" class=\"dataframe\">\n",
       "  <thead>\n",
       "    <tr style=\"text-align: right;\">\n",
       "      <th></th>\n",
       "      <th>0</th>\n",
       "      <th>1</th>\n",
       "      <th>2</th>\n",
       "      <th>3</th>\n",
       "      <th>4</th>\n",
       "      <th>5</th>\n",
       "      <th>6</th>\n",
       "      <th>7</th>\n",
       "      <th>8</th>\n",
       "      <th>9</th>\n",
       "      <th>...</th>\n",
       "      <th>90</th>\n",
       "      <th>91</th>\n",
       "      <th>92</th>\n",
       "      <th>93</th>\n",
       "      <th>94</th>\n",
       "      <th>95</th>\n",
       "      <th>96</th>\n",
       "      <th>97</th>\n",
       "      <th>98</th>\n",
       "      <th>99</th>\n",
       "    </tr>\n",
       "  </thead>\n",
       "  <tbody>\n",
       "    <tr>\n",
       "      <th>count</th>\n",
       "      <td>50000.000000</td>\n",
       "      <td>50000.000000</td>\n",
       "      <td>50000.000000</td>\n",
       "      <td>50000.000000</td>\n",
       "      <td>50000.000000</td>\n",
       "      <td>50000.000000</td>\n",
       "      <td>50000.000000</td>\n",
       "      <td>50000.000000</td>\n",
       "      <td>50000.000000</td>\n",
       "      <td>50000.000000</td>\n",
       "      <td>...</td>\n",
       "      <td>50000.000000</td>\n",
       "      <td>50000.000000</td>\n",
       "      <td>50000.000000</td>\n",
       "      <td>50000.000000</td>\n",
       "      <td>50000.000000</td>\n",
       "      <td>50000.000000</td>\n",
       "      <td>50000.000000</td>\n",
       "      <td>50000.000000</td>\n",
       "      <td>50000.000000</td>\n",
       "      <td>50000.000000</td>\n",
       "    </tr>\n",
       "    <tr>\n",
       "      <th>mean</th>\n",
       "      <td>-0.255079</td>\n",
       "      <td>0.443361</td>\n",
       "      <td>0.293830</td>\n",
       "      <td>-0.220543</td>\n",
       "      <td>0.081928</td>\n",
       "      <td>-0.610497</td>\n",
       "      <td>-0.234926</td>\n",
       "      <td>0.220228</td>\n",
       "      <td>-0.633289</td>\n",
       "      <td>-0.719987</td>\n",
       "      <td>...</td>\n",
       "      <td>0.284044</td>\n",
       "      <td>0.279089</td>\n",
       "      <td>-0.263289</td>\n",
       "      <td>0.132850</td>\n",
       "      <td>0.261319</td>\n",
       "      <td>0.334235</td>\n",
       "      <td>0.327910</td>\n",
       "      <td>-0.336436</td>\n",
       "      <td>0.156604</td>\n",
       "      <td>-0.548328</td>\n",
       "    </tr>\n",
       "    <tr>\n",
       "      <th>std</th>\n",
       "      <td>0.187410</td>\n",
       "      <td>0.210143</td>\n",
       "      <td>0.187993</td>\n",
       "      <td>0.189239</td>\n",
       "      <td>0.206248</td>\n",
       "      <td>0.177413</td>\n",
       "      <td>0.182087</td>\n",
       "      <td>0.212106</td>\n",
       "      <td>0.208512</td>\n",
       "      <td>0.242197</td>\n",
       "      <td>...</td>\n",
       "      <td>0.168631</td>\n",
       "      <td>0.168095</td>\n",
       "      <td>0.212122</td>\n",
       "      <td>0.151294</td>\n",
       "      <td>0.150587</td>\n",
       "      <td>0.196508</td>\n",
       "      <td>0.212829</td>\n",
       "      <td>0.202299</td>\n",
       "      <td>0.257008</td>\n",
       "      <td>0.241762</td>\n",
       "    </tr>\n",
       "    <tr>\n",
       "      <th>min</th>\n",
       "      <td>-1.380826</td>\n",
       "      <td>-1.726450</td>\n",
       "      <td>-0.938676</td>\n",
       "      <td>-1.519571</td>\n",
       "      <td>-1.435194</td>\n",
       "      <td>-1.990211</td>\n",
       "      <td>-1.466972</td>\n",
       "      <td>-1.044476</td>\n",
       "      <td>-2.023175</td>\n",
       "      <td>-2.421847</td>\n",
       "      <td>...</td>\n",
       "      <td>-0.523581</td>\n",
       "      <td>-0.562852</td>\n",
       "      <td>-1.685461</td>\n",
       "      <td>-1.049153</td>\n",
       "      <td>-0.677570</td>\n",
       "      <td>-0.698739</td>\n",
       "      <td>-0.736302</td>\n",
       "      <td>-1.730731</td>\n",
       "      <td>-1.339510</td>\n",
       "      <td>-1.759691</td>\n",
       "    </tr>\n",
       "    <tr>\n",
       "      <th>25%</th>\n",
       "      <td>-0.369404</td>\n",
       "      <td>0.304539</td>\n",
       "      <td>0.174038</td>\n",
       "      <td>-0.343606</td>\n",
       "      <td>-0.045047</td>\n",
       "      <td>-0.720727</td>\n",
       "      <td>-0.352202</td>\n",
       "      <td>0.083868</td>\n",
       "      <td>-0.762608</td>\n",
       "      <td>-0.867559</td>\n",
       "      <td>...</td>\n",
       "      <td>0.168854</td>\n",
       "      <td>0.173383</td>\n",
       "      <td>-0.395897</td>\n",
       "      <td>0.039220</td>\n",
       "      <td>0.165756</td>\n",
       "      <td>0.202178</td>\n",
       "      <td>0.184526</td>\n",
       "      <td>-0.458586</td>\n",
       "      <td>-0.010817</td>\n",
       "      <td>-0.704933</td>\n",
       "    </tr>\n",
       "    <tr>\n",
       "      <th>50%</th>\n",
       "      <td>-0.246299</td>\n",
       "      <td>0.433876</td>\n",
       "      <td>0.291964</td>\n",
       "      <td>-0.217645</td>\n",
       "      <td>0.090262</td>\n",
       "      <td>-0.605098</td>\n",
       "      <td>-0.236243</td>\n",
       "      <td>0.227769</td>\n",
       "      <td>-0.625292</td>\n",
       "      <td>-0.699012</td>\n",
       "      <td>...</td>\n",
       "      <td>0.271590</td>\n",
       "      <td>0.279907</td>\n",
       "      <td>-0.259640</td>\n",
       "      <td>0.131871</td>\n",
       "      <td>0.262721</td>\n",
       "      <td>0.327812</td>\n",
       "      <td>0.323333</td>\n",
       "      <td>-0.328856</td>\n",
       "      <td>0.164645</td>\n",
       "      <td>-0.546122</td>\n",
       "    </tr>\n",
       "    <tr>\n",
       "      <th>75%</th>\n",
       "      <td>-0.132376</td>\n",
       "      <td>0.573029</td>\n",
       "      <td>0.411877</td>\n",
       "      <td>-0.095506</td>\n",
       "      <td>0.218626</td>\n",
       "      <td>-0.493906</td>\n",
       "      <td>-0.120878</td>\n",
       "      <td>0.363731</td>\n",
       "      <td>-0.497150</td>\n",
       "      <td>-0.551432</td>\n",
       "      <td>...</td>\n",
       "      <td>0.387106</td>\n",
       "      <td>0.386307</td>\n",
       "      <td>-0.125952</td>\n",
       "      <td>0.226648</td>\n",
       "      <td>0.356279</td>\n",
       "      <td>0.463114</td>\n",
       "      <td>0.464668</td>\n",
       "      <td>-0.203470</td>\n",
       "      <td>0.330337</td>\n",
       "      <td>-0.389723</td>\n",
       "    </tr>\n",
       "    <tr>\n",
       "      <th>max</th>\n",
       "      <td>0.744371</td>\n",
       "      <td>1.703630</td>\n",
       "      <td>1.428041</td>\n",
       "      <td>0.747193</td>\n",
       "      <td>1.001881</td>\n",
       "      <td>0.236836</td>\n",
       "      <td>0.748628</td>\n",
       "      <td>1.267297</td>\n",
       "      <td>0.305927</td>\n",
       "      <td>0.190495</td>\n",
       "      <td>...</td>\n",
       "      <td>1.276215</td>\n",
       "      <td>1.286585</td>\n",
       "      <td>0.845100</td>\n",
       "      <td>1.244772</td>\n",
       "      <td>1.410685</td>\n",
       "      <td>1.463961</td>\n",
       "      <td>1.369351</td>\n",
       "      <td>0.632063</td>\n",
       "      <td>1.760517</td>\n",
       "      <td>1.032578</td>\n",
       "    </tr>\n",
       "  </tbody>\n",
       "</table>\n",
       "<p>8 rows × 100 columns</p>\n",
       "</div>"
      ],
      "text/plain": [
       "                  0             1             2             3             4   \n",
       "count  50000.000000  50000.000000  50000.000000  50000.000000  50000.000000  \\\n",
       "mean      -0.255079      0.443361      0.293830     -0.220543      0.081928   \n",
       "std        0.187410      0.210143      0.187993      0.189239      0.206248   \n",
       "min       -1.380826     -1.726450     -0.938676     -1.519571     -1.435194   \n",
       "25%       -0.369404      0.304539      0.174038     -0.343606     -0.045047   \n",
       "50%       -0.246299      0.433876      0.291964     -0.217645      0.090262   \n",
       "75%       -0.132376      0.573029      0.411877     -0.095506      0.218626   \n",
       "max        0.744371      1.703630      1.428041      0.747193      1.001881   \n",
       "\n",
       "                  5             6             7             8             9   \n",
       "count  50000.000000  50000.000000  50000.000000  50000.000000  50000.000000  \\\n",
       "mean      -0.610497     -0.234926      0.220228     -0.633289     -0.719987   \n",
       "std        0.177413      0.182087      0.212106      0.208512      0.242197   \n",
       "min       -1.990211     -1.466972     -1.044476     -2.023175     -2.421847   \n",
       "25%       -0.720727     -0.352202      0.083868     -0.762608     -0.867559   \n",
       "50%       -0.605098     -0.236243      0.227769     -0.625292     -0.699012   \n",
       "75%       -0.493906     -0.120878      0.363731     -0.497150     -0.551432   \n",
       "max        0.236836      0.748628      1.267297      0.305927      0.190495   \n",
       "\n",
       "       ...            90            91            92            93   \n",
       "count  ...  50000.000000  50000.000000  50000.000000  50000.000000  \\\n",
       "mean   ...      0.284044      0.279089     -0.263289      0.132850   \n",
       "std    ...      0.168631      0.168095      0.212122      0.151294   \n",
       "min    ...     -0.523581     -0.562852     -1.685461     -1.049153   \n",
       "25%    ...      0.168854      0.173383     -0.395897      0.039220   \n",
       "50%    ...      0.271590      0.279907     -0.259640      0.131871   \n",
       "75%    ...      0.387106      0.386307     -0.125952      0.226648   \n",
       "max    ...      1.276215      1.286585      0.845100      1.244772   \n",
       "\n",
       "                 94            95            96            97            98   \n",
       "count  50000.000000  50000.000000  50000.000000  50000.000000  50000.000000  \\\n",
       "mean       0.261319      0.334235      0.327910     -0.336436      0.156604   \n",
       "std        0.150587      0.196508      0.212829      0.202299      0.257008   \n",
       "min       -0.677570     -0.698739     -0.736302     -1.730731     -1.339510   \n",
       "25%        0.165756      0.202178      0.184526     -0.458586     -0.010817   \n",
       "50%        0.262721      0.327812      0.323333     -0.328856      0.164645   \n",
       "75%        0.356279      0.463114      0.464668     -0.203470      0.330337   \n",
       "max        1.410685      1.463961      1.369351      0.632063      1.760517   \n",
       "\n",
       "                 99  \n",
       "count  50000.000000  \n",
       "mean      -0.548328  \n",
       "std        0.241762  \n",
       "min       -1.759691  \n",
       "25%       -0.704933  \n",
       "50%       -0.546122  \n",
       "75%       -0.389723  \n",
       "max        1.032578  \n",
       "\n",
       "[8 rows x 100 columns]"
      ]
     },
     "execution_count": 98,
     "metadata": {},
     "output_type": "execute_result"
    }
   ],
   "source": [
    "dfv.describe()"
   ]
  },
  {
   "attachments": {},
   "cell_type": "markdown",
   "metadata": {},
   "source": [
    "# Free Testing"
   ]
  },
  {
   "cell_type": "code",
   "execution_count": 68,
   "metadata": {},
   "outputs": [],
   "source": [
    "x = dfv"
   ]
  },
  {
   "cell_type": "code",
   "execution_count": 69,
   "metadata": {},
   "outputs": [],
   "source": [
    "y = df['sentiment']"
   ]
  },
  {
   "cell_type": "code",
   "execution_count": 101,
   "metadata": {},
   "outputs": [],
   "source": [
    "from sklearn.model_selection import train_test_split\n",
    "from sklearn.metrics import accuracy_score\n",
    "from sklearn.metrics import confusion_matrix"
   ]
  },
  {
   "cell_type": "code",
   "execution_count": 75,
   "metadata": {},
   "outputs": [],
   "source": [
    "x_train, x_test, y_train, y_test = train_test_split(x, y, test_size = 0.3, random_state = 0)"
   ]
  },
  {
   "cell_type": "code",
   "execution_count": 80,
   "metadata": {},
   "outputs": [],
   "source": [
    "from sklearn.linear_model import LogisticRegression"
   ]
  },
  {
   "cell_type": "code",
   "execution_count": 92,
   "metadata": {},
   "outputs": [],
   "source": [
    "lrm = LogisticRegression(max_iter = 1000)"
   ]
  },
  {
   "cell_type": "code",
   "execution_count": 93,
   "metadata": {},
   "outputs": [
    {
     "data": {
      "text/html": [
       "<style>#sk-container-id-3 {color: black;background-color: white;}#sk-container-id-3 pre{padding: 0;}#sk-container-id-3 div.sk-toggleable {background-color: white;}#sk-container-id-3 label.sk-toggleable__label {cursor: pointer;display: block;width: 100%;margin-bottom: 0;padding: 0.3em;box-sizing: border-box;text-align: center;}#sk-container-id-3 label.sk-toggleable__label-arrow:before {content: \"▸\";float: left;margin-right: 0.25em;color: #696969;}#sk-container-id-3 label.sk-toggleable__label-arrow:hover:before {color: black;}#sk-container-id-3 div.sk-estimator:hover label.sk-toggleable__label-arrow:before {color: black;}#sk-container-id-3 div.sk-toggleable__content {max-height: 0;max-width: 0;overflow: hidden;text-align: left;background-color: #f0f8ff;}#sk-container-id-3 div.sk-toggleable__content pre {margin: 0.2em;color: black;border-radius: 0.25em;background-color: #f0f8ff;}#sk-container-id-3 input.sk-toggleable__control:checked~div.sk-toggleable__content {max-height: 200px;max-width: 100%;overflow: auto;}#sk-container-id-3 input.sk-toggleable__control:checked~label.sk-toggleable__label-arrow:before {content: \"▾\";}#sk-container-id-3 div.sk-estimator input.sk-toggleable__control:checked~label.sk-toggleable__label {background-color: #d4ebff;}#sk-container-id-3 div.sk-label input.sk-toggleable__control:checked~label.sk-toggleable__label {background-color: #d4ebff;}#sk-container-id-3 input.sk-hidden--visually {border: 0;clip: rect(1px 1px 1px 1px);clip: rect(1px, 1px, 1px, 1px);height: 1px;margin: -1px;overflow: hidden;padding: 0;position: absolute;width: 1px;}#sk-container-id-3 div.sk-estimator {font-family: monospace;background-color: #f0f8ff;border: 1px dotted black;border-radius: 0.25em;box-sizing: border-box;margin-bottom: 0.5em;}#sk-container-id-3 div.sk-estimator:hover {background-color: #d4ebff;}#sk-container-id-3 div.sk-parallel-item::after {content: \"\";width: 100%;border-bottom: 1px solid gray;flex-grow: 1;}#sk-container-id-3 div.sk-label:hover label.sk-toggleable__label {background-color: #d4ebff;}#sk-container-id-3 div.sk-serial::before {content: \"\";position: absolute;border-left: 1px solid gray;box-sizing: border-box;top: 0;bottom: 0;left: 50%;z-index: 0;}#sk-container-id-3 div.sk-serial {display: flex;flex-direction: column;align-items: center;background-color: white;padding-right: 0.2em;padding-left: 0.2em;position: relative;}#sk-container-id-3 div.sk-item {position: relative;z-index: 1;}#sk-container-id-3 div.sk-parallel {display: flex;align-items: stretch;justify-content: center;background-color: white;position: relative;}#sk-container-id-3 div.sk-item::before, #sk-container-id-3 div.sk-parallel-item::before {content: \"\";position: absolute;border-left: 1px solid gray;box-sizing: border-box;top: 0;bottom: 0;left: 50%;z-index: -1;}#sk-container-id-3 div.sk-parallel-item {display: flex;flex-direction: column;z-index: 1;position: relative;background-color: white;}#sk-container-id-3 div.sk-parallel-item:first-child::after {align-self: flex-end;width: 50%;}#sk-container-id-3 div.sk-parallel-item:last-child::after {align-self: flex-start;width: 50%;}#sk-container-id-3 div.sk-parallel-item:only-child::after {width: 0;}#sk-container-id-3 div.sk-dashed-wrapped {border: 1px dashed gray;margin: 0 0.4em 0.5em 0.4em;box-sizing: border-box;padding-bottom: 0.4em;background-color: white;}#sk-container-id-3 div.sk-label label {font-family: monospace;font-weight: bold;display: inline-block;line-height: 1.2em;}#sk-container-id-3 div.sk-label-container {text-align: center;}#sk-container-id-3 div.sk-container {/* jupyter's `normalize.less` sets `[hidden] { display: none; }` but bootstrap.min.css set `[hidden] { display: none !important; }` so we also need the `!important` here to be able to override the default hidden behavior on the sphinx rendered scikit-learn.org. See: https://github.com/scikit-learn/scikit-learn/issues/21755 */display: inline-block !important;position: relative;}#sk-container-id-3 div.sk-text-repr-fallback {display: none;}</style><div id=\"sk-container-id-3\" class=\"sk-top-container\"><div class=\"sk-text-repr-fallback\"><pre>LogisticRegression(max_iter=1000)</pre><b>In a Jupyter environment, please rerun this cell to show the HTML representation or trust the notebook. <br />On GitHub, the HTML representation is unable to render, please try loading this page with nbviewer.org.</b></div><div class=\"sk-container\" hidden><div class=\"sk-item\"><div class=\"sk-estimator sk-toggleable\"><input class=\"sk-toggleable__control sk-hidden--visually\" id=\"sk-estimator-id-3\" type=\"checkbox\" checked><label for=\"sk-estimator-id-3\" class=\"sk-toggleable__label sk-toggleable__label-arrow\">LogisticRegression</label><div class=\"sk-toggleable__content\"><pre>LogisticRegression(max_iter=1000)</pre></div></div></div></div></div>"
      ],
      "text/plain": [
       "LogisticRegression(max_iter=1000)"
      ]
     },
     "execution_count": 93,
     "metadata": {},
     "output_type": "execute_result"
    }
   ],
   "source": [
    "lrm.fit(x_train, y_train)"
   ]
  },
  {
   "cell_type": "code",
   "execution_count": 102,
   "metadata": {},
   "outputs": [],
   "source": [
    "y_pred = lrm.predict(x_test)"
   ]
  },
  {
   "cell_type": "code",
   "execution_count": 103,
   "metadata": {},
   "outputs": [
    {
     "data": {
      "text/plain": [
       "0.8548"
      ]
     },
     "execution_count": 103,
     "metadata": {},
     "output_type": "execute_result"
    }
   ],
   "source": [
    "accuracy_score(y_test, y_pred)"
   ]
  },
  {
   "cell_type": "code",
   "execution_count": 104,
   "metadata": {},
   "outputs": [
    {
     "data": {
      "text/plain": [
       "array([[6394, 1146],\n",
       "       [1032, 6428]], dtype=int64)"
      ]
     },
     "execution_count": 104,
     "metadata": {},
     "output_type": "execute_result"
    }
   ],
   "source": [
    "confusion_matrix(y_test, y_pred)"
   ]
  },
  {
   "cell_type": "code",
   "execution_count": 105,
   "metadata": {},
   "outputs": [
    {
     "data": {
      "text/plain": [
       "0.8548"
      ]
     },
     "execution_count": 105,
     "metadata": {},
     "output_type": "execute_result"
    }
   ],
   "source": [
    "lrm.score(x_test, y_test)"
   ]
  },
  {
   "cell_type": "code",
   "execution_count": null,
   "metadata": {},
   "outputs": [],
   "source": []
  }
 ],
 "metadata": {
  "kernelspec": {
   "display_name": "Python 3",
   "language": "python",
   "name": "python3"
  },
  "language_info": {
   "codemirror_mode": {
    "name": "ipython",
    "version": 3
   },
   "file_extension": ".py",
   "mimetype": "text/x-python",
   "name": "python",
   "nbconvert_exporter": "python",
   "pygments_lexer": "ipython3",
   "version": "3.11.3"
  },
  "orig_nbformat": 4
 },
 "nbformat": 4,
 "nbformat_minor": 2
}
