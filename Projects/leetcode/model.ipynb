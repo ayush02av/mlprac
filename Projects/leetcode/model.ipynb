{
 "cells": [
  {
   "cell_type": "markdown",
   "id": "486ee068",
   "metadata": {},
   "source": [
    "# Loading"
   ]
  },
  {
   "cell_type": "code",
   "execution_count": 65,
   "id": "5f1a92d8",
   "metadata": {},
   "outputs": [],
   "source": [
    "import pandas as pd\n",
    "import numpy as np\n",
    "import json\n",
    "from sklearn.preprocessing import MinMaxScaler\n",
    "from sklearn.cluster import KMeans\n",
    "import matplotlib.pyplot as plt"
   ]
  },
  {
   "cell_type": "code",
   "execution_count": 2,
   "id": "d9805b4a",
   "metadata": {},
   "outputs": [],
   "source": [
    "df = pd.read_csv('df_details.csv')"
   ]
  },
  {
   "cell_type": "code",
   "execution_count": 3,
   "id": "97f71406",
   "metadata": {},
   "outputs": [
    {
     "data": {
      "text/plain": [
       "(15212, 8)"
      ]
     },
     "execution_count": 3,
     "metadata": {},
     "output_type": "execute_result"
    }
   ],
   "source": [
    "df.shape"
   ]
  },
  {
   "cell_type": "code",
   "execution_count": 4,
   "id": "34a63dd1",
   "metadata": {},
   "outputs": [
    {
     "data": {
      "text/html": [
       "<div>\n",
       "<style scoped>\n",
       "    .dataframe tbody tr th:only-of-type {\n",
       "        vertical-align: middle;\n",
       "    }\n",
       "\n",
       "    .dataframe tbody tr th {\n",
       "        vertical-align: top;\n",
       "    }\n",
       "\n",
       "    .dataframe thead th {\n",
       "        text-align: right;\n",
       "    }\n",
       "</style>\n",
       "<table border=\"1\" class=\"dataframe\">\n",
       "  <thead>\n",
       "    <tr style=\"text-align: right;\">\n",
       "      <th></th>\n",
       "      <th>Unnamed: 0</th>\n",
       "      <th>Unnamed: 0.1</th>\n",
       "      <th>username</th>\n",
       "      <th>data</th>\n",
       "      <th>global rank</th>\n",
       "      <th>india rank</th>\n",
       "      <th>rating</th>\n",
       "      <th>country</th>\n",
       "    </tr>\n",
       "  </thead>\n",
       "  <tbody>\n",
       "    <tr>\n",
       "      <th>0</th>\n",
       "      <td>0</td>\n",
       "      <td>0</td>\n",
       "      <td>aryanc403</td>\n",
       "      <td>{'username': 'aryanc403', 'githubUrl': None, '...</td>\n",
       "      <td>120</td>\n",
       "      <td>1</td>\n",
       "      <td>2841.96</td>\n",
       "      <td>India</td>\n",
       "    </tr>\n",
       "    <tr>\n",
       "      <th>1</th>\n",
       "      <td>1</td>\n",
       "      <td>1</td>\n",
       "      <td>dganguli1997</td>\n",
       "      <td>{'username': 'dganguli1997', 'githubUrl': 'htt...</td>\n",
       "      <td>5019</td>\n",
       "      <td>501</td>\n",
       "      <td>2053.90</td>\n",
       "      <td>India</td>\n",
       "    </tr>\n",
       "    <tr>\n",
       "      <th>2</th>\n",
       "      <td>2</td>\n",
       "      <td>2</td>\n",
       "      <td>rajat_2548</td>\n",
       "      <td>{'username': 'rajat_2548', 'githubUrl': None, ...</td>\n",
       "      <td>13295</td>\n",
       "      <td>1501</td>\n",
       "      <td>1856.61</td>\n",
       "      <td>India</td>\n",
       "    </tr>\n",
       "    <tr>\n",
       "      <th>3</th>\n",
       "      <td>3</td>\n",
       "      <td>3</td>\n",
       "      <td>Anish0909</td>\n",
       "      <td>{'username': 'Anish0909', 'githubUrl': None, '...</td>\n",
       "      <td>9200</td>\n",
       "      <td>1001</td>\n",
       "      <td>1930.58</td>\n",
       "      <td>India</td>\n",
       "    </tr>\n",
       "    <tr>\n",
       "      <th>4</th>\n",
       "      <td>4</td>\n",
       "      <td>4</td>\n",
       "      <td>ap1008</td>\n",
       "      <td>{'username': 'ap1008', 'githubUrl': None, 'twi...</td>\n",
       "      <td>222</td>\n",
       "      <td>2</td>\n",
       "      <td>2707.79</td>\n",
       "      <td>India</td>\n",
       "    </tr>\n",
       "  </tbody>\n",
       "</table>\n",
       "</div>"
      ],
      "text/plain": [
       "   Unnamed: 0  Unnamed: 0.1      username  \\\n",
       "0           0             0     aryanc403   \n",
       "1           1             1  dganguli1997   \n",
       "2           2             2    rajat_2548   \n",
       "3           3             3     Anish0909   \n",
       "4           4             4        ap1008   \n",
       "\n",
       "                                                data  global rank  india rank  \\\n",
       "0  {'username': 'aryanc403', 'githubUrl': None, '...          120           1   \n",
       "1  {'username': 'dganguli1997', 'githubUrl': 'htt...         5019         501   \n",
       "2  {'username': 'rajat_2548', 'githubUrl': None, ...        13295        1501   \n",
       "3  {'username': 'Anish0909', 'githubUrl': None, '...         9200        1001   \n",
       "4  {'username': 'ap1008', 'githubUrl': None, 'twi...          222           2   \n",
       "\n",
       "    rating country  \n",
       "0  2841.96   India  \n",
       "1  2053.90   India  \n",
       "2  1856.61   India  \n",
       "3  1930.58   India  \n",
       "4  2707.79   India  "
      ]
     },
     "execution_count": 4,
     "metadata": {},
     "output_type": "execute_result"
    }
   ],
   "source": [
    "df.head()"
   ]
  },
  {
   "cell_type": "code",
   "execution_count": 5,
   "id": "e49f85b7",
   "metadata": {},
   "outputs": [],
   "source": [
    "df = df[['username', 'data', 'global rank', 'india rank', 'rating', 'country']]"
   ]
  },
  {
   "cell_type": "code",
   "execution_count": 6,
   "id": "73e8082c",
   "metadata": {},
   "outputs": [],
   "source": [
    "df.columns = ['username', 'data', 'global', 'india', 'rating', 'country']"
   ]
  },
  {
   "cell_type": "code",
   "execution_count": 7,
   "id": "ae9b59ca",
   "metadata": {},
   "outputs": [
    {
     "data": {
      "text/plain": [
       "India    15212\n",
       "Name: country, dtype: int64"
      ]
     },
     "execution_count": 7,
     "metadata": {},
     "output_type": "execute_result"
    }
   ],
   "source": [
    "df.country.value_counts()"
   ]
  },
  {
   "cell_type": "code",
   "execution_count": 8,
   "id": "2c147d4f",
   "metadata": {},
   "outputs": [],
   "source": [
    "df.drop('country', axis = 1, inplace = True)"
   ]
  },
  {
   "cell_type": "code",
   "execution_count": 9,
   "id": "b92c1450",
   "metadata": {},
   "outputs": [
    {
     "data": {
      "text/html": [
       "<div>\n",
       "<style scoped>\n",
       "    .dataframe tbody tr th:only-of-type {\n",
       "        vertical-align: middle;\n",
       "    }\n",
       "\n",
       "    .dataframe tbody tr th {\n",
       "        vertical-align: top;\n",
       "    }\n",
       "\n",
       "    .dataframe thead th {\n",
       "        text-align: right;\n",
       "    }\n",
       "</style>\n",
       "<table border=\"1\" class=\"dataframe\">\n",
       "  <thead>\n",
       "    <tr style=\"text-align: right;\">\n",
       "      <th></th>\n",
       "      <th>username</th>\n",
       "      <th>data</th>\n",
       "      <th>global</th>\n",
       "      <th>india</th>\n",
       "      <th>rating</th>\n",
       "    </tr>\n",
       "  </thead>\n",
       "  <tbody>\n",
       "    <tr>\n",
       "      <th>0</th>\n",
       "      <td>aryanc403</td>\n",
       "      <td>{'username': 'aryanc403', 'githubUrl': None, '...</td>\n",
       "      <td>120</td>\n",
       "      <td>1</td>\n",
       "      <td>2841.96</td>\n",
       "    </tr>\n",
       "    <tr>\n",
       "      <th>1</th>\n",
       "      <td>dganguli1997</td>\n",
       "      <td>{'username': 'dganguli1997', 'githubUrl': 'htt...</td>\n",
       "      <td>5019</td>\n",
       "      <td>501</td>\n",
       "      <td>2053.90</td>\n",
       "    </tr>\n",
       "    <tr>\n",
       "      <th>2</th>\n",
       "      <td>rajat_2548</td>\n",
       "      <td>{'username': 'rajat_2548', 'githubUrl': None, ...</td>\n",
       "      <td>13295</td>\n",
       "      <td>1501</td>\n",
       "      <td>1856.61</td>\n",
       "    </tr>\n",
       "    <tr>\n",
       "      <th>3</th>\n",
       "      <td>Anish0909</td>\n",
       "      <td>{'username': 'Anish0909', 'githubUrl': None, '...</td>\n",
       "      <td>9200</td>\n",
       "      <td>1001</td>\n",
       "      <td>1930.58</td>\n",
       "    </tr>\n",
       "    <tr>\n",
       "      <th>4</th>\n",
       "      <td>ap1008</td>\n",
       "      <td>{'username': 'ap1008', 'githubUrl': None, 'twi...</td>\n",
       "      <td>222</td>\n",
       "      <td>2</td>\n",
       "      <td>2707.79</td>\n",
       "    </tr>\n",
       "  </tbody>\n",
       "</table>\n",
       "</div>"
      ],
      "text/plain": [
       "       username                                               data  global  \\\n",
       "0     aryanc403  {'username': 'aryanc403', 'githubUrl': None, '...     120   \n",
       "1  dganguli1997  {'username': 'dganguli1997', 'githubUrl': 'htt...    5019   \n",
       "2    rajat_2548  {'username': 'rajat_2548', 'githubUrl': None, ...   13295   \n",
       "3     Anish0909  {'username': 'Anish0909', 'githubUrl': None, '...    9200   \n",
       "4        ap1008  {'username': 'ap1008', 'githubUrl': None, 'twi...     222   \n",
       "\n",
       "   india   rating  \n",
       "0      1  2841.96  \n",
       "1    501  2053.90  \n",
       "2   1501  1856.61  \n",
       "3   1001  1930.58  \n",
       "4      2  2707.79  "
      ]
     },
     "execution_count": 9,
     "metadata": {},
     "output_type": "execute_result"
    }
   ],
   "source": [
    "df.head()"
   ]
  },
  {
   "cell_type": "code",
   "execution_count": 10,
   "id": "f9a18616",
   "metadata": {},
   "outputs": [],
   "source": [
    "df.sort_values('india', inplace = True)"
   ]
  },
  {
   "cell_type": "code",
   "execution_count": 11,
   "id": "32f9b39d",
   "metadata": {},
   "outputs": [
    {
     "data": {
      "text/html": [
       "<div>\n",
       "<style scoped>\n",
       "    .dataframe tbody tr th:only-of-type {\n",
       "        vertical-align: middle;\n",
       "    }\n",
       "\n",
       "    .dataframe tbody tr th {\n",
       "        vertical-align: top;\n",
       "    }\n",
       "\n",
       "    .dataframe thead th {\n",
       "        text-align: right;\n",
       "    }\n",
       "</style>\n",
       "<table border=\"1\" class=\"dataframe\">\n",
       "  <thead>\n",
       "    <tr style=\"text-align: right;\">\n",
       "      <th></th>\n",
       "      <th>username</th>\n",
       "      <th>data</th>\n",
       "      <th>global</th>\n",
       "      <th>india</th>\n",
       "      <th>rating</th>\n",
       "    </tr>\n",
       "  </thead>\n",
       "  <tbody>\n",
       "    <tr>\n",
       "      <th>0</th>\n",
       "      <td>aryanc403</td>\n",
       "      <td>{'username': 'aryanc403', 'githubUrl': None, '...</td>\n",
       "      <td>120</td>\n",
       "      <td>1</td>\n",
       "      <td>2841.96</td>\n",
       "    </tr>\n",
       "    <tr>\n",
       "      <th>4</th>\n",
       "      <td>ap1008</td>\n",
       "      <td>{'username': 'ap1008', 'githubUrl': None, 'twi...</td>\n",
       "      <td>222</td>\n",
       "      <td>2</td>\n",
       "      <td>2707.79</td>\n",
       "    </tr>\n",
       "    <tr>\n",
       "      <th>5</th>\n",
       "      <td>LosingNowLosingLate</td>\n",
       "      <td>{'username': 'LosingNowLosingLate', 'githubUrl...</td>\n",
       "      <td>230</td>\n",
       "      <td>3</td>\n",
       "      <td>2701.02</td>\n",
       "    </tr>\n",
       "    <tr>\n",
       "      <th>9</th>\n",
       "      <td>taran_1407</td>\n",
       "      <td>{'username': 'taran_1407', 'githubUrl': None, ...</td>\n",
       "      <td>264</td>\n",
       "      <td>4</td>\n",
       "      <td>2676.75</td>\n",
       "    </tr>\n",
       "    <tr>\n",
       "      <th>13</th>\n",
       "      <td>anil9717</td>\n",
       "      <td>{'username': 'anil9717', 'githubUrl': None, 't...</td>\n",
       "      <td>275</td>\n",
       "      <td>5</td>\n",
       "      <td>2667.42</td>\n",
       "    </tr>\n",
       "  </tbody>\n",
       "</table>\n",
       "</div>"
      ],
      "text/plain": [
       "               username                                               data  \\\n",
       "0             aryanc403  {'username': 'aryanc403', 'githubUrl': None, '...   \n",
       "4                ap1008  {'username': 'ap1008', 'githubUrl': None, 'twi...   \n",
       "5   LosingNowLosingLate  {'username': 'LosingNowLosingLate', 'githubUrl...   \n",
       "9            taran_1407  {'username': 'taran_1407', 'githubUrl': None, ...   \n",
       "13             anil9717  {'username': 'anil9717', 'githubUrl': None, 't...   \n",
       "\n",
       "    global  india   rating  \n",
       "0      120      1  2841.96  \n",
       "4      222      2  2707.79  \n",
       "5      230      3  2701.02  \n",
       "9      264      4  2676.75  \n",
       "13     275      5  2667.42  "
      ]
     },
     "execution_count": 11,
     "metadata": {},
     "output_type": "execute_result"
    }
   ],
   "source": [
    "df.head()"
   ]
  },
  {
   "cell_type": "markdown",
   "id": "ab06f6bf",
   "metadata": {},
   "source": [
    "# Processing"
   ]
  },
  {
   "cell_type": "markdown",
   "id": "2832bfb6",
   "metadata": {},
   "source": [
    "Check the type and format of the loaded data"
   ]
  },
  {
   "cell_type": "code",
   "execution_count": 12,
   "id": "626b0df8",
   "metadata": {},
   "outputs": [
    {
     "data": {
      "text/plain": [
       "\"{'username': 'AVIRAL_T', 'githubUrl': None, 'twitterUrl': None, 'linkedinUrl': 'https://linkedin.com/in/aviral-tiwari-b69207196', 'profile': {'reputation': 8, 'aboutMe': '', 'websites': ['https://codeforces.com/profile/Continuous'], 'ranking': 78467, 'userAvatar': 'https://s3-us-west-1.amazonaws.com/s3-lc-upload/assets/default_avatar.jpg', 'realName': 'Aviral Tiwari', 'countryName': 'India'}, 'languageStats': [{'languageName': 'C++', 'problemsSolved': 449}], 'skillStats': {'advanced': [{'tagName': 'Data Stream', 'tagSlug': 'data-stream', 'problemsSolved': 2}, {'tagName': 'Game Theory', 'tagSlug': 'game-theory', 'problemsSolved': 2}, {'tagName': 'Rolling Hash', 'tagSlug': 'rolling-hash', 'problemsSolved': 1}, {'tagName': 'Backtracking', 'tagSlug': 'backtracking', 'problemsSolved': 13}, {'tagName': 'Bitmask', 'tagSlug': 'bitmask', 'problemsSolved': 3}, {'tagName': 'Quickselect', 'tagSlug': 'quickselect', 'problemsSolved': 3}, {'tagName': 'Dynamic Programming', 'tagSlug': 'dynamic-programming', 'problemsSolved': 81}, {'tagName': 'Divide and Conquer', 'tagSlug': 'divide-and-conquer', 'problemsSolved': 7}, {'tagName': 'Trie', 'tagSlug': 'trie', 'problemsSolved': 3}, {'tagName': 'Union Find', 'tagSlug': 'union-find', 'problemsSolved': 14}, {'tagName': 'Binary Indexed Tree', 'tagSlug': 'binary-indexed-tree', 'problemsSolved': 5}, {'tagName': 'Segment Tree', 'tagSlug': 'segment-tree', 'problemsSolved': 4}, {'tagName': 'Monotonic Stack', 'tagSlug': 'monotonic-stack', 'problemsSolved': 10}, {'tagName': 'Monotonic Queue', 'tagSlug': 'monotonic-queue', 'problemsSolved': 1}, {'tagName': 'Topological Sort', 'tagSlug': 'topological-sort', 'problemsSolved': 6}, {'tagName': 'Shortest Path', 'tagSlug': 'shortest-path', 'problemsSolved': 3}], 'intermediate': [{'tagName': 'Tree', 'tagSlug': 'tree', 'problemsSolved': 32}, {'tagName': 'Binary Tree', 'tagSlug': 'binary-tree', 'problemsSolved': 29}, {'tagName': 'Hash Table', 'tagSlug': 'hash-table', 'problemsSolved': 84}, {'tagName': 'Ordered Set', 'tagSlug': 'ordered-set', 'problemsSolved': 6}, {'tagName': 'Graph', 'tagSlug': 'graph', 'problemsSolved': 21}, {'tagName': 'Greedy', 'tagSlug': 'greedy', 'problemsSolved': 67}, {'tagName': 'Binary Search', 'tagSlug': 'binary-search', 'problemsSolved': 37}, {'tagName': 'Depth-First Search', 'tagSlug': 'depth-first-search', 'problemsSolved': 43}, {'tagName': 'Breadth-First Search', 'tagSlug': 'breadth-first-search', 'problemsSolved': 32}, {'tagName': 'Recursion', 'tagSlug': 'recursion', 'problemsSolved': 4}, {'tagName': 'Sliding Window', 'tagSlug': 'sliding-window', 'problemsSolved': 21}, {'tagName': 'Bit Manipulation', 'tagSlug': 'bit-manipulation', 'problemsSolved': 25}, {'tagName': 'Math', 'tagSlug': 'math', 'problemsSolved': 52}, {'tagName': 'Design', 'tagSlug': 'design', 'problemsSolved': 15}, {'tagName': 'Iterator', 'tagSlug': 'iterator', 'problemsSolved': 2}], 'fundamental': [{'tagName': 'Array', 'tagSlug': 'array', 'problemsSolved': 257}, {'tagName': 'Matrix', 'tagSlug': 'matrix', 'problemsSolved': 26}, {'tagName': 'String', 'tagSlug': 'string', 'problemsSolved': 123}, {'tagName': 'Simulation', 'tagSlug': 'simulation', 'problemsSolved': 27}, {'tagName': 'Enumeration', 'tagSlug': 'enumeration', 'problemsSolved': 9}, {'tagName': 'Sorting', 'tagSlug': 'sorting', 'problemsSolved': 58}, {'tagName': 'Stack', 'tagSlug': 'stack', 'problemsSolved': 28}, {'tagName': 'Queue', 'tagSlug': 'queue', 'problemsSolved': 2}, {'tagName': 'Linked List', 'tagSlug': 'linked-list', 'problemsSolved': 8}, {'tagName': 'Two Pointers', 'tagSlug': 'two-pointers', 'problemsSolved': 33}]}, 'submitStats': {'acSubmissionNum': [{'difficulty': 'All', 'count': 442, 'submissions': 501}, {'difficulty': 'Easy', 'count': 119, 'submissions': 124}, {'difficulty': 'Medium', 'count': 272, 'submissions': 316}, {'difficulty': 'Hard', 'count': 51, 'submissions': 61}]}}\""
      ]
     },
     "execution_count": 12,
     "metadata": {},
     "output_type": "execute_result"
    }
   ],
   "source": [
    "df.data[10]"
   ]
  },
  {
   "cell_type": "code",
   "execution_count": 13,
   "id": "7a345a15",
   "metadata": {},
   "outputs": [],
   "source": [
    "def get_problem_set(data):\n",
    "    '''\n",
    "    Function to generate problem_set dictionary of type and number of questions solved\n",
    "    '''\n",
    "    try:\n",
    "        data = data.replace('\\'', '\\\"')\n",
    "        data = data.replace('None', 'null')\n",
    "        data = json.loads(data)\n",
    "\n",
    "        problem_set = dict()\n",
    "\n",
    "        for label in ['advanced', 'intermediate', 'fundamental']:\n",
    "            if label in data['skillStats'].keys():\n",
    "                for problem in data['skillStats'][label]:\n",
    "                    problem_set[problem['tagSlug']] = problem['problemsSolved']\n",
    "\n",
    "        return problem_set if len(problem_set.keys()) > 0 else np.NaN\n",
    "    except:\n",
    "        return np.NaN"
   ]
  },
  {
   "cell_type": "code",
   "execution_count": 14,
   "id": "daf876c0",
   "metadata": {},
   "outputs": [],
   "source": [
    "df['problems'] = df.data.apply(get_problem_set)"
   ]
  },
  {
   "cell_type": "code",
   "execution_count": 15,
   "id": "bc190820",
   "metadata": {},
   "outputs": [
    {
     "data": {
      "text/plain": [
       "355"
      ]
     },
     "execution_count": 15,
     "metadata": {},
     "output_type": "execute_result"
    }
   ],
   "source": [
    "df.problems.isnull().sum()"
   ]
  },
  {
   "cell_type": "code",
   "execution_count": 16,
   "id": "660d52f3",
   "metadata": {},
   "outputs": [],
   "source": [
    "df.dropna(subset = ['problems'], inplace = True)"
   ]
  },
  {
   "cell_type": "code",
   "execution_count": 17,
   "id": "32527b99",
   "metadata": {},
   "outputs": [
    {
     "data": {
      "text/plain": [
       "(14857, 6)"
      ]
     },
     "execution_count": 17,
     "metadata": {},
     "output_type": "execute_result"
    }
   ],
   "source": [
    "df.shape"
   ]
  },
  {
   "cell_type": "code",
   "execution_count": 18,
   "id": "221fde59",
   "metadata": {},
   "outputs": [],
   "source": [
    "df.reset_index(inplace = True)"
   ]
  },
  {
   "cell_type": "code",
   "execution_count": 19,
   "id": "9849e464",
   "metadata": {},
   "outputs": [],
   "source": [
    "df.drop(['index'], axis = 1, inplace = True)"
   ]
  },
  {
   "cell_type": "code",
   "execution_count": 20,
   "id": "77a463bb",
   "metadata": {},
   "outputs": [
    {
     "data": {
      "text/plain": [
       "{'data-stream': 2,\n",
       " 'game-theory': 4,\n",
       " 'rolling-hash': 2,\n",
       " 'backtracking': 21,\n",
       " 'bitmask': 12,\n",
       " 'quickselect': 3,\n",
       " 'dynamic-programming': 91,\n",
       " 'divide-and-conquer': 12,\n",
       " 'trie': 3,\n",
       " 'union-find': 14,\n",
       " 'binary-indexed-tree': 5,\n",
       " 'segment-tree': 3,\n",
       " 'monotonic-stack': 17,\n",
       " 'monotonic-queue': 1,\n",
       " 'topological-sort': 5,\n",
       " 'shortest-path': 2,\n",
       " 'tree': 43,\n",
       " 'binary-tree': 36,\n",
       " 'hash-table': 87,\n",
       " 'ordered-set': 8,\n",
       " 'graph': 14,\n",
       " 'greedy': 89,\n",
       " 'binary-search': 63,\n",
       " 'depth-first-search': 48,\n",
       " 'breadth-first-search': 41,\n",
       " 'recursion': 12,\n",
       " 'sliding-window': 11,\n",
       " 'bit-manipulation': 33,\n",
       " 'math': 95,\n",
       " 'randomized': 2,\n",
       " 'design': 13,\n",
       " 'iterator': 1,\n",
       " 'brainteaser': 2,\n",
       " 'array': 339,\n",
       " 'matrix': 53,\n",
       " 'string': 98,\n",
       " 'simulation': 27,\n",
       " 'enumeration': 6,\n",
       " 'sorting': 79,\n",
       " 'stack': 43,\n",
       " 'queue': 3,\n",
       " 'linked-list': 28,\n",
       " 'two-pointers': 55}"
      ]
     },
     "execution_count": 20,
     "metadata": {},
     "output_type": "execute_result"
    }
   ],
   "source": [
    "df.problems[0]"
   ]
  },
  {
   "cell_type": "code",
   "execution_count": 21,
   "id": "2936ca62",
   "metadata": {},
   "outputs": [
    {
     "name": "stdout",
     "output_type": "stream",
     "text": [
      "46\n"
     ]
    }
   ],
   "source": [
    "problem_set = set()\n",
    "for item in df.problems.iteritems():\n",
    "    problem_set.update(item[1].keys())\n",
    "print(len(problem_set))"
   ]
  },
  {
   "cell_type": "code",
   "execution_count": 22,
   "id": "df2ca928",
   "metadata": {},
   "outputs": [
    {
     "data": {
      "text/plain": [
       "{'array',\n",
       " 'backtracking',\n",
       " 'binary-indexed-tree',\n",
       " 'binary-search',\n",
       " 'binary-tree',\n",
       " 'bit-manipulation',\n",
       " 'bitmask',\n",
       " 'brainteaser',\n",
       " 'breadth-first-search',\n",
       " 'data-stream',\n",
       " 'database',\n",
       " 'depth-first-search',\n",
       " 'design',\n",
       " 'divide-and-conquer',\n",
       " 'dynamic-programming',\n",
       " 'enumeration',\n",
       " 'game-theory',\n",
       " 'graph',\n",
       " 'greedy',\n",
       " 'hash-table',\n",
       " 'iterator',\n",
       " 'line-sweep',\n",
       " 'linked-list',\n",
       " 'math',\n",
       " 'matrix',\n",
       " 'monotonic-queue',\n",
       " 'monotonic-stack',\n",
       " 'ordered-set',\n",
       " 'queue',\n",
       " 'quickselect',\n",
       " 'randomized',\n",
       " 'recursion',\n",
       " 'rolling-hash',\n",
       " 'segment-tree',\n",
       " 'shortest-path',\n",
       " 'simulation',\n",
       " 'sliding-window',\n",
       " 'sorting',\n",
       " 'stack',\n",
       " 'string',\n",
       " 'suffix-array',\n",
       " 'topological-sort',\n",
       " 'tree',\n",
       " 'trie',\n",
       " 'two-pointers',\n",
       " 'union-find'}"
      ]
     },
     "execution_count": 22,
     "metadata": {},
     "output_type": "execute_result"
    }
   ],
   "source": [
    "problem_set"
   ]
  },
  {
   "cell_type": "code",
   "execution_count": 23,
   "id": "172f55ed",
   "metadata": {},
   "outputs": [],
   "source": [
    "def get_problem_status(row, problem_set):\n",
    "    values = list()\n",
    "    for problem in problem_set:\n",
    "        if problem in row[5].keys():\n",
    "            values.append(row[5][problem])\n",
    "        else:\n",
    "            values.append(0)\n",
    "    return values\n",
    "\n",
    "df[list(problem_set)] = df.apply(lambda row: get_problem_status(row, problem_set), axis = 1, result_type = 'expand')"
   ]
  },
  {
   "cell_type": "code",
   "execution_count": 24,
   "id": "84096156",
   "metadata": {},
   "outputs": [
    {
     "data": {
      "text/html": [
       "<div>\n",
       "<style scoped>\n",
       "    .dataframe tbody tr th:only-of-type {\n",
       "        vertical-align: middle;\n",
       "    }\n",
       "\n",
       "    .dataframe tbody tr th {\n",
       "        vertical-align: top;\n",
       "    }\n",
       "\n",
       "    .dataframe thead th {\n",
       "        text-align: right;\n",
       "    }\n",
       "</style>\n",
       "<table border=\"1\" class=\"dataframe\">\n",
       "  <thead>\n",
       "    <tr style=\"text-align: right;\">\n",
       "      <th></th>\n",
       "      <th>username</th>\n",
       "      <th>data</th>\n",
       "      <th>global</th>\n",
       "      <th>india</th>\n",
       "      <th>rating</th>\n",
       "      <th>problems</th>\n",
       "      <th>breadth-first-search</th>\n",
       "      <th>stack</th>\n",
       "      <th>hash-table</th>\n",
       "      <th>linked-list</th>\n",
       "      <th>...</th>\n",
       "      <th>tree</th>\n",
       "      <th>sorting</th>\n",
       "      <th>dynamic-programming</th>\n",
       "      <th>trie</th>\n",
       "      <th>queue</th>\n",
       "      <th>line-sweep</th>\n",
       "      <th>bit-manipulation</th>\n",
       "      <th>shortest-path</th>\n",
       "      <th>union-find</th>\n",
       "      <th>brainteaser</th>\n",
       "    </tr>\n",
       "  </thead>\n",
       "  <tbody>\n",
       "    <tr>\n",
       "      <th>0</th>\n",
       "      <td>ap1008</td>\n",
       "      <td>{'username': 'ap1008', 'githubUrl': None, 'twi...</td>\n",
       "      <td>222</td>\n",
       "      <td>2</td>\n",
       "      <td>2707.79</td>\n",
       "      <td>{'data-stream': 2, 'game-theory': 4, 'rolling-...</td>\n",
       "      <td>41</td>\n",
       "      <td>43</td>\n",
       "      <td>87</td>\n",
       "      <td>28</td>\n",
       "      <td>...</td>\n",
       "      <td>43</td>\n",
       "      <td>79</td>\n",
       "      <td>91</td>\n",
       "      <td>3</td>\n",
       "      <td>3</td>\n",
       "      <td>0</td>\n",
       "      <td>33</td>\n",
       "      <td>2</td>\n",
       "      <td>14</td>\n",
       "      <td>2</td>\n",
       "    </tr>\n",
       "    <tr>\n",
       "      <th>1</th>\n",
       "      <td>LosingNowLosingLate</td>\n",
       "      <td>{'username': 'LosingNowLosingLate', 'githubUrl...</td>\n",
       "      <td>230</td>\n",
       "      <td>3</td>\n",
       "      <td>2701.02</td>\n",
       "      <td>{'data-stream': 2, 'game-theory': 6, 'rolling-...</td>\n",
       "      <td>50</td>\n",
       "      <td>37</td>\n",
       "      <td>116</td>\n",
       "      <td>32</td>\n",
       "      <td>...</td>\n",
       "      <td>55</td>\n",
       "      <td>69</td>\n",
       "      <td>111</td>\n",
       "      <td>13</td>\n",
       "      <td>6</td>\n",
       "      <td>0</td>\n",
       "      <td>47</td>\n",
       "      <td>3</td>\n",
       "      <td>11</td>\n",
       "      <td>2</td>\n",
       "    </tr>\n",
       "    <tr>\n",
       "      <th>2</th>\n",
       "      <td>taran_1407</td>\n",
       "      <td>{'username': 'taran_1407', 'githubUrl': None, ...</td>\n",
       "      <td>264</td>\n",
       "      <td>4</td>\n",
       "      <td>2676.75</td>\n",
       "      <td>{'data-stream': 8, 'game-theory': 8, 'rolling-...</td>\n",
       "      <td>74</td>\n",
       "      <td>56</td>\n",
       "      <td>171</td>\n",
       "      <td>38</td>\n",
       "      <td>...</td>\n",
       "      <td>81</td>\n",
       "      <td>112</td>\n",
       "      <td>151</td>\n",
       "      <td>17</td>\n",
       "      <td>14</td>\n",
       "      <td>2</td>\n",
       "      <td>47</td>\n",
       "      <td>3</td>\n",
       "      <td>30</td>\n",
       "      <td>2</td>\n",
       "    </tr>\n",
       "    <tr>\n",
       "      <th>3</th>\n",
       "      <td>anil9717</td>\n",
       "      <td>{'username': 'anil9717', 'githubUrl': None, 't...</td>\n",
       "      <td>275</td>\n",
       "      <td>5</td>\n",
       "      <td>2667.42</td>\n",
       "      <td>{'data-stream': 3, 'game-theory': 2, 'rolling-...</td>\n",
       "      <td>23</td>\n",
       "      <td>15</td>\n",
       "      <td>95</td>\n",
       "      <td>8</td>\n",
       "      <td>...</td>\n",
       "      <td>21</td>\n",
       "      <td>52</td>\n",
       "      <td>59</td>\n",
       "      <td>4</td>\n",
       "      <td>8</td>\n",
       "      <td>0</td>\n",
       "      <td>29</td>\n",
       "      <td>2</td>\n",
       "      <td>9</td>\n",
       "      <td>2</td>\n",
       "    </tr>\n",
       "    <tr>\n",
       "      <th>4</th>\n",
       "      <td>razimantv</td>\n",
       "      <td>{'username': 'razimantv', 'githubUrl': 'https:...</td>\n",
       "      <td>320</td>\n",
       "      <td>6</td>\n",
       "      <td>2639.48</td>\n",
       "      <td>{'data-stream': 8, 'game-theory': 5, 'rolling-...</td>\n",
       "      <td>99</td>\n",
       "      <td>62</td>\n",
       "      <td>220</td>\n",
       "      <td>43</td>\n",
       "      <td>...</td>\n",
       "      <td>96</td>\n",
       "      <td>137</td>\n",
       "      <td>191</td>\n",
       "      <td>18</td>\n",
       "      <td>21</td>\n",
       "      <td>3</td>\n",
       "      <td>70</td>\n",
       "      <td>6</td>\n",
       "      <td>31</td>\n",
       "      <td>3</td>\n",
       "    </tr>\n",
       "  </tbody>\n",
       "</table>\n",
       "<p>5 rows × 52 columns</p>\n",
       "</div>"
      ],
      "text/plain": [
       "              username                                               data  \\\n",
       "0               ap1008  {'username': 'ap1008', 'githubUrl': None, 'twi...   \n",
       "1  LosingNowLosingLate  {'username': 'LosingNowLosingLate', 'githubUrl...   \n",
       "2           taran_1407  {'username': 'taran_1407', 'githubUrl': None, ...   \n",
       "3             anil9717  {'username': 'anil9717', 'githubUrl': None, 't...   \n",
       "4            razimantv  {'username': 'razimantv', 'githubUrl': 'https:...   \n",
       "\n",
       "   global  india   rating                                           problems  \\\n",
       "0     222      2  2707.79  {'data-stream': 2, 'game-theory': 4, 'rolling-...   \n",
       "1     230      3  2701.02  {'data-stream': 2, 'game-theory': 6, 'rolling-...   \n",
       "2     264      4  2676.75  {'data-stream': 8, 'game-theory': 8, 'rolling-...   \n",
       "3     275      5  2667.42  {'data-stream': 3, 'game-theory': 2, 'rolling-...   \n",
       "4     320      6  2639.48  {'data-stream': 8, 'game-theory': 5, 'rolling-...   \n",
       "\n",
       "   breadth-first-search  stack  hash-table  linked-list  ...  tree  sorting  \\\n",
       "0                    41     43          87           28  ...    43       79   \n",
       "1                    50     37         116           32  ...    55       69   \n",
       "2                    74     56         171           38  ...    81      112   \n",
       "3                    23     15          95            8  ...    21       52   \n",
       "4                    99     62         220           43  ...    96      137   \n",
       "\n",
       "   dynamic-programming  trie  queue  line-sweep  bit-manipulation  \\\n",
       "0                   91     3      3           0                33   \n",
       "1                  111    13      6           0                47   \n",
       "2                  151    17     14           2                47   \n",
       "3                   59     4      8           0                29   \n",
       "4                  191    18     21           3                70   \n",
       "\n",
       "   shortest-path  union-find  brainteaser  \n",
       "0              2          14            2  \n",
       "1              3          11            2  \n",
       "2              3          30            2  \n",
       "3              2           9            2  \n",
       "4              6          31            3  \n",
       "\n",
       "[5 rows x 52 columns]"
      ]
     },
     "execution_count": 24,
     "metadata": {},
     "output_type": "execute_result"
    }
   ],
   "source": [
    "df.head()"
   ]
  },
  {
   "cell_type": "code",
   "execution_count": 25,
   "id": "d6d84121",
   "metadata": {},
   "outputs": [
    {
     "data": {
      "text/plain": [
       "(14857, 52)"
      ]
     },
     "execution_count": 25,
     "metadata": {},
     "output_type": "execute_result"
    }
   ],
   "source": [
    "df.shape"
   ]
  },
  {
   "cell_type": "markdown",
   "id": "c12e7c29",
   "metadata": {},
   "source": [
    "# Scaling"
   ]
  },
  {
   "cell_type": "code",
   "execution_count": 47,
   "id": "c581d8c6",
   "metadata": {},
   "outputs": [],
   "source": [
    "x = pd.concat([df.iloc[:, 4], df.iloc[:, 6:]], axis = 1)"
   ]
  },
  {
   "cell_type": "code",
   "execution_count": 48,
   "id": "0bade8cb",
   "metadata": {},
   "outputs": [],
   "source": [
    "scaler = MinMaxScaler()"
   ]
  },
  {
   "cell_type": "code",
   "execution_count": 49,
   "id": "31b48fc1",
   "metadata": {},
   "outputs": [
    {
     "data": {
      "text/plain": [
       "MinMaxScaler()"
      ]
     },
     "execution_count": 49,
     "metadata": {},
     "output_type": "execute_result"
    }
   ],
   "source": [
    "scaler.fit(x)"
   ]
  },
  {
   "cell_type": "code",
   "execution_count": 50,
   "id": "fbf45527",
   "metadata": {},
   "outputs": [],
   "source": [
    "x = pd.DataFrame(scaler.transform(x), columns = x.columns)"
   ]
  },
  {
   "cell_type": "code",
   "execution_count": 51,
   "id": "98bd3cb5",
   "metadata": {},
   "outputs": [
    {
     "data": {
      "text/html": [
       "<div>\n",
       "<style scoped>\n",
       "    .dataframe tbody tr th:only-of-type {\n",
       "        vertical-align: middle;\n",
       "    }\n",
       "\n",
       "    .dataframe tbody tr th {\n",
       "        vertical-align: top;\n",
       "    }\n",
       "\n",
       "    .dataframe thead th {\n",
       "        text-align: right;\n",
       "    }\n",
       "</style>\n",
       "<table border=\"1\" class=\"dataframe\">\n",
       "  <thead>\n",
       "    <tr style=\"text-align: right;\">\n",
       "      <th></th>\n",
       "      <th>rating</th>\n",
       "      <th>breadth-first-search</th>\n",
       "      <th>stack</th>\n",
       "      <th>hash-table</th>\n",
       "      <th>linked-list</th>\n",
       "      <th>quickselect</th>\n",
       "      <th>ordered-set</th>\n",
       "      <th>string</th>\n",
       "      <th>depth-first-search</th>\n",
       "      <th>divide-and-conquer</th>\n",
       "      <th>...</th>\n",
       "      <th>tree</th>\n",
       "      <th>sorting</th>\n",
       "      <th>dynamic-programming</th>\n",
       "      <th>trie</th>\n",
       "      <th>queue</th>\n",
       "      <th>line-sweep</th>\n",
       "      <th>bit-manipulation</th>\n",
       "      <th>shortest-path</th>\n",
       "      <th>union-find</th>\n",
       "      <th>brainteaser</th>\n",
       "    </tr>\n",
       "  </thead>\n",
       "  <tbody>\n",
       "    <tr>\n",
       "      <th>0</th>\n",
       "      <td>1.000000</td>\n",
       "      <td>0.197115</td>\n",
       "      <td>0.318519</td>\n",
       "      <td>0.194196</td>\n",
       "      <td>0.400000</td>\n",
       "      <td>0.428571</td>\n",
       "      <td>0.16</td>\n",
       "      <td>0.164983</td>\n",
       "      <td>0.182510</td>\n",
       "      <td>0.285714</td>\n",
       "      <td>...</td>\n",
       "      <td>0.209756</td>\n",
       "      <td>0.273356</td>\n",
       "      <td>0.223587</td>\n",
       "      <td>0.069767</td>\n",
       "      <td>0.078947</td>\n",
       "      <td>0.00</td>\n",
       "      <td>0.217105</td>\n",
       "      <td>0.1250</td>\n",
       "      <td>0.197183</td>\n",
       "      <td>0.181818</td>\n",
       "    </tr>\n",
       "    <tr>\n",
       "      <th>1</th>\n",
       "      <td>0.994501</td>\n",
       "      <td>0.240385</td>\n",
       "      <td>0.274074</td>\n",
       "      <td>0.258929</td>\n",
       "      <td>0.457143</td>\n",
       "      <td>0.571429</td>\n",
       "      <td>0.20</td>\n",
       "      <td>0.220539</td>\n",
       "      <td>0.243346</td>\n",
       "      <td>0.500000</td>\n",
       "      <td>...</td>\n",
       "      <td>0.268293</td>\n",
       "      <td>0.238754</td>\n",
       "      <td>0.272727</td>\n",
       "      <td>0.302326</td>\n",
       "      <td>0.157895</td>\n",
       "      <td>0.00</td>\n",
       "      <td>0.309211</td>\n",
       "      <td>0.1875</td>\n",
       "      <td>0.154930</td>\n",
       "      <td>0.181818</td>\n",
       "    </tr>\n",
       "    <tr>\n",
       "      <th>2</th>\n",
       "      <td>0.974790</td>\n",
       "      <td>0.355769</td>\n",
       "      <td>0.414815</td>\n",
       "      <td>0.381696</td>\n",
       "      <td>0.542857</td>\n",
       "      <td>0.285714</td>\n",
       "      <td>0.42</td>\n",
       "      <td>0.388889</td>\n",
       "      <td>0.391635</td>\n",
       "      <td>0.476190</td>\n",
       "      <td>...</td>\n",
       "      <td>0.395122</td>\n",
       "      <td>0.387543</td>\n",
       "      <td>0.371007</td>\n",
       "      <td>0.395349</td>\n",
       "      <td>0.368421</td>\n",
       "      <td>0.50</td>\n",
       "      <td>0.309211</td>\n",
       "      <td>0.1875</td>\n",
       "      <td>0.422535</td>\n",
       "      <td>0.181818</td>\n",
       "    </tr>\n",
       "    <tr>\n",
       "      <th>3</th>\n",
       "      <td>0.967212</td>\n",
       "      <td>0.110577</td>\n",
       "      <td>0.111111</td>\n",
       "      <td>0.212054</td>\n",
       "      <td>0.114286</td>\n",
       "      <td>0.000000</td>\n",
       "      <td>0.20</td>\n",
       "      <td>0.178451</td>\n",
       "      <td>0.098859</td>\n",
       "      <td>0.119048</td>\n",
       "      <td>...</td>\n",
       "      <td>0.102439</td>\n",
       "      <td>0.179931</td>\n",
       "      <td>0.144963</td>\n",
       "      <td>0.093023</td>\n",
       "      <td>0.210526</td>\n",
       "      <td>0.00</td>\n",
       "      <td>0.190789</td>\n",
       "      <td>0.1250</td>\n",
       "      <td>0.126761</td>\n",
       "      <td>0.181818</td>\n",
       "    </tr>\n",
       "    <tr>\n",
       "      <th>4</th>\n",
       "      <td>0.944519</td>\n",
       "      <td>0.475962</td>\n",
       "      <td>0.459259</td>\n",
       "      <td>0.491071</td>\n",
       "      <td>0.614286</td>\n",
       "      <td>0.571429</td>\n",
       "      <td>0.52</td>\n",
       "      <td>0.429293</td>\n",
       "      <td>0.460076</td>\n",
       "      <td>0.595238</td>\n",
       "      <td>...</td>\n",
       "      <td>0.468293</td>\n",
       "      <td>0.474048</td>\n",
       "      <td>0.469287</td>\n",
       "      <td>0.418605</td>\n",
       "      <td>0.552632</td>\n",
       "      <td>0.75</td>\n",
       "      <td>0.460526</td>\n",
       "      <td>0.3750</td>\n",
       "      <td>0.436620</td>\n",
       "      <td>0.272727</td>\n",
       "    </tr>\n",
       "  </tbody>\n",
       "</table>\n",
       "<p>5 rows × 47 columns</p>\n",
       "</div>"
      ],
      "text/plain": [
       "     rating  breadth-first-search     stack  hash-table  linked-list  \\\n",
       "0  1.000000              0.197115  0.318519    0.194196     0.400000   \n",
       "1  0.994501              0.240385  0.274074    0.258929     0.457143   \n",
       "2  0.974790              0.355769  0.414815    0.381696     0.542857   \n",
       "3  0.967212              0.110577  0.111111    0.212054     0.114286   \n",
       "4  0.944519              0.475962  0.459259    0.491071     0.614286   \n",
       "\n",
       "   quickselect  ordered-set    string  depth-first-search  divide-and-conquer  \\\n",
       "0     0.428571         0.16  0.164983            0.182510            0.285714   \n",
       "1     0.571429         0.20  0.220539            0.243346            0.500000   \n",
       "2     0.285714         0.42  0.388889            0.391635            0.476190   \n",
       "3     0.000000         0.20  0.178451            0.098859            0.119048   \n",
       "4     0.571429         0.52  0.429293            0.460076            0.595238   \n",
       "\n",
       "   ...      tree   sorting  dynamic-programming      trie     queue  \\\n",
       "0  ...  0.209756  0.273356             0.223587  0.069767  0.078947   \n",
       "1  ...  0.268293  0.238754             0.272727  0.302326  0.157895   \n",
       "2  ...  0.395122  0.387543             0.371007  0.395349  0.368421   \n",
       "3  ...  0.102439  0.179931             0.144963  0.093023  0.210526   \n",
       "4  ...  0.468293  0.474048             0.469287  0.418605  0.552632   \n",
       "\n",
       "   line-sweep  bit-manipulation  shortest-path  union-find  brainteaser  \n",
       "0        0.00          0.217105         0.1250    0.197183     0.181818  \n",
       "1        0.00          0.309211         0.1875    0.154930     0.181818  \n",
       "2        0.50          0.309211         0.1875    0.422535     0.181818  \n",
       "3        0.00          0.190789         0.1250    0.126761     0.181818  \n",
       "4        0.75          0.460526         0.3750    0.436620     0.272727  \n",
       "\n",
       "[5 rows x 47 columns]"
      ]
     },
     "execution_count": 51,
     "metadata": {},
     "output_type": "execute_result"
    }
   ],
   "source": [
    "x.head()"
   ]
  },
  {
   "cell_type": "code",
   "execution_count": 66,
   "id": "475b2103",
   "metadata": {},
   "outputs": [],
   "source": [
    "y = x['rating']"
   ]
  },
  {
   "cell_type": "markdown",
   "id": "74a98f18",
   "metadata": {},
   "source": [
    "# Training"
   ]
  },
  {
   "cell_type": "markdown",
   "id": "3dc39c58",
   "metadata": {},
   "source": [
    "Less inertia is needed, so try elbow method"
   ]
  },
  {
   "cell_type": "code",
   "execution_count": 71,
   "id": "bcb814e6",
   "metadata": {},
   "outputs": [],
   "source": [
    "intertia = list()\n",
    "for i in range(1, 20):\n",
    "    model = KMeans(n_clusters = i, init = 'k-means++', max_iter = 400, n_init = 10, random_state = 0)\n",
    "    model.fit(x)\n",
    "    intertia.append(model.inertia_)"
   ]
  },
  {
   "cell_type": "code",
   "execution_count": 73,
   "id": "6f2f17a7",
   "metadata": {},
   "outputs": [
    {
     "data": {
      "image/png": "[encoded data removed]",
      "text/plain": [
       "<Figure size 432x288 with 1 Axes>"
      ]
     },
     "metadata": {
      "needs_background": "light"
     },
     "output_type": "display_data"
    }
   ],
   "source": [
    "plt.plot([i for i in range(len(intertia))], intertia)\n",
    "plt.title('Elbow method for kmeans')\n",
    "plt.xlabel('Number of clusters')\n",
    "plt.ylabel('Inertia')\n",
    "plt.show()"
   ]
  },
  {
   "cell_type": "code",
   "execution_count": null,
   "id": "0391adea",
   "metadata": {},
   "outputs": [],
   "source": []
  }
 ],
 "metadata": {
  "kernelspec": {
   "display_name": "Python 3 (ipykernel)",
   "language": "python",
   "name": "python3"
  },
  "language_info": {
   "codemirror_mode": {
    "name": "ipython",
    "version": 3
   },
   "file_extension": ".py",
   "mimetype": "text/x-python",
   "name": "python",
   "nbconvert_exporter": "python",
   "pygments_lexer": "ipython3",
   "version": "3.10.2"
  }
 },
 "nbformat": 4,
 "nbformat_minor": 5
}
