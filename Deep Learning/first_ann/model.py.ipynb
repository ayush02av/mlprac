{
 "cells": [
  {
   "cell_type": "code",
   "execution_count": 1,
   "id": "e70541f7",
   "metadata": {},
   "outputs": [],
   "source": [
    "import pandas as pd"
   ]
  },
  {
   "cell_type": "code",
   "execution_count": 2,
   "id": "1c9f0cb0",
   "metadata": {},
   "outputs": [],
   "source": [
    "df = pd.read_csv('data.csv')"
   ]
  },
  {
   "cell_type": "code",
   "execution_count": 3,
   "id": "4811cc02",
   "metadata": {},
   "outputs": [
    {
     "data": {
      "text/plain": [
       "(10000, 14)"
      ]
     },
     "execution_count": 3,
     "metadata": {},
     "output_type": "execute_result"
    }
   ],
   "source": [
    "df.shape"
   ]
  },
  {
   "cell_type": "code",
   "execution_count": 5,
   "id": "b8037d0f",
   "metadata": {},
   "outputs": [
    {
     "data": {
      "text/html": [
       "<div>\n",
       "<style scoped>\n",
       "    .dataframe tbody tr th:only-of-type {\n",
       "        vertical-align: middle;\n",
       "    }\n",
       "\n",
       "    .dataframe tbody tr th {\n",
       "        vertical-align: top;\n",
       "    }\n",
       "\n",
       "    .dataframe thead th {\n",
       "        text-align: right;\n",
       "    }\n",
       "</style>\n",
       "<table border=\"1\" class=\"dataframe\">\n",
       "  <thead>\n",
       "    <tr style=\"text-align: right;\">\n",
       "      <th></th>\n",
       "      <th>RowNumber</th>\n",
       "      <th>CustomerId</th>\n",
       "      <th>Surname</th>\n",
       "      <th>CreditScore</th>\n",
       "      <th>Geography</th>\n",
       "      <th>Gender</th>\n",
       "      <th>Age</th>\n",
       "      <th>Tenure</th>\n",
       "      <th>Balance</th>\n",
       "      <th>NumOfProducts</th>\n",
       "      <th>HasCrCard</th>\n",
       "      <th>IsActiveMember</th>\n",
       "      <th>EstimatedSalary</th>\n",
       "      <th>Exited</th>\n",
       "    </tr>\n",
       "  </thead>\n",
       "  <tbody>\n",
       "    <tr>\n",
       "      <th>0</th>\n",
       "      <td>1</td>\n",
       "      <td>15634602</td>\n",
       "      <td>Hargrave</td>\n",
       "      <td>619</td>\n",
       "      <td>France</td>\n",
       "      <td>Female</td>\n",
       "      <td>42</td>\n",
       "      <td>2</td>\n",
       "      <td>0.00</td>\n",
       "      <td>1</td>\n",
       "      <td>1</td>\n",
       "      <td>1</td>\n",
       "      <td>101348.88</td>\n",
       "      <td>1</td>\n",
       "    </tr>\n",
       "    <tr>\n",
       "      <th>1</th>\n",
       "      <td>2</td>\n",
       "      <td>15647311</td>\n",
       "      <td>Hill</td>\n",
       "      <td>608</td>\n",
       "      <td>Spain</td>\n",
       "      <td>Female</td>\n",
       "      <td>41</td>\n",
       "      <td>1</td>\n",
       "      <td>83807.86</td>\n",
       "      <td>1</td>\n",
       "      <td>0</td>\n",
       "      <td>1</td>\n",
       "      <td>112542.58</td>\n",
       "      <td>0</td>\n",
       "    </tr>\n",
       "    <tr>\n",
       "      <th>2</th>\n",
       "      <td>3</td>\n",
       "      <td>15619304</td>\n",
       "      <td>Onio</td>\n",
       "      <td>502</td>\n",
       "      <td>France</td>\n",
       "      <td>Female</td>\n",
       "      <td>42</td>\n",
       "      <td>8</td>\n",
       "      <td>159660.80</td>\n",
       "      <td>3</td>\n",
       "      <td>1</td>\n",
       "      <td>0</td>\n",
       "      <td>113931.57</td>\n",
       "      <td>1</td>\n",
       "    </tr>\n",
       "    <tr>\n",
       "      <th>3</th>\n",
       "      <td>4</td>\n",
       "      <td>15701354</td>\n",
       "      <td>Boni</td>\n",
       "      <td>699</td>\n",
       "      <td>France</td>\n",
       "      <td>Female</td>\n",
       "      <td>39</td>\n",
       "      <td>1</td>\n",
       "      <td>0.00</td>\n",
       "      <td>2</td>\n",
       "      <td>0</td>\n",
       "      <td>0</td>\n",
       "      <td>93826.63</td>\n",
       "      <td>0</td>\n",
       "    </tr>\n",
       "    <tr>\n",
       "      <th>4</th>\n",
       "      <td>5</td>\n",
       "      <td>15737888</td>\n",
       "      <td>Mitchell</td>\n",
       "      <td>850</td>\n",
       "      <td>Spain</td>\n",
       "      <td>Female</td>\n",
       "      <td>43</td>\n",
       "      <td>2</td>\n",
       "      <td>125510.82</td>\n",
       "      <td>1</td>\n",
       "      <td>1</td>\n",
       "      <td>1</td>\n",
       "      <td>79084.10</td>\n",
       "      <td>0</td>\n",
       "    </tr>\n",
       "  </tbody>\n",
       "</table>\n",
       "</div>"
      ],
      "text/plain": [
       "   RowNumber  CustomerId   Surname  CreditScore Geography  Gender  Age  \\\n",
       "0          1    15634602  Hargrave          619    France  Female   42   \n",
       "1          2    15647311      Hill          608     Spain  Female   41   \n",
       "2          3    15619304      Onio          502    France  Female   42   \n",
       "3          4    15701354      Boni          699    France  Female   39   \n",
       "4          5    15737888  Mitchell          850     Spain  Female   43   \n",
       "\n",
       "   Tenure    Balance  NumOfProducts  HasCrCard  IsActiveMember  \\\n",
       "0       2       0.00              1          1               1   \n",
       "1       1   83807.86              1          0               1   \n",
       "2       8  159660.80              3          1               0   \n",
       "3       1       0.00              2          0               0   \n",
       "4       2  125510.82              1          1               1   \n",
       "\n",
       "   EstimatedSalary  Exited  \n",
       "0        101348.88       1  \n",
       "1        112542.58       0  \n",
       "2        113931.57       1  \n",
       "3         93826.63       0  \n",
       "4         79084.10       0  "
      ]
     },
     "execution_count": 5,
     "metadata": {},
     "output_type": "execute_result"
    }
   ],
   "source": [
    "df.head()"
   ]
  },
  {
   "cell_type": "code",
   "execution_count": 6,
   "id": "da0218af",
   "metadata": {},
   "outputs": [],
   "source": [
    "x = df.iloc[:, 3:13]\n",
    "y = df.iloc[:, 13]"
   ]
  },
  {
   "cell_type": "code",
   "execution_count": 7,
   "id": "c68daad5",
   "metadata": {},
   "outputs": [
    {
     "data": {
      "text/html": [
       "<div>\n",
       "<style scoped>\n",
       "    .dataframe tbody tr th:only-of-type {\n",
       "        vertical-align: middle;\n",
       "    }\n",
       "\n",
       "    .dataframe tbody tr th {\n",
       "        vertical-align: top;\n",
       "    }\n",
       "\n",
       "    .dataframe thead th {\n",
       "        text-align: right;\n",
       "    }\n",
       "</style>\n",
       "<table border=\"1\" class=\"dataframe\">\n",
       "  <thead>\n",
       "    <tr style=\"text-align: right;\">\n",
       "      <th></th>\n",
       "      <th>CreditScore</th>\n",
       "      <th>Geography</th>\n",
       "      <th>Gender</th>\n",
       "      <th>Age</th>\n",
       "      <th>Tenure</th>\n",
       "      <th>Balance</th>\n",
       "      <th>NumOfProducts</th>\n",
       "      <th>HasCrCard</th>\n",
       "      <th>IsActiveMember</th>\n",
       "      <th>EstimatedSalary</th>\n",
       "    </tr>\n",
       "  </thead>\n",
       "  <tbody>\n",
       "    <tr>\n",
       "      <th>0</th>\n",
       "      <td>619</td>\n",
       "      <td>France</td>\n",
       "      <td>Female</td>\n",
       "      <td>42</td>\n",
       "      <td>2</td>\n",
       "      <td>0.00</td>\n",
       "      <td>1</td>\n",
       "      <td>1</td>\n",
       "      <td>1</td>\n",
       "      <td>101348.88</td>\n",
       "    </tr>\n",
       "    <tr>\n",
       "      <th>1</th>\n",
       "      <td>608</td>\n",
       "      <td>Spain</td>\n",
       "      <td>Female</td>\n",
       "      <td>41</td>\n",
       "      <td>1</td>\n",
       "      <td>83807.86</td>\n",
       "      <td>1</td>\n",
       "      <td>0</td>\n",
       "      <td>1</td>\n",
       "      <td>112542.58</td>\n",
       "    </tr>\n",
       "    <tr>\n",
       "      <th>2</th>\n",
       "      <td>502</td>\n",
       "      <td>France</td>\n",
       "      <td>Female</td>\n",
       "      <td>42</td>\n",
       "      <td>8</td>\n",
       "      <td>159660.80</td>\n",
       "      <td>3</td>\n",
       "      <td>1</td>\n",
       "      <td>0</td>\n",
       "      <td>113931.57</td>\n",
       "    </tr>\n",
       "    <tr>\n",
       "      <th>3</th>\n",
       "      <td>699</td>\n",
       "      <td>France</td>\n",
       "      <td>Female</td>\n",
       "      <td>39</td>\n",
       "      <td>1</td>\n",
       "      <td>0.00</td>\n",
       "      <td>2</td>\n",
       "      <td>0</td>\n",
       "      <td>0</td>\n",
       "      <td>93826.63</td>\n",
       "    </tr>\n",
       "    <tr>\n",
       "      <th>4</th>\n",
       "      <td>850</td>\n",
       "      <td>Spain</td>\n",
       "      <td>Female</td>\n",
       "      <td>43</td>\n",
       "      <td>2</td>\n",
       "      <td>125510.82</td>\n",
       "      <td>1</td>\n",
       "      <td>1</td>\n",
       "      <td>1</td>\n",
       "      <td>79084.10</td>\n",
       "    </tr>\n",
       "  </tbody>\n",
       "</table>\n",
       "</div>"
      ],
      "text/plain": [
       "   CreditScore Geography  Gender  Age  Tenure    Balance  NumOfProducts  \\\n",
       "0          619    France  Female   42       2       0.00              1   \n",
       "1          608     Spain  Female   41       1   83807.86              1   \n",
       "2          502    France  Female   42       8  159660.80              3   \n",
       "3          699    France  Female   39       1       0.00              2   \n",
       "4          850     Spain  Female   43       2  125510.82              1   \n",
       "\n",
       "   HasCrCard  IsActiveMember  EstimatedSalary  \n",
       "0          1               1        101348.88  \n",
       "1          0               1        112542.58  \n",
       "2          1               0        113931.57  \n",
       "3          0               0         93826.63  \n",
       "4          1               1         79084.10  "
      ]
     },
     "execution_count": 7,
     "metadata": {},
     "output_type": "execute_result"
    }
   ],
   "source": [
    "x.head()"
   ]
  },
  {
   "cell_type": "code",
   "execution_count": 8,
   "id": "4c3c1e9a",
   "metadata": {},
   "outputs": [],
   "source": [
    "geo = pd.get_dummies(x['Geography'], drop_first=True)\n",
    "gender = pd.get_dummies(x['Gender'], drop_first=True)"
   ]
  },
  {
   "cell_type": "code",
   "execution_count": 9,
   "id": "5a8e95ce",
   "metadata": {},
   "outputs": [],
   "source": [
    "x = pd.concat([x, geo, gender], axis = 1)\n",
    "x = x.drop(['Geography', 'Gender'], axis = 1)"
   ]
  },
  {
   "cell_type": "code",
   "execution_count": 10,
   "id": "5f4169f7",
   "metadata": {},
   "outputs": [],
   "source": [
    "from sklearn.model_selection import train_test_split"
   ]
  },
  {
   "cell_type": "code",
   "execution_count": 12,
   "id": "7e831ab9",
   "metadata": {},
   "outputs": [],
   "source": [
    "x_train, x_test, y_train, y_test = train_test_split(x, y, test_size = 0.2, random_state = 40)"
   ]
  },
  {
   "cell_type": "code",
   "execution_count": 13,
   "id": "b7e19940",
   "metadata": {},
   "outputs": [],
   "source": [
    "from sklearn.preprocessing import StandardScaler"
   ]
  },
  {
   "cell_type": "code",
   "execution_count": 14,
   "id": "76035c34",
   "metadata": {},
   "outputs": [],
   "source": [
    "sc = StandardScaler()"
   ]
  },
  {
   "cell_type": "code",
   "execution_count": 15,
   "id": "55dbba14",
   "metadata": {},
   "outputs": [],
   "source": [
    "x_train = sc.fit_transform(x_train)"
   ]
  },
  {
   "cell_type": "code",
   "execution_count": 16,
   "id": "6541f527",
   "metadata": {},
   "outputs": [],
   "source": [
    "x_test = sc.transform(x_test)"
   ]
  },
  {
   "cell_type": "code",
   "execution_count": 19,
   "id": "33b1e3cc",
   "metadata": {},
   "outputs": [
    {
     "data": {
      "text/plain": [
       "array([[ 2.30327906e-01,  3.64631510e+00,  1.72973112e+00, ...,\n",
       "         1.73089688e+00, -5.72346472e-01, -1.09003844e+00],\n",
       "       [ 5.40154814e-01, -1.79640575e-01, -1.38324012e+00, ...,\n",
       "        -5.77735169e-01, -5.72346472e-01,  9.17398837e-01],\n",
       "       [ 4.67861869e-01, -6.57885035e-01, -3.45583044e-01, ...,\n",
       "         1.73089688e+00, -5.72346472e-01,  9.17398837e-01],\n",
       "       ...,\n",
       "       [ 7.05395832e-01, -5.62236143e-01,  6.92074037e-01, ...,\n",
       "        -5.77735169e-01,  1.74719344e+00, -1.09003844e+00],\n",
       "       [-1.51791948e-01, -2.75289467e-01, -1.38324012e+00, ...,\n",
       "        -5.77735169e-01,  1.74719344e+00, -1.09003844e+00],\n",
       "       [ 4.57534305e-01, -7.53533926e-01,  3.02649982e-04, ...,\n",
       "        -5.77735169e-01,  1.74719344e+00, -1.09003844e+00]])"
      ]
     },
     "execution_count": 19,
     "metadata": {},
     "output_type": "execute_result"
    }
   ],
   "source": [
    "x_train"
   ]
  },
  {
   "cell_type": "markdown",
   "id": "feb6d023",
   "metadata": {},
   "source": []
  },
  {
   "cell_type": "code",
   "execution_count": 17,
   "id": "e202e92e",
   "metadata": {},
   "outputs": [],
   "source": [
    "import keras\n",
    "from keras.models import Sequential\n",
    "from keras.layers import Dense, LeakyReLU, PReLU, ELU, Dropout"
   ]
  },
  {
   "cell_type": "code",
   "execution_count": 20,
   "id": "ca59ca86",
   "metadata": {},
   "outputs": [],
   "source": [
    "model = Sequential()"
   ]
  },
  {
   "cell_type": "code",
   "execution_count": 22,
   "id": "293252f1",
   "metadata": {},
   "outputs": [
    {
     "data": {
      "text/plain": [
       "11"
      ]
     },
     "execution_count": 22,
     "metadata": {},
     "output_type": "execute_result"
    }
   ],
   "source": [
    "x_train.shape[1]"
   ]
  },
  {
   "cell_type": "code",
   "execution_count": 25,
   "id": "c95b510c",
   "metadata": {},
   "outputs": [],
   "source": [
    "model.add(Dense(\n",
    "    units = 6,\n",
    "    kernel_initializer = 'he_uniform',\n",
    "    activation = 'relu',\n",
    "    input_dim = 11\n",
    "))"
   ]
  },
  {
   "cell_type": "code",
   "execution_count": 26,
   "id": "4691c634",
   "metadata": {},
   "outputs": [],
   "source": [
    "model.add(Dense(\n",
    "    units = 6,\n",
    "    kernel_initializer = 'he_uniform',\n",
    "    activation = 'relu'\n",
    "))"
   ]
  },
  {
   "cell_type": "code",
   "execution_count": 27,
   "id": "aa83fa9b",
   "metadata": {},
   "outputs": [],
   "source": [
    "model.add(Dense(\n",
    "    units = 1,\n",
    "    kernel_initializer = 'glorot_uniform',\n",
    "    activation = 'sigmoid'\n",
    "))"
   ]
  },
  {
   "cell_type": "code",
   "execution_count": 29,
   "id": "fb6ed096",
   "metadata": {},
   "outputs": [],
   "source": [
    "model.compile(\n",
    "    optimizer = 'adam',\n",
    "    loss = 'binary_crossentropy',\n",
    "    metrics = ['accuracy']\n",
    ")"
   ]
  },
  {
   "cell_type": "code",
   "execution_count": 31,
   "id": "7bae6cb2",
   "metadata": {},
   "outputs": [
    {
     "name": "stdout",
     "output_type": "stream",
     "text": [
      "Model: \"sequential\"\n",
      "_________________________________________________________________\n",
      " Layer (type)                Output Shape              Param #   \n",
      "=================================================================\n",
      " dense (Dense)               (None, 6)                 72        \n",
      "                                                                 \n",
      " dense_1 (Dense)             (None, 6)                 42        \n",
      "                                                                 \n",
      " dense_2 (Dense)             (None, 1)                 7         \n",
      "                                                                 \n",
      "=================================================================\n",
      "Total params: 121\n",
      "Trainable params: 121\n",
      "Non-trainable params: 0\n",
      "_________________________________________________________________\n"
     ]
    }
   ],
   "source": [
    "model.summary()"
   ]
  },
  {
   "cell_type": "code",
   "execution_count": 36,
   "id": "100356e9",
   "metadata": {},
   "outputs": [
    {
     "name": "stdout",
     "output_type": "stream",
     "text": [
      "Epoch 1/100\n",
      "536/536 [==============================] - 1s 1ms/step - loss: 0.4471 - accuracy: 0.7979 - val_loss: 0.4140 - val_accuracy: 0.8220\n",
      "Epoch 2/100\n",
      "536/536 [==============================] - 1s 1ms/step - loss: 0.4358 - accuracy: 0.8099 - val_loss: 0.4059 - val_accuracy: 0.8262\n",
      "Epoch 3/100\n",
      "536/536 [==============================] - 1s 1ms/step - loss: 0.4284 - accuracy: 0.8134 - val_loss: 0.3977 - val_accuracy: 0.8254\n",
      "Epoch 4/100\n",
      "536/536 [==============================] - 1s 1ms/step - loss: 0.4222 - accuracy: 0.8184 - val_loss: 0.3950 - val_accuracy: 0.8296\n",
      "Epoch 5/100\n",
      "536/536 [==============================] - 1s 1ms/step - loss: 0.4161 - accuracy: 0.8190 - val_loss: 0.3900 - val_accuracy: 0.8319\n",
      "Epoch 6/100\n",
      "536/536 [==============================] - 1s 1ms/step - loss: 0.4112 - accuracy: 0.8225 - val_loss: 0.3848 - val_accuracy: 0.8334\n",
      "Epoch 7/100\n",
      "536/536 [==============================] - 1s 1ms/step - loss: 0.4065 - accuracy: 0.8246 - val_loss: 0.3826 - val_accuracy: 0.8360\n",
      "Epoch 8/100\n",
      "536/536 [==============================] - 1s 2ms/step - loss: 0.4022 - accuracy: 0.8278 - val_loss: 0.3768 - val_accuracy: 0.8383\n",
      "Epoch 9/100\n",
      "536/536 [==============================] - 1s 1ms/step - loss: 0.3997 - accuracy: 0.8283 - val_loss: 0.3735 - val_accuracy: 0.8417\n",
      "Epoch 10/100\n",
      "536/536 [==============================] - 1s 1ms/step - loss: 0.3959 - accuracy: 0.8324 - val_loss: 0.3700 - val_accuracy: 0.8398\n",
      "Epoch 11/100\n",
      "536/536 [==============================] - 1s 1ms/step - loss: 0.3920 - accuracy: 0.8313 - val_loss: 0.3678 - val_accuracy: 0.8432\n",
      "Epoch 12/100\n",
      "536/536 [==============================] - 1s 1ms/step - loss: 0.3879 - accuracy: 0.8328 - val_loss: 0.3622 - val_accuracy: 0.8444\n",
      "Epoch 13/100\n",
      "536/536 [==============================] - 1s 1ms/step - loss: 0.3839 - accuracy: 0.8365 - val_loss: 0.3594 - val_accuracy: 0.8455\n",
      "Epoch 14/100\n",
      "536/536 [==============================] - 1s 1ms/step - loss: 0.3801 - accuracy: 0.8386 - val_loss: 0.3525 - val_accuracy: 0.8508\n",
      "Epoch 15/100\n",
      "536/536 [==============================] - 1s 1ms/step - loss: 0.3769 - accuracy: 0.8419 - val_loss: 0.3506 - val_accuracy: 0.8489\n",
      "Epoch 16/100\n",
      "536/536 [==============================] - 1s 1ms/step - loss: 0.3739 - accuracy: 0.8431 - val_loss: 0.3487 - val_accuracy: 0.8504\n",
      "Epoch 17/100\n",
      "536/536 [==============================] - 1s 1ms/step - loss: 0.3710 - accuracy: 0.8442 - val_loss: 0.3442 - val_accuracy: 0.8554\n",
      "Epoch 18/100\n",
      "536/536 [==============================] - 1s 1ms/step - loss: 0.3685 - accuracy: 0.8442 - val_loss: 0.3442 - val_accuracy: 0.8538\n",
      "Epoch 19/100\n",
      "536/536 [==============================] - 1s 1ms/step - loss: 0.3669 - accuracy: 0.8455 - val_loss: 0.3427 - val_accuracy: 0.8584\n",
      "Epoch 20/100\n",
      "536/536 [==============================] - 1s 1ms/step - loss: 0.3648 - accuracy: 0.8457 - val_loss: 0.3412 - val_accuracy: 0.8603\n",
      "Epoch 21/100\n",
      "536/536 [==============================] - 1s 1ms/step - loss: 0.3637 - accuracy: 0.8479 - val_loss: 0.3402 - val_accuracy: 0.8569\n",
      "Epoch 22/100\n",
      "536/536 [==============================] - 1s 1ms/step - loss: 0.3618 - accuracy: 0.8472 - val_loss: 0.3424 - val_accuracy: 0.8599\n",
      "Epoch 23/100\n",
      "536/536 [==============================] - 1s 1ms/step - loss: 0.3612 - accuracy: 0.8481 - val_loss: 0.3365 - val_accuracy: 0.8588\n",
      "Epoch 24/100\n",
      "536/536 [==============================] - 1s 1ms/step - loss: 0.3595 - accuracy: 0.8483 - val_loss: 0.3370 - val_accuracy: 0.8607\n",
      "Epoch 25/100\n",
      "536/536 [==============================] - 1s 1ms/step - loss: 0.3580 - accuracy: 0.8509 - val_loss: 0.3336 - val_accuracy: 0.8629\n",
      "Epoch 26/100\n",
      "536/536 [==============================] - 1s 1ms/step - loss: 0.3568 - accuracy: 0.8518 - val_loss: 0.3340 - val_accuracy: 0.8652\n",
      "Epoch 27/100\n",
      "536/536 [==============================] - 1s 1ms/step - loss: 0.3557 - accuracy: 0.8509 - val_loss: 0.3324 - val_accuracy: 0.8652\n",
      "Epoch 28/100\n",
      "536/536 [==============================] - 1s 1ms/step - loss: 0.3547 - accuracy: 0.8520 - val_loss: 0.3309 - val_accuracy: 0.8682\n",
      "Epoch 29/100\n",
      "536/536 [==============================] - 1s 1ms/step - loss: 0.3534 - accuracy: 0.8520 - val_loss: 0.3359 - val_accuracy: 0.8629\n",
      "Epoch 30/100\n",
      "536/536 [==============================] - 1s 1ms/step - loss: 0.3532 - accuracy: 0.8531 - val_loss: 0.3306 - val_accuracy: 0.8652\n",
      "Epoch 31/100\n",
      "536/536 [==============================] - 1s 1ms/step - loss: 0.3531 - accuracy: 0.8509 - val_loss: 0.3296 - val_accuracy: 0.8667\n",
      "Epoch 32/100\n",
      "536/536 [==============================] - 1s 1ms/step - loss: 0.3518 - accuracy: 0.8533 - val_loss: 0.3324 - val_accuracy: 0.8648\n",
      "Epoch 33/100\n",
      "536/536 [==============================] - 1s 1ms/step - loss: 0.3518 - accuracy: 0.8515 - val_loss: 0.3277 - val_accuracy: 0.8656\n",
      "Epoch 34/100\n",
      "536/536 [==============================] - 1s 1ms/step - loss: 0.3508 - accuracy: 0.8535 - val_loss: 0.3275 - val_accuracy: 0.8667\n",
      "Epoch 35/100\n",
      "536/536 [==============================] - 1s 1ms/step - loss: 0.3509 - accuracy: 0.8528 - val_loss: 0.3292 - val_accuracy: 0.8679\n",
      "Epoch 36/100\n",
      "536/536 [==============================] - 1s 1ms/step - loss: 0.3510 - accuracy: 0.8541 - val_loss: 0.3282 - val_accuracy: 0.8663\n",
      "Epoch 37/100\n",
      "536/536 [==============================] - 1s 1ms/step - loss: 0.3495 - accuracy: 0.8546 - val_loss: 0.3286 - val_accuracy: 0.8679\n",
      "Epoch 38/100\n",
      "536/536 [==============================] - 1s 1ms/step - loss: 0.3495 - accuracy: 0.8556 - val_loss: 0.3311 - val_accuracy: 0.8648\n",
      "Epoch 39/100\n",
      "536/536 [==============================] - 1s 1ms/step - loss: 0.3491 - accuracy: 0.8541 - val_loss: 0.3306 - val_accuracy: 0.8675\n",
      "Epoch 40/100\n",
      "536/536 [==============================] - 1s 2ms/step - loss: 0.3492 - accuracy: 0.8546 - val_loss: 0.3268 - val_accuracy: 0.8675\n",
      "Epoch 41/100\n",
      "536/536 [==============================] - 1s 2ms/step - loss: 0.3492 - accuracy: 0.8522 - val_loss: 0.3262 - val_accuracy: 0.8694\n",
      "Epoch 42/100\n",
      "536/536 [==============================] - 1s 1ms/step - loss: 0.3487 - accuracy: 0.8537 - val_loss: 0.3322 - val_accuracy: 0.8660\n",
      "Epoch 43/100\n",
      "536/536 [==============================] - 1s 1ms/step - loss: 0.3484 - accuracy: 0.8559 - val_loss: 0.3274 - val_accuracy: 0.8671\n",
      "Epoch 44/100\n",
      "536/536 [==============================] - 1s 1ms/step - loss: 0.3481 - accuracy: 0.8552 - val_loss: 0.3274 - val_accuracy: 0.8697\n",
      "Epoch 45/100\n",
      "536/536 [==============================] - 1s 2ms/step - loss: 0.3478 - accuracy: 0.8561 - val_loss: 0.3273 - val_accuracy: 0.8682\n",
      "Epoch 46/100\n",
      "536/536 [==============================] - 1s 1ms/step - loss: 0.3479 - accuracy: 0.8543 - val_loss: 0.3290 - val_accuracy: 0.8697\n",
      "Epoch 47/100\n",
      "536/536 [==============================] - 1s 1ms/step - loss: 0.3475 - accuracy: 0.8561 - val_loss: 0.3288 - val_accuracy: 0.8682\n",
      "Epoch 48/100\n",
      "536/536 [==============================] - 1s 2ms/step - loss: 0.3477 - accuracy: 0.8543 - val_loss: 0.3271 - val_accuracy: 0.8667\n",
      "Epoch 49/100\n",
      "536/536 [==============================] - 1s 1ms/step - loss: 0.3474 - accuracy: 0.8576 - val_loss: 0.3270 - val_accuracy: 0.8679\n",
      "Epoch 50/100\n",
      "536/536 [==============================] - 1s 1ms/step - loss: 0.3469 - accuracy: 0.8550 - val_loss: 0.3303 - val_accuracy: 0.8679\n",
      "Epoch 51/100\n",
      "536/536 [==============================] - 1s 1ms/step - loss: 0.3464 - accuracy: 0.8569 - val_loss: 0.3283 - val_accuracy: 0.8701\n",
      "Epoch 52/100\n",
      "536/536 [==============================] - 1s 1ms/step - loss: 0.3471 - accuracy: 0.8550 - val_loss: 0.3284 - val_accuracy: 0.8701\n",
      "Epoch 53/100\n",
      "536/536 [==============================] - 1s 1ms/step - loss: 0.3464 - accuracy: 0.8563 - val_loss: 0.3296 - val_accuracy: 0.8671\n",
      "Epoch 54/100\n",
      "536/536 [==============================] - 1s 1ms/step - loss: 0.3463 - accuracy: 0.8571 - val_loss: 0.3281 - val_accuracy: 0.8663\n",
      "Epoch 55/100\n",
      "536/536 [==============================] - 1s 2ms/step - loss: 0.3456 - accuracy: 0.8558 - val_loss: 0.3269 - val_accuracy: 0.8686\n",
      "Epoch 56/100\n",
      "536/536 [==============================] - 1s 1ms/step - loss: 0.3459 - accuracy: 0.8554 - val_loss: 0.3265 - val_accuracy: 0.8679\n",
      "Epoch 57/100\n",
      "536/536 [==============================] - 1s 1ms/step - loss: 0.3449 - accuracy: 0.8574 - val_loss: 0.3270 - val_accuracy: 0.8716\n"
     ]
    },
    {
     "name": "stdout",
     "output_type": "stream",
     "text": [
      "Epoch 58/100\n",
      "536/536 [==============================] - 1s 2ms/step - loss: 0.3455 - accuracy: 0.8554 - val_loss: 0.3270 - val_accuracy: 0.8682\n",
      "Epoch 59/100\n",
      "536/536 [==============================] - 1s 1ms/step - loss: 0.3456 - accuracy: 0.8552 - val_loss: 0.3263 - val_accuracy: 0.8713\n",
      "Epoch 60/100\n",
      "536/536 [==============================] - 1s 1ms/step - loss: 0.3449 - accuracy: 0.8567 - val_loss: 0.3271 - val_accuracy: 0.8697\n",
      "Epoch 61/100\n",
      "536/536 [==============================] - 1s 1ms/step - loss: 0.3452 - accuracy: 0.8539 - val_loss: 0.3285 - val_accuracy: 0.8716\n",
      "Epoch 62/100\n",
      "536/536 [==============================] - 1s 2ms/step - loss: 0.3451 - accuracy: 0.8572 - val_loss: 0.3289 - val_accuracy: 0.8686\n",
      "Epoch 63/100\n",
      "536/536 [==============================] - 1s 1ms/step - loss: 0.3443 - accuracy: 0.8559 - val_loss: 0.3240 - val_accuracy: 0.8682\n",
      "Epoch 64/100\n",
      "536/536 [==============================] - 1s 1ms/step - loss: 0.3449 - accuracy: 0.8567 - val_loss: 0.3253 - val_accuracy: 0.8686\n",
      "Epoch 65/100\n",
      "536/536 [==============================] - 1s 1ms/step - loss: 0.3451 - accuracy: 0.8546 - val_loss: 0.3257 - val_accuracy: 0.8679\n",
      "Epoch 66/100\n",
      "536/536 [==============================] - 1s 1ms/step - loss: 0.3452 - accuracy: 0.8571 - val_loss: 0.3262 - val_accuracy: 0.8709\n",
      "Epoch 67/100\n",
      "536/536 [==============================] - 1s 1ms/step - loss: 0.3452 - accuracy: 0.8552 - val_loss: 0.3257 - val_accuracy: 0.8690\n",
      "Epoch 68/100\n",
      "536/536 [==============================] - 1s 1ms/step - loss: 0.3446 - accuracy: 0.8576 - val_loss: 0.3289 - val_accuracy: 0.8705\n",
      "Epoch 69/100\n",
      "536/536 [==============================] - 1s 1ms/step - loss: 0.3447 - accuracy: 0.8569 - val_loss: 0.3253 - val_accuracy: 0.8713\n",
      "Epoch 70/100\n",
      "536/536 [==============================] - 1s 1ms/step - loss: 0.3438 - accuracy: 0.8574 - val_loss: 0.3281 - val_accuracy: 0.8682\n",
      "Epoch 71/100\n",
      "536/536 [==============================] - 1s 1ms/step - loss: 0.3441 - accuracy: 0.8554 - val_loss: 0.3264 - val_accuracy: 0.8697\n",
      "Epoch 72/100\n",
      "536/536 [==============================] - 1s 1ms/step - loss: 0.3443 - accuracy: 0.8597 - val_loss: 0.3281 - val_accuracy: 0.8682\n",
      "Epoch 73/100\n",
      "536/536 [==============================] - 1s 1ms/step - loss: 0.3442 - accuracy: 0.8586 - val_loss: 0.3285 - val_accuracy: 0.8686\n",
      "Epoch 74/100\n",
      "536/536 [==============================] - 1s 1ms/step - loss: 0.3439 - accuracy: 0.8563 - val_loss: 0.3247 - val_accuracy: 0.8701\n",
      "Epoch 75/100\n",
      "536/536 [==============================] - 1s 1ms/step - loss: 0.3441 - accuracy: 0.8595 - val_loss: 0.3229 - val_accuracy: 0.8679\n",
      "Epoch 76/100\n",
      "536/536 [==============================] - 1s 1ms/step - loss: 0.3437 - accuracy: 0.8597 - val_loss: 0.3291 - val_accuracy: 0.8705\n",
      "Epoch 77/100\n",
      "536/536 [==============================] - 1s 1ms/step - loss: 0.3441 - accuracy: 0.8554 - val_loss: 0.3253 - val_accuracy: 0.8709\n",
      "Epoch 78/100\n",
      "536/536 [==============================] - 1s 1ms/step - loss: 0.3444 - accuracy: 0.8574 - val_loss: 0.3270 - val_accuracy: 0.8694\n",
      "Epoch 79/100\n",
      "536/536 [==============================] - 1s 1ms/step - loss: 0.3432 - accuracy: 0.8539 - val_loss: 0.3247 - val_accuracy: 0.8716\n",
      "Epoch 80/100\n",
      "536/536 [==============================] - 1s 1ms/step - loss: 0.3440 - accuracy: 0.8574 - val_loss: 0.3248 - val_accuracy: 0.8705\n",
      "Epoch 81/100\n",
      "536/536 [==============================] - 1s 1ms/step - loss: 0.3440 - accuracy: 0.8565 - val_loss: 0.3233 - val_accuracy: 0.8709\n",
      "Epoch 82/100\n",
      "536/536 [==============================] - 1s 1ms/step - loss: 0.3438 - accuracy: 0.8582 - val_loss: 0.3251 - val_accuracy: 0.8732\n",
      "Epoch 83/100\n",
      "536/536 [==============================] - 1s 1ms/step - loss: 0.3439 - accuracy: 0.8574 - val_loss: 0.3254 - val_accuracy: 0.8713\n",
      "Epoch 84/100\n",
      "536/536 [==============================] - 1s 1ms/step - loss: 0.3435 - accuracy: 0.8571 - val_loss: 0.3261 - val_accuracy: 0.8697\n",
      "Epoch 85/100\n",
      "536/536 [==============================] - 1s 1ms/step - loss: 0.3435 - accuracy: 0.8580 - val_loss: 0.3258 - val_accuracy: 0.8720\n",
      "Epoch 86/100\n",
      "536/536 [==============================] - 1s 1ms/step - loss: 0.3435 - accuracy: 0.8589 - val_loss: 0.3236 - val_accuracy: 0.8713\n",
      "Epoch 87/100\n",
      "536/536 [==============================] - 1s 1ms/step - loss: 0.3435 - accuracy: 0.8589 - val_loss: 0.3286 - val_accuracy: 0.8697\n",
      "Epoch 88/100\n",
      "536/536 [==============================] - 1s 1ms/step - loss: 0.3432 - accuracy: 0.8599 - val_loss: 0.3266 - val_accuracy: 0.8713\n",
      "Epoch 89/100\n",
      "536/536 [==============================] - 1s 1ms/step - loss: 0.3427 - accuracy: 0.8574 - val_loss: 0.3264 - val_accuracy: 0.8679\n",
      "Epoch 90/100\n",
      "536/536 [==============================] - 1s 1ms/step - loss: 0.3433 - accuracy: 0.8580 - val_loss: 0.3246 - val_accuracy: 0.8694\n",
      "Epoch 91/100\n",
      "536/536 [==============================] - 1s 2ms/step - loss: 0.3432 - accuracy: 0.8563 - val_loss: 0.3271 - val_accuracy: 0.8697\n",
      "Epoch 92/100\n",
      "536/536 [==============================] - 1s 1ms/step - loss: 0.3429 - accuracy: 0.8589 - val_loss: 0.3268 - val_accuracy: 0.8694\n",
      "Epoch 93/100\n",
      "536/536 [==============================] - 1s 1ms/step - loss: 0.3430 - accuracy: 0.8569 - val_loss: 0.3237 - val_accuracy: 0.8709\n",
      "Epoch 94/100\n",
      "536/536 [==============================] - 1s 1ms/step - loss: 0.3427 - accuracy: 0.8584 - val_loss: 0.3277 - val_accuracy: 0.8671\n",
      "Epoch 95/100\n",
      "536/536 [==============================] - 1s 2ms/step - loss: 0.3432 - accuracy: 0.8595 - val_loss: 0.3256 - val_accuracy: 0.8671\n",
      "Epoch 96/100\n",
      "536/536 [==============================] - 1s 1ms/step - loss: 0.3429 - accuracy: 0.8578 - val_loss: 0.3244 - val_accuracy: 0.8686\n",
      "Epoch 97/100\n",
      "536/536 [==============================] - 1s 1ms/step - loss: 0.3424 - accuracy: 0.8580 - val_loss: 0.3245 - val_accuracy: 0.8735\n",
      "Epoch 98/100\n",
      "536/536 [==============================] - 1s 1ms/step - loss: 0.3423 - accuracy: 0.8582 - val_loss: 0.3231 - val_accuracy: 0.8735\n",
      "Epoch 99/100\n",
      "536/536 [==============================] - 1s 1ms/step - loss: 0.3429 - accuracy: 0.8582 - val_loss: 0.3256 - val_accuracy: 0.8728\n",
      "Epoch 100/100\n",
      "536/536 [==============================] - 1s 1ms/step - loss: 0.3421 - accuracy: 0.8584 - val_loss: 0.3261 - val_accuracy: 0.8690\n"
     ]
    }
   ],
   "source": [
    "model_history = model.fit(\n",
    "    x_train,\n",
    "    y_train,\n",
    "    validation_split = 0.33,\n",
    "    batch_size = 10,\n",
    "    epochs = 100\n",
    ")"
   ]
  },
  {
   "cell_type": "code",
   "execution_count": 39,
   "id": "53a01e6b",
   "metadata": {},
   "outputs": [],
   "source": [
    "y_pred = model.predict(x_test)"
   ]
  },
  {
   "cell_type": "code",
   "execution_count": 42,
   "id": "ba8ff3d2",
   "metadata": {},
   "outputs": [],
   "source": [
    "y_pred = (y_pred > 0.5)"
   ]
  },
  {
   "cell_type": "code",
   "execution_count": 43,
   "id": "f0589185",
   "metadata": {},
   "outputs": [],
   "source": [
    "from sklearn.metrics import confusion_matrix"
   ]
  },
  {
   "cell_type": "code",
   "execution_count": 44,
   "id": "b805a58b",
   "metadata": {},
   "outputs": [
    {
     "data": {
      "text/plain": [
       "array([[1538,   78],\n",
       "       [ 184,  200]], dtype=int64)"
      ]
     },
     "execution_count": 44,
     "metadata": {},
     "output_type": "execute_result"
    }
   ],
   "source": [
    "confusion_matrix(y_test, y_pred)"
   ]
  },
  {
   "cell_type": "code",
   "execution_count": 45,
   "id": "625d2523",
   "metadata": {},
   "outputs": [],
   "source": [
    "from sklearn.metrics import accuracy_score"
   ]
  },
  {
   "cell_type": "code",
   "execution_count": 46,
   "id": "fe18c55e",
   "metadata": {},
   "outputs": [
    {
     "data": {
      "text/plain": [
       "0.869"
      ]
     },
     "execution_count": 46,
     "metadata": {},
     "output_type": "execute_result"
    }
   ],
   "source": [
    "accuracy_score(y_test, y_pred)"
   ]
  }
 ],
 "metadata": {
  "kernelspec": {
   "display_name": "Python 3 (ipykernel)",
   "language": "python",
   "name": "python3"
  },
  "language_info": {
   "codemirror_mode": {
    "name": "ipython",
    "version": 3
   },
   "file_extension": ".py",
   "mimetype": "text/x-python",
   "name": "python",
   "nbconvert_exporter": "python",
   "pygments_lexer": "ipython3",
   "version": "3.10.2"
  }
 },
 "nbformat": 4,
 "nbformat_minor": 5
}
