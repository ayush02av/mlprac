{
 "cells": [
  {
   "attachments": {},
   "cell_type": "markdown",
   "metadata": {},
   "source": [
    "# Loading"
   ]
  },
  {
   "cell_type": "code",
   "execution_count": 2,
   "metadata": {},
   "outputs": [],
   "source": [
    "import pandas as pd"
   ]
  },
  {
   "cell_type": "code",
   "execution_count": 3,
   "metadata": {},
   "outputs": [],
   "source": [
    "y = pd.read_csv('df_stem.csv')"
   ]
  },
  {
   "cell_type": "code",
   "execution_count": 4,
   "metadata": {},
   "outputs": [],
   "source": [
    "y = y.sentiment"
   ]
  },
  {
   "cell_type": "code",
   "execution_count": 5,
   "metadata": {},
   "outputs": [
    {
     "data": {
      "text/plain": [
       "0    1\n",
       "1    1\n",
       "2    1\n",
       "3    0\n",
       "4    1\n",
       "Name: sentiment, dtype: int64"
      ]
     },
     "execution_count": 5,
     "metadata": {},
     "output_type": "execute_result"
    }
   ],
   "source": [
    "y.head()"
   ]
  },
  {
   "cell_type": "code",
   "execution_count": 6,
   "metadata": {},
   "outputs": [],
   "source": [
    "x = pd.read_csv('df_vector.csv')"
   ]
  },
  {
   "cell_type": "code",
   "execution_count": 7,
   "metadata": {},
   "outputs": [
    {
     "data": {
      "text/html": [
       "<div>\n",
       "<style scoped>\n",
       "    .dataframe tbody tr th:only-of-type {\n",
       "        vertical-align: middle;\n",
       "    }\n",
       "\n",
       "    .dataframe tbody tr th {\n",
       "        vertical-align: top;\n",
       "    }\n",
       "\n",
       "    .dataframe thead th {\n",
       "        text-align: right;\n",
       "    }\n",
       "</style>\n",
       "<table border=\"1\" class=\"dataframe\">\n",
       "  <thead>\n",
       "    <tr style=\"text-align: right;\">\n",
       "      <th></th>\n",
       "      <th>Unnamed: 0</th>\n",
       "      <th>0</th>\n",
       "      <th>1</th>\n",
       "      <th>2</th>\n",
       "      <th>3</th>\n",
       "      <th>4</th>\n",
       "      <th>5</th>\n",
       "      <th>6</th>\n",
       "      <th>7</th>\n",
       "      <th>8</th>\n",
       "      <th>...</th>\n",
       "      <th>90</th>\n",
       "      <th>91</th>\n",
       "      <th>92</th>\n",
       "      <th>93</th>\n",
       "      <th>94</th>\n",
       "      <th>95</th>\n",
       "      <th>96</th>\n",
       "      <th>97</th>\n",
       "      <th>98</th>\n",
       "      <th>99</th>\n",
       "    </tr>\n",
       "  </thead>\n",
       "  <tbody>\n",
       "    <tr>\n",
       "      <th>0</th>\n",
       "      <td>0</td>\n",
       "      <td>-0.251147</td>\n",
       "      <td>0.561305</td>\n",
       "      <td>0.126222</td>\n",
       "      <td>-0.094850</td>\n",
       "      <td>0.114038</td>\n",
       "      <td>-0.859551</td>\n",
       "      <td>-0.240192</td>\n",
       "      <td>0.361602</td>\n",
       "      <td>-0.432211</td>\n",
       "      <td>...</td>\n",
       "      <td>0.321737</td>\n",
       "      <td>0.545179</td>\n",
       "      <td>0.062861</td>\n",
       "      <td>0.241012</td>\n",
       "      <td>-0.001750</td>\n",
       "      <td>0.349589</td>\n",
       "      <td>0.236443</td>\n",
       "      <td>-0.480595</td>\n",
       "      <td>0.375254</td>\n",
       "      <td>-0.430951</td>\n",
       "    </tr>\n",
       "    <tr>\n",
       "      <th>1</th>\n",
       "      <td>1</td>\n",
       "      <td>-0.351663</td>\n",
       "      <td>0.121878</td>\n",
       "      <td>-0.120232</td>\n",
       "      <td>-0.553368</td>\n",
       "      <td>0.182102</td>\n",
       "      <td>-1.230392</td>\n",
       "      <td>0.201216</td>\n",
       "      <td>0.558062</td>\n",
       "      <td>-0.544723</td>\n",
       "      <td>...</td>\n",
       "      <td>0.239608</td>\n",
       "      <td>0.648976</td>\n",
       "      <td>0.118813</td>\n",
       "      <td>0.202644</td>\n",
       "      <td>-0.037746</td>\n",
       "      <td>0.672800</td>\n",
       "      <td>0.460015</td>\n",
       "      <td>-0.634437</td>\n",
       "      <td>0.277175</td>\n",
       "      <td>-0.146046</td>\n",
       "    </tr>\n",
       "    <tr>\n",
       "      <th>2</th>\n",
       "      <td>2</td>\n",
       "      <td>-0.552294</td>\n",
       "      <td>0.300187</td>\n",
       "      <td>-0.094526</td>\n",
       "      <td>-0.310396</td>\n",
       "      <td>-0.018994</td>\n",
       "      <td>-0.820702</td>\n",
       "      <td>0.353900</td>\n",
       "      <td>0.716587</td>\n",
       "      <td>-0.478776</td>\n",
       "      <td>...</td>\n",
       "      <td>0.316577</td>\n",
       "      <td>0.510552</td>\n",
       "      <td>0.079388</td>\n",
       "      <td>0.559151</td>\n",
       "      <td>-0.047210</td>\n",
       "      <td>0.351930</td>\n",
       "      <td>0.533410</td>\n",
       "      <td>-0.288712</td>\n",
       "      <td>0.183992</td>\n",
       "      <td>-0.352972</td>\n",
       "    </tr>\n",
       "    <tr>\n",
       "      <th>3</th>\n",
       "      <td>3</td>\n",
       "      <td>-0.233144</td>\n",
       "      <td>0.494998</td>\n",
       "      <td>0.041341</td>\n",
       "      <td>-0.211720</td>\n",
       "      <td>-0.121327</td>\n",
       "      <td>-0.502161</td>\n",
       "      <td>0.055911</td>\n",
       "      <td>0.394001</td>\n",
       "      <td>-0.394661</td>\n",
       "      <td>...</td>\n",
       "      <td>0.094764</td>\n",
       "      <td>0.917627</td>\n",
       "      <td>0.364555</td>\n",
       "      <td>0.159884</td>\n",
       "      <td>-0.202905</td>\n",
       "      <td>0.805818</td>\n",
       "      <td>0.485097</td>\n",
       "      <td>-0.742107</td>\n",
       "      <td>0.061896</td>\n",
       "      <td>-0.303398</td>\n",
       "    </tr>\n",
       "    <tr>\n",
       "      <th>4</th>\n",
       "      <td>4</td>\n",
       "      <td>-0.376380</td>\n",
       "      <td>0.266668</td>\n",
       "      <td>-0.131451</td>\n",
       "      <td>-0.053470</td>\n",
       "      <td>0.472519</td>\n",
       "      <td>-1.122471</td>\n",
       "      <td>0.230775</td>\n",
       "      <td>0.287217</td>\n",
       "      <td>-0.643272</td>\n",
       "      <td>...</td>\n",
       "      <td>0.239622</td>\n",
       "      <td>0.739376</td>\n",
       "      <td>0.068496</td>\n",
       "      <td>0.188084</td>\n",
       "      <td>0.096164</td>\n",
       "      <td>0.574591</td>\n",
       "      <td>0.168376</td>\n",
       "      <td>-0.363870</td>\n",
       "      <td>0.606393</td>\n",
       "      <td>-0.529876</td>\n",
       "    </tr>\n",
       "  </tbody>\n",
       "</table>\n",
       "<p>5 rows × 101 columns</p>\n",
       "</div>"
      ],
      "text/plain": [
       "   Unnamed: 0         0         1         2         3         4         5   \n",
       "0           0 -0.251147  0.561305  0.126222 -0.094850  0.114038 -0.859551  \\\n",
       "1           1 -0.351663  0.121878 -0.120232 -0.553368  0.182102 -1.230392   \n",
       "2           2 -0.552294  0.300187 -0.094526 -0.310396 -0.018994 -0.820702   \n",
       "3           3 -0.233144  0.494998  0.041341 -0.211720 -0.121327 -0.502161   \n",
       "4           4 -0.376380  0.266668 -0.131451 -0.053470  0.472519 -1.122471   \n",
       "\n",
       "          6         7         8  ...        90        91        92        93   \n",
       "0 -0.240192  0.361602 -0.432211  ...  0.321737  0.545179  0.062861  0.241012  \\\n",
       "1  0.201216  0.558062 -0.544723  ...  0.239608  0.648976  0.118813  0.202644   \n",
       "2  0.353900  0.716587 -0.478776  ...  0.316577  0.510552  0.079388  0.559151   \n",
       "3  0.055911  0.394001 -0.394661  ...  0.094764  0.917627  0.364555  0.159884   \n",
       "4  0.230775  0.287217 -0.643272  ...  0.239622  0.739376  0.068496  0.188084   \n",
       "\n",
       "         94        95        96        97        98        99  \n",
       "0 -0.001750  0.349589  0.236443 -0.480595  0.375254 -0.430951  \n",
       "1 -0.037746  0.672800  0.460015 -0.634437  0.277175 -0.146046  \n",
       "2 -0.047210  0.351930  0.533410 -0.288712  0.183992 -0.352972  \n",
       "3 -0.202905  0.805818  0.485097 -0.742107  0.061896 -0.303398  \n",
       "4  0.096164  0.574591  0.168376 -0.363870  0.606393 -0.529876  \n",
       "\n",
       "[5 rows x 101 columns]"
      ]
     },
     "execution_count": 7,
     "metadata": {},
     "output_type": "execute_result"
    }
   ],
   "source": [
    "x.head()"
   ]
  },
  {
   "cell_type": "code",
   "execution_count": 8,
   "metadata": {},
   "outputs": [],
   "source": [
    "x = x.iloc[:, 1:]"
   ]
  },
  {
   "attachments": {},
   "cell_type": "markdown",
   "metadata": {},
   "source": [
    "## Training and Testing"
   ]
  },
  {
   "cell_type": "code",
   "execution_count": 9,
   "metadata": {},
   "outputs": [],
   "source": [
    "from sklearn.model_selection import train_test_split\n",
    "from sklearn.ensemble import RandomForestClassifier\n",
    "from sklearn.metrics import accuracy_score, confusion_matrix, classification_report"
   ]
  },
  {
   "cell_type": "code",
   "execution_count": 12,
   "metadata": {},
   "outputs": [],
   "source": [
    "def train_and_test(x, y):\n",
    "    x_train, x_test, y_train, y_test = train_test_split(\n",
    "        x, y,\n",
    "        test_size = 0.3,\n",
    "        random_state = 42\n",
    "    )\n",
    "    \n",
    "    model = RandomForestClassifier(n_estimators = 500)\n",
    "    model.fit(x_train, y_train)\n",
    "    \n",
    "    y_pred = model.predict(x_test)\n",
    "    \n",
    "    print(\"Accuracy Score:\", accuracy_score(y_test, y_pred), sep = '\\n', end = '\\n\\n')\n",
    "    print(\"Confusion Matrix:\", confusion_matrix(y_test, y_pred), sep = '\\n', end = '\\n\\n')\n",
    "    print(\"Classification Report\", classification_report(y_test, y_pred), sep = '\\n', end = '\\n\\n')"
   ]
  },
  {
   "cell_type": "code",
   "execution_count": 13,
   "metadata": {},
   "outputs": [
    {
     "name": "stdout",
     "output_type": "stream",
     "text": [
      "Accuracy Score:\n",
      "0.8353333333333334\n",
      "\n",
      "Confusion Matrix:\n",
      "[[6038 1373]\n",
      " [1097 6492]]\n",
      "\n",
      "Classification Report\n",
      "              precision    recall  f1-score   support\n",
      "\n",
      "           0       0.85      0.81      0.83      7411\n",
      "           1       0.83      0.86      0.84      7589\n",
      "\n",
      "    accuracy                           0.84     15000\n",
      "   macro avg       0.84      0.84      0.84     15000\n",
      "weighted avg       0.84      0.84      0.84     15000\n",
      "\n",
      "\n"
     ]
    }
   ],
   "source": [
    "train_and_test(x, y)"
   ]
  },
  {
   "cell_type": "code",
   "execution_count": null,
   "metadata": {},
   "outputs": [],
   "source": []
  }
 ],
 "metadata": {
  "kernelspec": {
   "display_name": "Python 3",
   "language": "python",
   "name": "python3"
  },
  "language_info": {
   "codemirror_mode": {
    "name": "ipython",
    "version": 3
   },
   "file_extension": ".py",
   "mimetype": "text/x-python",
   "name": "python",
   "nbconvert_exporter": "python",
   "pygments_lexer": "ipython3",
   "version": "3.11.3"
  },
  "orig_nbformat": 4
 },
 "nbformat": 4,
 "nbformat_minor": 2
}
